{
  "nbformat": 4,
  "nbformat_minor": 0,
  "metadata": {
    "colab": {
      "name": "lec2.ipynb",
      "provenance": [],
      "collapsed_sections": [],
      "include_colab_link": true
    },
    "kernelspec": {
      "name": "python3",
      "display_name": "Python 3"
    }
  },
  "cells": [
    {
      "cell_type": "markdown",
      "metadata": {
        "id": "view-in-github",
        "colab_type": "text"
      },
      "source": [
        "<a href=\"https://colab.research.google.com/github/vikpy/mtechdatascience_mlcourse/blob/master/lec2.ipynb\" target=\"_parent\"><img src=\"https://colab.research.google.com/assets/colab-badge.svg\" alt=\"Open In Colab\"/></a>"
      ]
    },
    {
      "cell_type": "code",
      "metadata": {
        "id": "88w2y-tWpUYO",
        "colab_type": "code",
        "colab": {}
      },
      "source": [
        "#Simple linear regression\n",
        "\n",
        "\n",
        "import numpy as np \n",
        "import matplotlib.pyplot as plt\n",
        "import pandas as pd\n",
        "\n"
      ],
      "execution_count": 0,
      "outputs": []
    },
    {
      "cell_type": "code",
      "metadata": {
        "id": "FtKe8l0g-lYw",
        "colab_type": "code",
        "colab": {}
      },
      "source": [
        "# Sesion 1 "
      ],
      "execution_count": 0,
      "outputs": []
    },
    {
      "cell_type": "code",
      "metadata": {
        "id": "-KDqQqgmrxDt",
        "colab_type": "code",
        "colab": {
          "base_uri": "https://localhost:8080/",
          "height": 195
        },
        "outputId": "10a3043c-979a-4ce6-df51-5369a5e060d9"
      },
      "source": [
        "dataset = pd.read_csv(\"/content/Salary_Data.csv\")\n",
        "dataset.head(5)"
      ],
      "execution_count": 4,
      "outputs": [
        {
          "output_type": "execute_result",
          "data": {
            "text/html": [
              "<div>\n",
              "<style scoped>\n",
              "    .dataframe tbody tr th:only-of-type {\n",
              "        vertical-align: middle;\n",
              "    }\n",
              "\n",
              "    .dataframe tbody tr th {\n",
              "        vertical-align: top;\n",
              "    }\n",
              "\n",
              "    .dataframe thead th {\n",
              "        text-align: right;\n",
              "    }\n",
              "</style>\n",
              "<table border=\"1\" class=\"dataframe\">\n",
              "  <thead>\n",
              "    <tr style=\"text-align: right;\">\n",
              "      <th></th>\n",
              "      <th>YearsExperience</th>\n",
              "      <th>Salary</th>\n",
              "    </tr>\n",
              "  </thead>\n",
              "  <tbody>\n",
              "    <tr>\n",
              "      <th>0</th>\n",
              "      <td>1.1</td>\n",
              "      <td>39343</td>\n",
              "    </tr>\n",
              "    <tr>\n",
              "      <th>1</th>\n",
              "      <td>1.3</td>\n",
              "      <td>46205</td>\n",
              "    </tr>\n",
              "    <tr>\n",
              "      <th>2</th>\n",
              "      <td>1.5</td>\n",
              "      <td>37731</td>\n",
              "    </tr>\n",
              "    <tr>\n",
              "      <th>3</th>\n",
              "      <td>2.0</td>\n",
              "      <td>43525</td>\n",
              "    </tr>\n",
              "    <tr>\n",
              "      <th>4</th>\n",
              "      <td>2.2</td>\n",
              "      <td>39891</td>\n",
              "    </tr>\n",
              "  </tbody>\n",
              "</table>\n",
              "</div>"
            ],
            "text/plain": [
              "   YearsExperience  Salary\n",
              "0              1.1   39343\n",
              "1              1.3   46205\n",
              "2              1.5   37731\n",
              "3              2.0   43525\n",
              "4              2.2   39891"
            ]
          },
          "metadata": {
            "tags": []
          },
          "execution_count": 4
        }
      ]
    },
    {
      "cell_type": "code",
      "metadata": {
        "id": "PHgdEhJ0sBQH",
        "colab_type": "code",
        "colab": {
          "base_uri": "https://localhost:8080/",
          "height": 672
        },
        "outputId": "33e8bb1d-b2cd-4699-906a-9310957bd39d"
      },
      "source": [
        "X = dataset.iloc[ : , :-1].values\n",
        "print(\"**********************************************************************\")\n",
        "print(\"X\")\n",
        "print(X)\n",
        "print(\"**********************************************************************\")\n",
        "\n",
        "\n",
        "y = dataset.iloc[: , -1].values\n",
        "\n",
        "print(\"**********************************************************************\")\n",
        "print(\"y\")\n",
        "print(y)\n",
        "print(\"**********************************************************************\")\n",
        "\n"
      ],
      "execution_count": 5,
      "outputs": [
        {
          "output_type": "stream",
          "text": [
            "**********************************************************************\n",
            "X\n",
            "[[ 1.1]\n",
            " [ 1.3]\n",
            " [ 1.5]\n",
            " [ 2. ]\n",
            " [ 2.2]\n",
            " [ 2.9]\n",
            " [ 3. ]\n",
            " [ 3.2]\n",
            " [ 3.2]\n",
            " [ 3.7]\n",
            " [ 3.9]\n",
            " [ 4. ]\n",
            " [ 4. ]\n",
            " [ 4.1]\n",
            " [ 4.5]\n",
            " [ 4.9]\n",
            " [ 5.1]\n",
            " [ 5.3]\n",
            " [ 5.9]\n",
            " [ 6. ]\n",
            " [ 6.8]\n",
            " [ 7.1]\n",
            " [ 7.9]\n",
            " [ 8.2]\n",
            " [ 8.7]\n",
            " [ 9. ]\n",
            " [ 9.5]\n",
            " [ 9.6]\n",
            " [10.3]\n",
            " [10.5]]\n",
            "**********************************************************************\n",
            "**********************************************************************\n",
            "y\n",
            "[ 39343  46205  37731  43525  39891  56642  60150  54445  64445  57189\n",
            "  63218  55794  56957  57081  61111  67938  66029  83088  81363  93940\n",
            "  91738  98273 101302 113812 109431 105582 116969 112635 122391 121872]\n",
            "**********************************************************************\n"
          ],
          "name": "stdout"
        }
      ]
    },
    {
      "cell_type": "code",
      "metadata": {
        "id": "Q3RAdjf8snzG",
        "colab_type": "code",
        "colab": {}
      },
      "source": [
        "# Splitting the dataset into train and test sets \n",
        "from sklearn.model_selection import train_test_split \n",
        "# 80-20 ratio the model is split into train and test\n",
        "X_train, X_test, y_train, y_test = train_test_split(X, y, test_size = 1/5, random_state = 0)"
      ],
      "execution_count": 0,
      "outputs": []
    },
    {
      "cell_type": "code",
      "metadata": {
        "id": "o-hQlaVlvg0P",
        "colab_type": "code",
        "colab": {}
      },
      "source": [
        "# For this particular model we do not need feature scaling "
      ],
      "execution_count": 0,
      "outputs": []
    },
    {
      "cell_type": "code",
      "metadata": {
        "id": "zpbb35yGvnMq",
        "colab_type": "code",
        "colab": {
          "base_uri": "https://localhost:8080/",
          "height": 34
        },
        "outputId": "02b4e9d0-ab03-4dfb-c225-2b57b03e01ca"
      },
      "source": [
        "# Fitting the model using the training data\n",
        "from sklearn.linear_model import LinearRegression \n",
        "lm = LinearRegression()\n",
        "lm.fit(X_train, y_train)\n"
      ],
      "execution_count": 10,
      "outputs": [
        {
          "output_type": "execute_result",
          "data": {
            "text/plain": [
              "LinearRegression(copy_X=True, fit_intercept=True, n_jobs=None, normalize=False)"
            ]
          },
          "metadata": {
            "tags": []
          },
          "execution_count": 10
        }
      ]
    },
    {
      "cell_type": "code",
      "metadata": {
        "id": "HKSfKCTtwkpi",
        "colab_type": "code",
        "colab": {
          "base_uri": "https://localhost:8080/",
          "height": 151
        },
        "outputId": "768cc9c6-3a51-4743-d378-8b095ad0fdf2"
      },
      "source": [
        "# Predicting the Test set using predict\n",
        "y_pred = lm.predict(X_test)\n",
        "X_test, y_pred"
      ],
      "execution_count": 14,
      "outputs": [
        {
          "output_type": "execute_result",
          "data": {
            "text/plain": [
              "(array([[ 1.5],\n",
              "        [10.3],\n",
              "        [ 4.1],\n",
              "        [ 3.9],\n",
              "        [ 9.5],\n",
              "        [ 8.7]]),\n",
              " array([ 40748.96184072, 122699.62295594,  64961.65717022,  63099.14214487,\n",
              "        115249.56285456, 107799.50275317]))"
            ]
          },
          "metadata": {
            "tags": []
          },
          "execution_count": 14
        }
      ]
    },
    {
      "cell_type": "code",
      "metadata": {
        "id": "YX2tHL0Gw6rR",
        "colab_type": "code",
        "colab": {
          "base_uri": "https://localhost:8080/",
          "height": 295
        },
        "outputId": "b608b4d3-47d1-4583-9c8f-2a4e83be35e2"
      },
      "source": [
        "# Visualizing the Training the set results \n",
        "plt.scatter(X_train, y_train, color = 'red')\n",
        "#plt.plot(X_train, y_train, color = 'blue')\n",
        "plt.plot(X_train, lm.predict(X_train), color='blue')\n",
        "plt.title(\"Salary vs Experiance(Training Set)\")\n",
        "plt.xlabel(\"Years of Experience\")\n",
        "plt.ylabel(\"Salary\")\n",
        "plt.show()"
      ],
      "execution_count": 18,
      "outputs": [
        {
          "output_type": "display_data",
          "data": {
            "image/png": "[encoded data removed]",
            "text/plain": [
              "<Figure size 432x288 with 1 Axes>"
            ]
          },
          "metadata": {
            "tags": []
          }
        }
      ]
    },
    {
      "cell_type": "code",
      "metadata": {
        "id": "MkFc_bHlzoSZ",
        "colab_type": "code",
        "colab": {
          "base_uri": "https://localhost:8080/",
          "height": 295
        },
        "outputId": "ca12c568-02a5-470f-832c-86a56309590c"
      },
      "source": [
        "plt.scatter(X_test, y_test, color = 'red')\n",
        "plt.plot(X_test, y_pred, color='blue')\n",
        "plt.title(\"Salary vs Experiance(Testing Set)\")\n",
        "plt.xlabel(\"Years of Experience\")\n",
        "plt.ylabel(\"Salary\")\n",
        "plt.show()"
      ],
      "execution_count": 21,
      "outputs": [
        {
          "output_type": "display_data",
          "data": {
            "image/png": "[encoded data removed]",
            "text/plain": [
              "<Figure size 432x288 with 1 Axes>"
            ]
          },
          "metadata": {
            "tags": []
          }
        }
      ]
    },
    {
      "cell_type": "code",
      "metadata": {
        "id": "j9zv91zb0LsV",
        "colab_type": "code",
        "colab": {
          "base_uri": "https://localhost:8080/",
          "height": 54
        },
        "outputId": "0895e04f-6c67-46cb-e3f7-9d8b42db4676"
      },
      "source": [
        "print( {\n",
        "                               'X test' : X_test.tolist(),\n",
        "                                'y Test' : y_test.tolist(),\n",
        "                                'y pred' : y_pred.tolist()\n",
        "})"
      ],
      "execution_count": 37,
      "outputs": [
        {
          "output_type": "stream",
          "text": [
            "{'X test': [[1.5], [10.3], [4.1], [3.9], [9.5], [8.7]], 'y Test': [37731, 122391, 57081, 63218, 116969, 109431], 'y pred': [40748.96184072196, 122699.62295593883, 64961.65717021785, 63099.142144872014, 115249.56285455546, 107799.50275317213]}\n"
          ],
          "name": "stdout"
        }
      ]
    },
    {
      "cell_type": "code",
      "metadata": {
        "id": "KtHF9TWR-hz9",
        "colab_type": "code",
        "colab": {}
      },
      "source": [
        "# Session 2 "
      ],
      "execution_count": 0,
      "outputs": []
    },
    {
      "cell_type": "code",
      "metadata": {
        "id": "Ozx8-DBa_Ah8",
        "colab_type": "code",
        "colab": {}
      },
      "source": [
        "#Importing the data \n",
        "dataset_2  = pd.read_csv(\"/content/Social_Network_Ads.csv\")\n",
        "dataset_2.head(5)\n",
        "X = dataset_2.iloc[:, [2,3]].values\n",
        "y = dataset_2.iloc[:, 4].values"
      ],
      "execution_count": 0,
      "outputs": []
    },
    {
      "cell_type": "code",
      "metadata": {
        "id": "RAMfUIFyHAFs",
        "colab_type": "code",
        "colab": {
          "base_uri": "https://localhost:8080/",
          "height": 118
        },
        "outputId": "105cee2c-d182-4301-ff15-cb2034845709"
      },
      "source": [
        "# Checking for the null values\n",
        "dataset_2.isnull().sum()"
      ],
      "execution_count": 59,
      "outputs": [
        {
          "output_type": "execute_result",
          "data": {
            "text/plain": [
              "User ID            0\n",
              "Gender             0\n",
              "Age                0\n",
              "EstimatedSalary    0\n",
              "Purchased          0\n",
              "dtype: int64"
            ]
          },
          "metadata": {
            "tags": []
          },
          "execution_count": 59
        }
      ]
    },
    {
      "cell_type": "code",
      "metadata": {
        "id": "9bhDW_0VD1Rl",
        "colab_type": "code",
        "colab": {}
      },
      "source": [
        "# Splitting the data into train and test \n",
        "X_train, X_test, y_train, y_test =  train_test_split(X,y, test_size = 1/5, random_state=5 )"
      ],
      "execution_count": 0,
      "outputs": []
    },
    {
      "cell_type": "code",
      "metadata": {
        "id": "qkrLIOEXGMKk",
        "colab_type": "code",
        "colab": {}
      },
      "source": [
        "# Feature Scaling \n",
        "from sklearn.preprocessing import StandardScaler\n",
        "sc = StandardScaler()\n",
        "X_train = sc.fit_transform(X_train)\n",
        "X_test = sc.fit_transform(X_test)"
      ],
      "execution_count": 0,
      "outputs": []
    },
    {
      "cell_type": "code",
      "metadata": {
        "id": "ileCRsQRIR5V",
        "colab_type": "code",
        "colab": {
          "base_uri": "https://localhost:8080/",
          "height": 154
        },
        "outputId": "873e6e1f-78af-409b-dace-50285cdba164"
      },
      "source": [
        "# Fitting Logistic Regression to the model \n",
        "from sklearn.linear_model import LogisticRegression \n",
        "classifier = LogisticRegression(random_state = 1)\n",
        "classifier.fit(X_train, y_train)"
      ],
      "execution_count": 63,
      "outputs": [
        {
          "output_type": "stream",
          "text": [
            "/usr/local/lib/python3.6/dist-packages/sklearn/linear_model/logistic.py:432: FutureWarning: Default solver will be changed to 'lbfgs' in 0.22. Specify a solver to silence this warning.\n",
            "  FutureWarning)\n"
          ],
          "name": "stderr"
        },
        {
          "output_type": "execute_result",
          "data": {
            "text/plain": [
              "LogisticRegression(C=1.0, class_weight=None, dual=False, fit_intercept=True,\n",
              "                   intercept_scaling=1, l1_ratio=None, max_iter=100,\n",
              "                   multi_class='warn', n_jobs=None, penalty='l2',\n",
              "                   random_state=1, solver='warn', tol=0.0001, verbose=0,\n",
              "                   warm_start=False)"
            ]
          },
          "metadata": {
            "tags": []
          },
          "execution_count": 63
        }
      ]
    },
    {
      "cell_type": "code",
      "metadata": {
        "id": "gPCLpdLUIz3f",
        "colab_type": "code",
        "colab": {}
      },
      "source": [
        "# Predicting the test set results \n",
        "y_pred = classifier.predict(X_test)"
      ],
      "execution_count": 0,
      "outputs": []
    },
    {
      "cell_type": "code",
      "metadata": {
        "id": "6d9m05GzI-fx",
        "colab_type": "code",
        "colab": {
          "base_uri": "https://localhost:8080/",
          "height": 50
        },
        "outputId": "1eaf1de0-c320-439a-8aa5-908f124a229a"
      },
      "source": [
        "# Making the Confusion Matrix \n",
        "from sklearn.metrics import confusion_matrix \n",
        "cm  = confusion_matrix(y_test, y_pred)\n",
        "cm"
      ],
      "execution_count": 67,
      "outputs": [
        {
          "output_type": "execute_result",
          "data": {
            "text/plain": [
              "array([[44,  9],\n",
              "       [ 4, 23]])"
            ]
          },
          "metadata": {
            "tags": []
          },
          "execution_count": 67
        }
      ]
    }
  ]
}