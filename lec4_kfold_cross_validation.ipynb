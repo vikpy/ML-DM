{
  "nbformat": 4,
  "nbformat_minor": 0,
  "metadata": {
    "colab": {
      "name": "lec4_kfold_cross_validation.ipynb",
      "provenance": [],
      "collapsed_sections": [],
      "authorship_tag": "ABX9TyOyRCI8aqd9KWl17Vn9KFHn",
      "include_colab_link": true
    },
    "kernelspec": {
      "name": "python3",
      "display_name": "Python 3"
    }
  },
  "cells": [
    {
      "cell_type": "markdown",
      "metadata": {
        "id": "view-in-github",
        "colab_type": "text"
      },
      "source": [
        "<a href=\"https://colab.research.google.com/github/vikpy/mtechdatascience_mlcourse/blob/master/lec4_kfold_cross_validation.ipynb\" target=\"_parent\"><img src=\"https://colab.research.google.com/assets/colab-badge.svg\" alt=\"Open In Colab\"/></a>"
      ]
    },
    {
      "cell_type": "code",
      "metadata": {
        "id": "b9aQTwAtlrPf",
        "colab_type": "code",
        "outputId": "951411ed-8b9d-4d6a-9c42-86715ffd8871",
        "colab": {
          "base_uri": "https://localhost:8080/",
          "height": 121
        }
      },
      "source": [
        "from google.colab import drive\n",
        "drive.mount('/content/drive')"
      ],
      "execution_count": 1,
      "outputs": [
        {
          "output_type": "stream",
          "text": [
            "Go to this URL in a browser: https://accounts.google.com/o/oauth2/auth?client_id=947318989803-6bn6qk8qdgf4n4g3pfee6491hc0brc4i.apps.googleusercontent.com&redirect_uri=urn%3aietf%3awg%3aoauth%3a2.0%3aoob&response_type=code&scope=email%20https%3a%2f%2fwww.googleapis.com%2fauth%2fdocs.test%20https%3a%2f%2fwww.googleapis.com%2fauth%2fdrive%20https%3a%2f%2fwww.googleapis.com%2fauth%2fdrive.photos.readonly%20https%3a%2f%2fwww.googleapis.com%2fauth%2fpeopleapi.readonly\n",
            "\n",
            "Enter your authorization code:\n",
            "··········\n",
            "Mounted at /content/drive\n"
          ],
          "name": "stdout"
        }
      ]
    },
    {
      "cell_type": "code",
      "metadata": {
        "id": "s5X2idYglv3Q",
        "colab_type": "code",
        "colab": {}
      },
      "source": [
        "import numpy as np\n",
        "import matplotlib.pyplot as plt\n",
        "import scipy\n",
        "import pandas as pd\n",
        "import math\n",
        "import random\n",
        "\n",
        "import statsmodels.api as sm\n",
        "import statsmodels.formula.api as smf\n",
        "from statsmodels.graphics.regressionplots import*\n",
        "from sklearn import datasets,linear_model"
      ],
      "execution_count": 0,
      "outputs": []
    },
    {
      "cell_type": "code",
      "metadata": {
        "id": "KmNKeCsasxjP",
        "colab_type": "code",
        "colab": {}
      },
      "source": [
        "Auto=pd.read_csv(\"/content/drive/My Drive/data_ml_course/Auto.csv\",header=0,na_values='?')\n",
        "Auto=Auto.dropna().reset_index(drop=True)"
      ],
      "execution_count": 0,
      "outputs": []
    },
    {
      "cell_type": "code",
      "metadata": {
        "id": "shHVZHCXtP9f",
        "colab_type": "code",
        "outputId": "c8173307-98c4-40e2-f331-7ed5f24e8da7",
        "colab": {
          "base_uri": "https://localhost:8080/",
          "height": 195
        }
      },
      "source": [
        "Auto.head(5)"
      ],
      "execution_count": 4,
      "outputs": [
        {
          "output_type": "execute_result",
          "data": {
            "text/html": [
              "<div>\n",
              "<style scoped>\n",
              "    .dataframe tbody tr th:only-of-type {\n",
              "        vertical-align: middle;\n",
              "    }\n",
              "\n",
              "    .dataframe tbody tr th {\n",
              "        vertical-align: top;\n",
              "    }\n",
              "\n",
              "    .dataframe thead th {\n",
              "        text-align: right;\n",
              "    }\n",
              "</style>\n",
              "<table border=\"1\" class=\"dataframe\">\n",
              "  <thead>\n",
              "    <tr style=\"text-align: right;\">\n",
              "      <th></th>\n",
              "      <th>mpg</th>\n",
              "      <th>cylinders</th>\n",
              "      <th>displacement</th>\n",
              "      <th>horsepower</th>\n",
              "      <th>weight</th>\n",
              "      <th>acceleration</th>\n",
              "      <th>year</th>\n",
              "      <th>origin</th>\n",
              "      <th>name</th>\n",
              "    </tr>\n",
              "  </thead>\n",
              "  <tbody>\n",
              "    <tr>\n",
              "      <th>0</th>\n",
              "      <td>18.0</td>\n",
              "      <td>8</td>\n",
              "      <td>307.0</td>\n",
              "      <td>130.0</td>\n",
              "      <td>3504</td>\n",
              "      <td>12.0</td>\n",
              "      <td>70</td>\n",
              "      <td>1</td>\n",
              "      <td>chevrolet chevelle malibu</td>\n",
              "    </tr>\n",
              "    <tr>\n",
              "      <th>1</th>\n",
              "      <td>15.0</td>\n",
              "      <td>8</td>\n",
              "      <td>350.0</td>\n",
              "      <td>165.0</td>\n",
              "      <td>3693</td>\n",
              "      <td>11.5</td>\n",
              "      <td>70</td>\n",
              "      <td>1</td>\n",
              "      <td>buick skylark 320</td>\n",
              "    </tr>\n",
              "    <tr>\n",
              "      <th>2</th>\n",
              "      <td>18.0</td>\n",
              "      <td>8</td>\n",
              "      <td>318.0</td>\n",
              "      <td>150.0</td>\n",
              "      <td>3436</td>\n",
              "      <td>11.0</td>\n",
              "      <td>70</td>\n",
              "      <td>1</td>\n",
              "      <td>plymouth satellite</td>\n",
              "    </tr>\n",
              "    <tr>\n",
              "      <th>3</th>\n",
              "      <td>16.0</td>\n",
              "      <td>8</td>\n",
              "      <td>304.0</td>\n",
              "      <td>150.0</td>\n",
              "      <td>3433</td>\n",
              "      <td>12.0</td>\n",
              "      <td>70</td>\n",
              "      <td>1</td>\n",
              "      <td>amc rebel sst</td>\n",
              "    </tr>\n",
              "    <tr>\n",
              "      <th>4</th>\n",
              "      <td>17.0</td>\n",
              "      <td>8</td>\n",
              "      <td>302.0</td>\n",
              "      <td>140.0</td>\n",
              "      <td>3449</td>\n",
              "      <td>10.5</td>\n",
              "      <td>70</td>\n",
              "      <td>1</td>\n",
              "      <td>ford torino</td>\n",
              "    </tr>\n",
              "  </tbody>\n",
              "</table>\n",
              "</div>"
            ],
            "text/plain": [
              "    mpg  cylinders  displacement  ...  year  origin                       name\n",
              "0  18.0          8         307.0  ...    70       1  chevrolet chevelle malibu\n",
              "1  15.0          8         350.0  ...    70       1          buick skylark 320\n",
              "2  18.0          8         318.0  ...    70       1         plymouth satellite\n",
              "3  16.0          8         304.0  ...    70       1              amc rebel sst\n",
              "4  17.0          8         302.0  ...    70       1                ford torino\n",
              "\n",
              "[5 rows x 9 columns]"
            ]
          },
          "metadata": {
            "tags": []
          },
          "execution_count": 4
        }
      ]
    },
    {
      "cell_type": "code",
      "metadata": {
        "id": "bt7Txu16tWm5",
        "colab_type": "code",
        "outputId": "0243e133-44fa-4cbd-8deb-e210020d9ece",
        "colab": {
          "base_uri": "https://localhost:8080/",
          "height": 34
        }
      },
      "source": [
        "Auto.shape"
      ],
      "execution_count": 5,
      "outputs": [
        {
          "output_type": "execute_result",
          "data": {
            "text/plain": [
              "(392, 9)"
            ]
          },
          "metadata": {
            "tags": []
          },
          "execution_count": 5
        }
      ]
    },
    {
      "cell_type": "code",
      "metadata": {
        "id": "nP1YtEQ3tazD",
        "colab_type": "code",
        "colab": {}
      },
      "source": [
        "np.random.seed(1)\n",
        "train=np.random.choice(Auto.shape[0],196,replace=False)\n",
        "select=np.in1d(range(Auto.shape[0]),train)"
      ],
      "execution_count": 0,
      "outputs": []
    },
    {
      "cell_type": "code",
      "metadata": {
        "id": "PMFagX-KtitH",
        "colab_type": "code",
        "outputId": "0e2da10f-142f-4878-d19d-d1addaa8ddcf",
        "colab": {
          "base_uri": "https://localhost:8080/",
          "height": 470
        }
      },
      "source": [
        "import statsmodels.formula.api as smf\n",
        "lm=smf.ols('mpg~horsepower',data=Auto[select]).fit()\n",
        "print(lm.summary())\n",
        "precd=lm.predict(Auto)\n",
        "square_error=(Auto['mpg']-precd)**2\n",
        "print('----------Test error for 1st order---------')\n",
        "print(np.mean(square_error[~select]))"
      ],
      "execution_count": 7,
      "outputs": [
        {
          "output_type": "stream",
          "text": [
            "                            OLS Regression Results                            \n",
            "==============================================================================\n",
            "Dep. Variable:                    mpg   R-squared:                       0.620\n",
            "Model:                            OLS   Adj. R-squared:                  0.618\n",
            "Method:                 Least Squares   F-statistic:                     316.4\n",
            "Date:                Fri, 31 Jan 2020   Prob (F-statistic):           1.28e-42\n",
            "Time:                        19:55:16   Log-Likelihood:                -592.07\n",
            "No. Observations:                 196   AIC:                             1188.\n",
            "Df Residuals:                     194   BIC:                             1195.\n",
            "Df Model:                           1                                         \n",
            "Covariance Type:            nonrobust                                         \n",
            "==============================================================================\n",
            "                 coef    std err          t      P>|t|      [0.025      0.975]\n",
            "------------------------------------------------------------------------------\n",
            "Intercept     40.3338      1.023     39.416      0.000      38.316      42.352\n",
            "horsepower    -0.1596      0.009    -17.788      0.000      -0.177      -0.142\n",
            "==============================================================================\n",
            "Omnibus:                        8.393   Durbin-Watson:                   1.061\n",
            "Prob(Omnibus):                  0.015   Jarque-Bera (JB):                8.787\n",
            "Skew:                           0.516   Prob(JB):                       0.0124\n",
            "Kurtosis:                       2.899   Cond. No.                         328.\n",
            "==============================================================================\n",
            "\n",
            "Warnings:\n",
            "[1] Standard Errors assume that the covariance matrix of the errors is correctly specified.\n",
            "----------Test error for 1st order---------\n",
            "23.361902892587235\n"
          ],
          "name": "stdout"
        }
      ]
    },
    {
      "cell_type": "code",
      "metadata": {
        "id": "7Y8sYQfCuej0",
        "colab_type": "code",
        "outputId": "3077ceb9-229a-44dd-d2e7-048714ea4f7b",
        "colab": {
          "base_uri": "https://localhost:8080/",
          "height": 521
        }
      },
      "source": [
        "print('----------Test error for 2nd order---------')\n",
        "lm2=smf.ols('mpg~horsepower+I(horsepower**2)',data=Auto[select]).fit()\n",
        "print(lm2.summary())\n",
        "precd=lm2.predict(Auto)\n",
        "square_error=(Auto['mpg']-precd)**2\n",
        "\n",
        "print(np.mean(square_error[~select]))"
      ],
      "execution_count": 8,
      "outputs": [
        {
          "output_type": "stream",
          "text": [
            "----------Test error for 2nd order---------\n",
            "                            OLS Regression Results                            \n",
            "==============================================================================\n",
            "Dep. Variable:                    mpg   R-squared:                       0.720\n",
            "Model:                            OLS   Adj. R-squared:                  0.717\n",
            "Method:                 Least Squares   F-statistic:                     248.0\n",
            "Date:                Fri, 31 Jan 2020   Prob (F-statistic):           4.60e-54\n",
            "Time:                        19:55:19   Log-Likelihood:                -562.15\n",
            "No. Observations:                 196   AIC:                             1130.\n",
            "Df Residuals:                     193   BIC:                             1140.\n",
            "Df Model:                           2                                         \n",
            "Covariance Type:            nonrobust                                         \n",
            "======================================================================================\n",
            "                         coef    std err          t      P>|t|      [0.025      0.975]\n",
            "--------------------------------------------------------------------------------------\n",
            "Intercept             60.3022      2.562     23.541      0.000      55.250      65.354\n",
            "horsepower            -0.5186      0.044    -11.807      0.000      -0.605      -0.432\n",
            "I(horsepower ** 2)     0.0014      0.000      8.302      0.000       0.001       0.002\n",
            "==============================================================================\n",
            "Omnibus:                        6.926   Durbin-Watson:                   1.298\n",
            "Prob(Omnibus):                  0.031   Jarque-Bera (JB):                9.679\n",
            "Skew:                           0.196   Prob(JB):                      0.00791\n",
            "Kurtosis:                       4.016   Cond. No.                     1.38e+05\n",
            "==============================================================================\n",
            "\n",
            "Warnings:\n",
            "[1] Standard Errors assume that the covariance matrix of the errors is correctly specified.\n",
            "[2] The condition number is large, 1.38e+05. This might indicate that there are\n",
            "strong multicollinearity or other numerical problems.\n",
            "20.252690858350046\n"
          ],
          "name": "stdout"
        }
      ]
    },
    {
      "cell_type": "code",
      "metadata": {
        "id": "ULibxIckuhE9",
        "colab_type": "code",
        "outputId": "ace5f7f0-c445-41e1-f1f7-2e6c89ae2952",
        "colab": {
          "base_uri": "https://localhost:8080/",
          "height": 538
        }
      },
      "source": [
        "print('----------Test error for 3nd order---------')\n",
        "lm3=smf.ols('mpg~horsepower+I(horsepower**2)+I(horsepower**3)',data=Auto[select]).fit()\n",
        "print(lm3.summary())\n",
        "precd=lm3.predict(Auto)\n",
        "square_error=(Auto['mpg']-precd)**2\n",
        "\n",
        "print(np.mean(square_error[~select]))"
      ],
      "execution_count": 9,
      "outputs": [
        {
          "output_type": "stream",
          "text": [
            "----------Test error for 3nd order---------\n",
            "                            OLS Regression Results                            \n",
            "==============================================================================\n",
            "Dep. Variable:                    mpg   R-squared:                       0.722\n",
            "Model:                            OLS   Adj. R-squared:                  0.717\n",
            "Method:                 Least Squares   F-statistic:                     165.9\n",
            "Date:                Fri, 31 Jan 2020   Prob (F-statistic):           4.60e-53\n",
            "Time:                        19:55:29   Log-Likelihood:                -561.56\n",
            "No. Observations:                 196   AIC:                             1131.\n",
            "Df Residuals:                     192   BIC:                             1144.\n",
            "Df Model:                           3                                         \n",
            "Covariance Type:            nonrobust                                         \n",
            "======================================================================================\n",
            "                         coef    std err          t      P>|t|      [0.025      0.975]\n",
            "--------------------------------------------------------------------------------------\n",
            "Intercept             66.5200      6.310     10.541      0.000      54.073      78.967\n",
            "horsepower            -0.6868      0.162     -4.238      0.000      -1.006      -0.367\n",
            "I(horsepower ** 2)     0.0028      0.001      2.157      0.032       0.000       0.005\n",
            "I(horsepower ** 3) -3.524e-06   3.27e-06     -1.078      0.282   -9.97e-06    2.92e-06\n",
            "==============================================================================\n",
            "Omnibus:                        9.054   Durbin-Watson:                   1.328\n",
            "Prob(Omnibus):                  0.011   Jarque-Bera (JB):               15.936\n",
            "Skew:                           0.174   Prob(JB):                     0.000346\n",
            "Kurtosis:                       4.353   Cond. No.                     5.83e+07\n",
            "==============================================================================\n",
            "\n",
            "Warnings:\n",
            "[1] Standard Errors assume that the covariance matrix of the errors is correctly specified.\n",
            "[2] The condition number is large, 5.83e+07. This might indicate that there are\n",
            "strong multicollinearity or other numerical problems.\n",
            "20.325609365773584\n"
          ],
          "name": "stdout"
        }
      ]
    },
    {
      "cell_type": "code",
      "metadata": {
        "id": "ABXG70EYu95I",
        "colab_type": "code",
        "colab": {
          "base_uri": "https://localhost:8080/",
          "height": 1000
        },
        "outputId": "743fed27-ffc0-4d4f-9556-1b33eaa3b4c4"
      },
      "source": [
        "# Cross Validation\n",
        "from sklearn.model_selection import KFold,cross_val_score\n",
        "from sklearn.preprocessing import PolynomialFeatures\n",
        "from sklearn.linear_model import LinearRegression\n",
        "from sklearn.pipeline import Pipeline\n",
        "\n",
        "x=pd.DataFrame(Auto.horsepower)\n",
        "y=Auto.mpg\n",
        "\n",
        "model=LinearRegression()\n",
        "model.fit(x,y)\n",
        "print(model.intercept_)\n",
        "print(model.coef_)\n",
        "\n",
        "k_fold=KFold(n_splits=x.shape[0]) #loo use folds equal to of observations\n",
        "test=cross_val_score(model,x,y,cv=k_fold,scoring='neg_mean_squared_error',n_jobs=-1)\n",
        "print(test)\n",
        "print(np.mean(-test))\n",
        "\n",
        "A=[]\n",
        "for porder in range(1,6):\n",
        "    model=Pipeline([('poly',PolynomialFeatures(degree=porder)),('linear',LinearRegression())])\n",
        "    k_fold=KFold(n_splits=x.shape[0])\n",
        "    test=cross_val_score(model,x,y,cv=k_fold,scoring='neg_mean_squared_error',n_jobs=-1)\n",
        "    print(\"error\")\n",
        "    A.append(np.mean(-test))\n",
        "    print(A)\n",
        "print(A)\n",
        "\n",
        "\n",
        "B=[]\n",
        "for pordera in range(1,7):\n",
        "    model1=Pipeline([('poly',PolynomialFeatures(degree=pordera)),('linear',LinearRegression())])\n",
        "    k_fold=KFold(n_splits=10)\n",
        "    test1=cross_val_score(model1,x,y,cv=k_fold,scoring='neg_mean_squared_error',n_jobs=-1)\n",
        "    print(\"error\")\n",
        "    B.append(np.mean(-test))\n",
        "    print(B)\n",
        "print(B)"
      ],
      "execution_count": 10,
      "outputs": [
        {
          "output_type": "stream",
          "text": [
            "39.93586102117047\n",
            "[-0.15784473]\n",
            "[-2.02001002e+00 -1.25092412e+00 -3.06805164e+00 -6.79901984e-02\n",
            " -7.08255629e-01 -4.13566745e+01 -8.13755358e+01 -6.71494767e+01\n",
            " -9.70498847e+01 -2.63430368e+01 -3.67428697e+00 -4.70741691e-01\n",
            " -1.60507789e+00 -9.70498847e+01 -8.89557151e-01 -8.69418110e+00\n",
            " -4.41228965e+01 -3.06562225e+01 -9.16549732e-01 -4.53185378e+01\n",
            " -1.45705281e+00 -3.00983554e+00 -3.54617605e-03 -1.52964088e+01\n",
            " -2.25022208e+01 -1.67905446e+01 -2.76735351e+00 -1.85354648e+01\n",
            " -2.29957474e-01 -9.16549732e-01 -5.18379999e+00 -3.54617605e-03\n",
            " -2.66745510e+01 -5.44791120e+01 -5.14078324e+01 -4.99405256e+01\n",
            " -3.80360006e+01 -1.19884585e-02 -2.91033003e+00 -3.23104363e+00\n",
            " -5.16691118e+00 -2.32487332e-01 -1.06678908e-02 -4.82615264e-01\n",
            " -2.10211114e+01 -4.35585197e+01 -2.66745510e+01 -6.51231162e+01\n",
            " -1.13690418e+01 -5.18379999e+00 -1.25085727e+00 -4.27873211e+00\n",
            " -1.77161819e+00 -3.58044876e+01 -1.21519855e+01 -8.41044041e+00\n",
            " -8.89557151e-01 -5.36657259e+00 -7.17595842e+01 -3.30230842e+01\n",
            " -2.89239650e+01 -8.09034686e-01 -2.91033003e+00 -1.60507789e+00\n",
            " -3.23104363e+00 -5.55648116e-01 -1.58374562e+01 -6.18633936e+00\n",
            " -7.30069293e+00 -9.62066868e+00 -3.18079355e+01 -1.60507789e+00\n",
            " -4.14699861e+01 -2.36253376e+01 -5.16691118e+00 -1.82205869e+01\n",
            " -3.55599555e+01 -2.72424889e+01 -9.35761228e+00 -1.91401940e+01\n",
            " -6.72450828e+00 -2.65440672e+00 -4.81922115e-01 -9.16549732e-01\n",
            " -4.82615264e-01 -5.16691118e+00 -1.65673457e+01 -1.87496691e+01\n",
            " -1.60507789e+00 -1.14041800e+01 -1.07534901e+01 -4.04602925e+00\n",
            " -5.16691118e+00 -5.14127073e+01 -6.07551884e+01 -4.82615264e-01\n",
            " -2.89000924e+01 -6.67900464e+01 -3.80360006e+01 -6.51231162e+01\n",
            " -3.78643546e+00 -4.53185378e+01 -2.80008847e+01 -2.52995804e+00\n",
            " -1.06678908e-02 -2.32487332e-01 -3.80360006e+01 -3.67700670e+01\n",
            " -5.78250435e+01 -9.65326195e+00 -6.00999134e+01 -5.69004321e+01\n",
            " -4.20960109e+00 -7.34161330e-02 -4.24141077e+00 -1.62504118e+02\n",
            " -1.04124952e+01 -1.69263872e+01 -3.12256930e+01 -1.06661158e+01\n",
            " -1.60507789e+00 -2.04714617e+00 -4.63627225e-01 -2.81308530e-01\n",
            " -2.45422744e+01 -2.66745510e+01 -8.41826427e+01 -2.71568614e+00\n",
            " -1.72393986e+00 -5.45824770e+00 -9.67273723e+00 -6.67900464e+01\n",
            " -4.34294154e+01 -2.89000924e+01 -3.40894184e+00 -1.07534901e+01\n",
            " -5.16691118e+00 -1.48674828e+01 -5.16691118e+00 -4.71985461e+00\n",
            " -1.14045570e+01 -2.65723179e+00 -5.37714836e-01 -2.89872607e+00\n",
            " -9.58490755e-03 -1.69263872e+01 -4.43538684e+00 -3.92603313e-01\n",
            " -5.56174397e-01 -2.71568614e+00 -3.54826220e+01 -2.89000924e+01\n",
            " -1.85793766e+02 -1.85793766e+02 -8.56678574e+00 -4.24141077e+00\n",
            " -6.79901984e-02 -6.70768171e+00 -3.12200353e+01 -5.44791120e+01\n",
            " -5.76492515e+01 -4.84338370e+01 -2.48707630e+00 -6.65463189e+00\n",
            " -4.35279867e+01 -8.21133366e-01 -1.48042183e+01 -1.73234837e+01\n",
            " -2.15428333e+01 -6.16014660e-01 -1.40301443e+01 -3.92603313e-01\n",
            " -4.41228965e+01 -1.29490738e-02 -4.55556484e+01 -3.78643546e+00\n",
            " -9.33148243e+00 -6.11852866e+00 -1.04014510e+01 -2.07408852e+00\n",
            " -2.70256448e+00 -4.65694071e+00 -1.72487801e-01 -2.16539700e+00\n",
            " -2.74918795e-02 -1.15058589e-01 -6.79901984e-02 -3.03694219e+01\n",
            " -2.11072545e+00 -4.65249596e+00 -1.86499577e+00 -9.99513766e+00\n",
            " -1.04928647e+01 -7.55152999e+00 -3.60116535e+01 -1.29490738e-02\n",
            " -2.07408852e+00 -1.73234837e+01 -9.33213791e+01 -1.66755705e+01\n",
            " -5.56635197e+01 -5.99987945e-01 -9.78228164e+00 -9.58490755e-03\n",
            " -4.32695051e+00 -1.47882454e+01 -1.07534901e+01 -4.99405256e+01\n",
            " -1.51995441e+01 -2.03208885e+01 -2.53881491e+01 -1.65673457e+01\n",
            " -4.14699861e+01 -1.07534901e+01 -5.33042511e+00 -7.29756797e+00\n",
            " -2.75846571e+01 -5.17186811e-01 -2.14795069e+01 -2.06180738e-01\n",
            " -3.12200353e+01 -2.42350354e+00 -1.96456368e+01 -2.58692664e+01\n",
            " -8.23394721e+00 -2.66745510e+01 -3.57935557e+01 -2.05425417e+01\n",
            " -5.86547892e+00 -3.18124590e+01 -1.75981847e-01 -1.90777485e+00\n",
            " -2.40313535e+00 -4.43538684e+00 -1.51190554e-01 -2.61303673e-01\n",
            " -4.47244402e+01 -4.13364701e-01 -8.33410057e+00 -6.92684164e+00\n",
            " -1.15721954e+00 -1.15721954e+00 -1.17243677e+02 -4.37670739e+01\n",
            " -1.16629732e+00 -1.11553234e+02 -3.21334196e+01 -7.18196254e+00\n",
            " -2.46435792e+00 -4.90518618e+00 -1.74123514e+01 -1.98261758e+01\n",
            " -4.01877223e+01 -8.99439615e-01 -1.34018435e+01 -4.03012186e+01\n",
            " -7.66863328e+00 -3.29183245e+01 -1.58667760e+01 -8.42803414e+00\n",
            " -4.67977341e+00 -1.47657800e+01 -1.10336292e-02 -1.15058589e-01\n",
            " -6.42346961e-01 -6.58606332e+00 -6.66627625e+00 -7.91798088e+00\n",
            " -1.48304437e+01 -2.64318792e-02 -7.44090531e+00 -5.28305235e-01\n",
            " -1.14684171e+01 -1.03414523e+01 -3.39377102e-02 -7.58123595e+00\n",
            " -7.74842230e+00 -8.94190790e-02 -8.09384884e-02 -4.54365642e+01\n",
            " -1.41140526e+01 -3.07579754e+01 -3.91284380e+00 -5.88043263e+00\n",
            " -3.92436810e+00 -2.75808267e+00 -1.83702289e-01 -2.07387025e+00\n",
            " -4.12916020e+00 -1.01722577e+00 -5.08353300e+00 -1.01467782e+01\n",
            " -1.97789373e+01 -7.09285156e+01 -8.47276098e-03 -5.71702729e+00\n",
            " -7.86198816e+00 -2.35859722e+00 -3.36788510e+00 -2.84924847e+01\n",
            " -3.18008270e+01 -4.55923166e+00 -6.88003729e+01 -7.17149316e+00\n",
            " -4.94993583e+01 -2.53016852e+01 -6.07286850e+01 -1.85344168e+02\n",
            " -5.89921650e+01 -1.04207991e+01 -5.72092847e+01 -5.18379999e+00\n",
            " -1.26415094e-01 -2.05638892e+00 -4.42118654e+01 -4.49064563e+01\n",
            " -1.66631623e+01 -1.03395519e+01 -1.34992151e+02 -1.69676219e+01\n",
            " -2.89448955e+02 -2.06974399e+01 -1.25051574e+02 -1.44905192e+02\n",
            " -1.23884653e+02 -5.00546480e+01 -4.13364701e-01 -2.34577604e+02\n",
            " -1.99088405e+01 -1.23537151e-01 -1.86386212e+02 -2.04808540e-01\n",
            " -8.06690157e+01 -1.47899420e+01 -2.75430770e-01 -5.95305638e-03\n",
            " -1.49726751e-01 -8.63932788e-01 -1.11156438e+01 -7.00853046e+01\n",
            " -8.49303469e+01 -2.17401579e+01 -8.72867547e+00 -5.42082969e+01\n",
            " -5.76616427e+01 -2.42205203e+01 -2.24153948e+01 -2.25523558e+01\n",
            " -5.07271492e-02 -2.26998788e+01 -3.16437445e+01 -1.86623193e+01\n",
            " -7.69355372e+01 -1.12801915e+01 -6.31334897e-01 -7.68002445e+00\n",
            " -1.43235862e+01 -1.03365290e+01 -3.00647280e-02 -1.05372851e+01\n",
            " -3.43774311e+01 -8.00620412e+01 -3.84314632e+00 -9.16549732e-01\n",
            " -6.36574958e+01 -2.02081766e+01 -5.43229349e+00 -1.62275765e+00\n",
            " -2.01113213e+00 -6.04809802e+01 -6.13959910e+01 -3.26284998e+00\n",
            " -6.48476825e+01 -5.10675623e+01 -9.96926676e+01 -6.29583618e+01\n",
            " -2.63878500e+01 -7.53932748e+01 -7.03805538e+00 -7.53932748e+01\n",
            " -5.92141501e+00 -1.32661105e+02 -3.45169047e-01 -6.65300161e-02\n",
            " -5.23682368e+01 -8.74921443e+01 -1.62275765e+00 -4.10622168e-01\n",
            " -1.52827762e+02 -2.85218299e+01 -2.87124380e-01 -1.61698064e+01]\n",
            "24.231513517929226\n",
            "error\n",
            "[24.231513517929226]\n",
            "error\n",
            "[24.231513517929226, 19.248213124489745]\n",
            "error\n",
            "[24.231513517929226, 19.248213124489745, 19.33498406411498]\n",
            "error\n",
            "[24.231513517929226, 19.248213124489745, 19.33498406411498, 19.424430307079398]\n",
            "error\n",
            "[24.231513517929226, 19.248213124489745, 19.33498406411498, 19.424430307079398, 19.033198669299846]\n",
            "[24.231513517929226, 19.248213124489745, 19.33498406411498, 19.424430307079398, 19.033198669299846]\n",
            "error\n",
            "[19.033198669299846]\n",
            "error\n",
            "[19.033198669299846, 19.033198669299846]\n",
            "error\n",
            "[19.033198669299846, 19.033198669299846, 19.033198669299846]\n",
            "error\n",
            "[19.033198669299846, 19.033198669299846, 19.033198669299846, 19.033198669299846]\n",
            "error\n",
            "[19.033198669299846, 19.033198669299846, 19.033198669299846, 19.033198669299846, 19.033198669299846]\n",
            "error\n",
            "[19.033198669299846, 19.033198669299846, 19.033198669299846, 19.033198669299846, 19.033198669299846, 19.033198669299846]\n",
            "[19.033198669299846, 19.033198669299846, 19.033198669299846, 19.033198669299846, 19.033198669299846, 19.033198669299846]\n"
          ],
          "name": "stdout"
        }
      ]
    },
    {
      "cell_type": "code",
      "metadata": {
        "id": "UnJVR5NHMNfO",
        "colab_type": "code",
        "colab": {
          "base_uri": "https://localhost:8080/",
          "height": 402
        },
        "outputId": "225699e5-32b6-42fb-bd13-ed2583870bf0"
      },
      "source": [
        "portfolio=pd.read_csv(\"/content/drive/My Drive/data_ml_course/Portfolio.csv\")\n",
        "portfolio"
      ],
      "execution_count": 12,
      "outputs": [
        {
          "output_type": "execute_result",
          "data": {
            "text/html": [
              "<div>\n",
              "<style scoped>\n",
              "    .dataframe tbody tr th:only-of-type {\n",
              "        vertical-align: middle;\n",
              "    }\n",
              "\n",
              "    .dataframe tbody tr th {\n",
              "        vertical-align: top;\n",
              "    }\n",
              "\n",
              "    .dataframe thead th {\n",
              "        text-align: right;\n",
              "    }\n",
              "</style>\n",
              "<table border=\"1\" class=\"dataframe\">\n",
              "  <thead>\n",
              "    <tr style=\"text-align: right;\">\n",
              "      <th></th>\n",
              "      <th>X</th>\n",
              "      <th>Y</th>\n",
              "    </tr>\n",
              "  </thead>\n",
              "  <tbody>\n",
              "    <tr>\n",
              "      <th>0</th>\n",
              "      <td>-0.895251</td>\n",
              "      <td>-0.234924</td>\n",
              "    </tr>\n",
              "    <tr>\n",
              "      <th>1</th>\n",
              "      <td>-1.562454</td>\n",
              "      <td>-0.885176</td>\n",
              "    </tr>\n",
              "    <tr>\n",
              "      <th>2</th>\n",
              "      <td>-0.417090</td>\n",
              "      <td>0.271888</td>\n",
              "    </tr>\n",
              "    <tr>\n",
              "      <th>3</th>\n",
              "      <td>1.044356</td>\n",
              "      <td>-0.734198</td>\n",
              "    </tr>\n",
              "    <tr>\n",
              "      <th>4</th>\n",
              "      <td>-0.315568</td>\n",
              "      <td>0.841983</td>\n",
              "    </tr>\n",
              "    <tr>\n",
              "      <th>...</th>\n",
              "      <td>...</td>\n",
              "      <td>...</td>\n",
              "    </tr>\n",
              "    <tr>\n",
              "      <th>95</th>\n",
              "      <td>0.479091</td>\n",
              "      <td>1.454774</td>\n",
              "    </tr>\n",
              "    <tr>\n",
              "      <th>96</th>\n",
              "      <td>-0.535020</td>\n",
              "      <td>-0.399175</td>\n",
              "    </tr>\n",
              "    <tr>\n",
              "      <th>97</th>\n",
              "      <td>-0.773129</td>\n",
              "      <td>-0.957175</td>\n",
              "    </tr>\n",
              "    <tr>\n",
              "      <th>98</th>\n",
              "      <td>0.403634</td>\n",
              "      <td>1.396038</td>\n",
              "    </tr>\n",
              "    <tr>\n",
              "      <th>99</th>\n",
              "      <td>-0.588496</td>\n",
              "      <td>-0.497285</td>\n",
              "    </tr>\n",
              "  </tbody>\n",
              "</table>\n",
              "<p>100 rows × 2 columns</p>\n",
              "</div>"
            ],
            "text/plain": [
              "           X         Y\n",
              "0  -0.895251 -0.234924\n",
              "1  -1.562454 -0.885176\n",
              "2  -0.417090  0.271888\n",
              "3   1.044356 -0.734198\n",
              "4  -0.315568  0.841983\n",
              "..       ...       ...\n",
              "95  0.479091  1.454774\n",
              "96 -0.535020 -0.399175\n",
              "97 -0.773129 -0.957175\n",
              "98  0.403634  1.396038\n",
              "99 -0.588496 -0.497285\n",
              "\n",
              "[100 rows x 2 columns]"
            ]
          },
          "metadata": {
            "tags": []
          },
          "execution_count": 12
        }
      ]
    },
    {
      "cell_type": "code",
      "metadata": {
        "id": "64ljZ65MMe37",
        "colab_type": "code",
        "colab": {}
      },
      "source": [
        "def alpha_fn(data,index):\n",
        "    x=data.X[index]\n",
        "    y=data.Y[index]\n",
        "    return (np.var(y)-np.cov(x,y)[0,1])/(np.var(x)+np.var(y)-2*np.cov(x,y)[0,1])"
      ],
      "execution_count": 0,
      "outputs": []
    },
    {
      "cell_type": "code",
      "metadata": {
        "id": "2BFJ05TuMu1F",
        "colab_type": "code",
        "colab": {
          "base_uri": "https://localhost:8080/",
          "height": 34
        },
        "outputId": "112b8073-0884-4f3a-f1ec-92b81e637f15"
      },
      "source": [
        "a=np.arange(0,100)\n",
        "alpha_fn(portfolio, a)"
      ],
      "execution_count": 25,
      "outputs": [
        {
          "output_type": "execute_result",
          "data": {
            "text/plain": [
              "0.5766511516104118"
            ]
          },
          "metadata": {
            "tags": []
          },
          "execution_count": 25
        }
      ]
    },
    {
      "cell_type": "code",
      "metadata": {
        "id": "9eiy3DykMxJC",
        "colab_type": "code",
        "colab": {
          "base_uri": "https://localhost:8080/",
          "height": 118
        },
        "outputId": "ee3cf952-e2f5-420b-c882-a3edf1d9acba"
      },
      "source": [
        "np.sort(np.random.choice(range(0,100),size=100,replace=True))"
      ],
      "execution_count": 26,
      "outputs": [
        {
          "output_type": "execute_result",
          "data": {
            "text/plain": [
              "array([ 1,  2,  3,  3,  4,  5,  7,  8,  8,  9,  9, 12, 13, 13, 14, 14, 16,\n",
              "       19, 20, 23, 24, 25, 26, 26, 27, 27, 30, 31, 31, 31, 31, 32, 32, 33,\n",
              "       34, 36, 38, 38, 38, 38, 39, 40, 40, 40, 40, 42, 42, 44, 45, 46, 46,\n",
              "       47, 48, 48, 51, 51, 57, 58, 60, 60, 61, 61, 62, 64, 64, 67, 67, 68,\n",
              "       69, 70, 71, 72, 72, 73, 73, 75, 76, 76, 76, 77, 77, 78, 79, 79, 81,\n",
              "       81, 82, 84, 85, 85, 86, 87, 88, 90, 90, 93, 93, 96, 97, 99])"
            ]
          },
          "metadata": {
            "tags": []
          },
          "execution_count": 26
        }
      ]
    },
    {
      "cell_type": "code",
      "metadata": {
        "id": "Ob2PmSstMzJk",
        "colab_type": "code",
        "colab": {
          "base_uri": "https://localhost:8080/",
          "height": 34
        },
        "outputId": "b598d4a8-dcda-4a08-ccbe-ff165c1273c3"
      },
      "source": [
        "alpha_fn(portfolio,np.random.choice(range(0,100),size=100,replace=True))"
      ],
      "execution_count": 27,
      "outputs": [
        {
          "output_type": "execute_result",
          "data": {
            "text/plain": [
              "0.6852151851352586"
            ]
          },
          "metadata": {
            "tags": []
          },
          "execution_count": 27
        }
      ]
    },
    {
      "cell_type": "code",
      "metadata": {
        "id": "pdTXtG-DNfud",
        "colab_type": "code",
        "colab": {}
      },
      "source": [
        "def boot_python(data,input_fun,iteration):\n",
        "    n=portfolio.shape[0]\n",
        "    idx=np.random.randint(0,n,(iteration,n))\n",
        "    stat=np.zeros(iteration)\n",
        "    for i in range(len(idx)):\n",
        "        stat[i]=input_fun(data,idx[i])\n",
        "    return {'Mean': np.mean(stat),'STD':np.std(stat)}"
      ],
      "execution_count": 0,
      "outputs": []
    },
    {
      "cell_type": "code",
      "metadata": {
        "id": "evGwlutQM1DV",
        "colab_type": "code",
        "colab": {
          "base_uri": "https://localhost:8080/",
          "height": 34
        },
        "outputId": "d9ffe37e-8319-41cf-c7c9-f0f4c4dffe7c"
      },
      "source": [
        "boot_python(portfolio,alpha_fn,1000)"
      ],
      "execution_count": 29,
      "outputs": [
        {
          "output_type": "execute_result",
          "data": {
            "text/plain": [
              "{'Mean': 0.5800359461501615, 'STD': 0.09481338968889269}"
            ]
          },
          "metadata": {
            "tags": []
          },
          "execution_count": 29
        }
      ]
    }
  ]
}