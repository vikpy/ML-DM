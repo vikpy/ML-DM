{
  "nbformat": 4,
  "nbformat_minor": 0,
  "metadata": {
    "colab": {
      "name": "test1-q1.ipynb",
      "provenance": [],
      "collapsed_sections": [],
      "toc_visible": true,
      "authorship_tag": "ABX9TyP+IHFkz8YUYjDt6ioY96aZ",
      "include_colab_link": true
    },
    "kernelspec": {
      "name": "python3",
      "display_name": "Python 3"
    }
  },
  "cells": [
    {
      "cell_type": "markdown",
      "metadata": {
        "id": "view-in-github",
        "colab_type": "text"
      },
      "source": [
        "<a href=\"https://colab.research.google.com/github/vikpy/mtechdatascience_mlcourse/blob/master/test1_q1.ipynb\" target=\"_parent\"><img src=\"https://colab.research.google.com/assets/colab-badge.svg\" alt=\"Open In Colab\"/></a>"
      ]
    },
    {
      "cell_type": "code",
      "metadata": {
        "id": "58_3nqbQ6iCd",
        "colab_type": "code",
        "colab": {}
      },
      "source": [
        "\"\"\"\n",
        "Q 1. Multi variate Linear Regression using CarSeat Data set: - \n",
        "a. Fit a linear multi-regression model to predict Sales using Price, Urban, and US in Carseats data set?\t\t\t\t\t\t\t\n",
        "b. How to check if there is any relationship between the response and predictors \n",
        "c. For which of the predictors can you reject the null hypothesis H0 : ßj = 0? \n",
        "d. State two short comings of fitting a linear regression model \t\t\t\n",
        "\"\"\"\n"
      ],
      "execution_count": 0,
      "outputs": []
    },
    {
      "cell_type": "markdown",
      "metadata": {
        "id": "Oljxj7PY9s1r",
        "colab_type": "text"
      },
      "source": [
        "# Q1. a]\n",
        "\n"
      ]
    },
    {
      "cell_type": "code",
      "metadata": {
        "id": "Lu_RUSQA69Q0",
        "colab_type": "code",
        "colab": {}
      },
      "source": [
        "# Q1. a]\n",
        "import numpy as np\n",
        "import matplotlib.pyplot as plt\n",
        "import scipy\n",
        "import pandas as pd\n",
        "import math\n",
        "import random\n",
        "\n",
        "import statsmodels.api as sm\n",
        "import statsmodels.formula.api as smf\n",
        "from statsmodels.graphics.regressionplots import*\n",
        "from sklearn import datasets,linear_model"
      ],
      "execution_count": 0,
      "outputs": []
    },
    {
      "cell_type": "code",
      "metadata": {
        "id": "sx6F_tye7sAC",
        "colab_type": "code",
        "colab": {
          "base_uri": "https://localhost:8080/",
          "height": 195
        },
        "outputId": "8abbacbc-5abb-4081-e9b9-2738fbaa12af"
      },
      "source": [
        "data = pd.read_csv(\"/content/Carseats.csv\")\n",
        "data.head(5)"
      ],
      "execution_count": 48,
      "outputs": [
        {
          "output_type": "execute_result",
          "data": {
            "text/html": [
              "<div>\n",
              "<style scoped>\n",
              "    .dataframe tbody tr th:only-of-type {\n",
              "        vertical-align: middle;\n",
              "    }\n",
              "\n",
              "    .dataframe tbody tr th {\n",
              "        vertical-align: top;\n",
              "    }\n",
              "\n",
              "    .dataframe thead th {\n",
              "        text-align: right;\n",
              "    }\n",
              "</style>\n",
              "<table border=\"1\" class=\"dataframe\">\n",
              "  <thead>\n",
              "    <tr style=\"text-align: right;\">\n",
              "      <th></th>\n",
              "      <th>Sales</th>\n",
              "      <th>CompPrice</th>\n",
              "      <th>Income</th>\n",
              "      <th>Advertising</th>\n",
              "      <th>Population</th>\n",
              "      <th>Price</th>\n",
              "      <th>ShelveLoc</th>\n",
              "      <th>Age</th>\n",
              "      <th>Education</th>\n",
              "      <th>Urban</th>\n",
              "      <th>US</th>\n",
              "    </tr>\n",
              "  </thead>\n",
              "  <tbody>\n",
              "    <tr>\n",
              "      <th>0</th>\n",
              "      <td>9.50</td>\n",
              "      <td>138</td>\n",
              "      <td>73</td>\n",
              "      <td>11</td>\n",
              "      <td>276</td>\n",
              "      <td>120</td>\n",
              "      <td>Bad</td>\n",
              "      <td>42</td>\n",
              "      <td>17</td>\n",
              "      <td>Yes</td>\n",
              "      <td>Yes</td>\n",
              "    </tr>\n",
              "    <tr>\n",
              "      <th>1</th>\n",
              "      <td>11.22</td>\n",
              "      <td>111</td>\n",
              "      <td>48</td>\n",
              "      <td>16</td>\n",
              "      <td>260</td>\n",
              "      <td>83</td>\n",
              "      <td>Good</td>\n",
              "      <td>65</td>\n",
              "      <td>10</td>\n",
              "      <td>Yes</td>\n",
              "      <td>Yes</td>\n",
              "    </tr>\n",
              "    <tr>\n",
              "      <th>2</th>\n",
              "      <td>10.06</td>\n",
              "      <td>113</td>\n",
              "      <td>35</td>\n",
              "      <td>10</td>\n",
              "      <td>269</td>\n",
              "      <td>80</td>\n",
              "      <td>Medium</td>\n",
              "      <td>59</td>\n",
              "      <td>12</td>\n",
              "      <td>Yes</td>\n",
              "      <td>Yes</td>\n",
              "    </tr>\n",
              "    <tr>\n",
              "      <th>3</th>\n",
              "      <td>7.40</td>\n",
              "      <td>117</td>\n",
              "      <td>100</td>\n",
              "      <td>4</td>\n",
              "      <td>466</td>\n",
              "      <td>97</td>\n",
              "      <td>Medium</td>\n",
              "      <td>55</td>\n",
              "      <td>14</td>\n",
              "      <td>Yes</td>\n",
              "      <td>Yes</td>\n",
              "    </tr>\n",
              "    <tr>\n",
              "      <th>4</th>\n",
              "      <td>4.15</td>\n",
              "      <td>141</td>\n",
              "      <td>64</td>\n",
              "      <td>3</td>\n",
              "      <td>340</td>\n",
              "      <td>128</td>\n",
              "      <td>Bad</td>\n",
              "      <td>38</td>\n",
              "      <td>13</td>\n",
              "      <td>Yes</td>\n",
              "      <td>No</td>\n",
              "    </tr>\n",
              "  </tbody>\n",
              "</table>\n",
              "</div>"
            ],
            "text/plain": [
              "   Sales  CompPrice  Income  Advertising  ...  Age  Education Urban   US\n",
              "0   9.50        138      73           11  ...   42         17   Yes  Yes\n",
              "1  11.22        111      48           16  ...   65         10   Yes  Yes\n",
              "2  10.06        113      35           10  ...   59         12   Yes  Yes\n",
              "3   7.40        117     100            4  ...   55         14   Yes  Yes\n",
              "4   4.15        141      64            3  ...   38         13   Yes   No\n",
              "\n",
              "[5 rows x 11 columns]"
            ]
          },
          "metadata": {
            "tags": []
          },
          "execution_count": 48
        }
      ]
    },
    {
      "cell_type": "code",
      "metadata": {
        "id": "anggu2Sf8lhK",
        "colab_type": "code",
        "colab": {
          "base_uri": "https://localhost:8080/",
          "height": 218
        },
        "outputId": "4c02dd57-c1a2-433e-e39e-9c2171041a3e"
      },
      "source": [
        "data.isnull().sum()"
      ],
      "execution_count": 8,
      "outputs": [
        {
          "output_type": "execute_result",
          "data": {
            "text/plain": [
              "Sales          0\n",
              "CompPrice      0\n",
              "Income         0\n",
              "Advertising    0\n",
              "Population     0\n",
              "Price          0\n",
              "ShelveLoc      0\n",
              "Age            0\n",
              "Education      0\n",
              "Urban          0\n",
              "US             0\n",
              "dtype: int64"
            ]
          },
          "metadata": {
            "tags": []
          },
          "execution_count": 8
        }
      ]
    },
    {
      "cell_type": "code",
      "metadata": {
        "id": "2465XOhF8pQc",
        "colab_type": "code",
        "colab": {}
      },
      "source": [
        "# Since ShelveLoc is an ordered value we assign values to good, bad and medium \n",
        "def convertShelf(x):\n",
        "  if x == \"Bad\" :\n",
        "    return 0\n",
        "  elif x == \"Medium\":\n",
        "    return 1\n",
        "  else :\n",
        "    return 2\n",
        "\n",
        "# Yes No to 1 and 0 \n",
        "\n",
        "def logical_convert(x):\n",
        "  if str(x) == \"Yes\":\n",
        "    return 1 \n",
        "  else :\n",
        "    return 0 "
      ],
      "execution_count": 0,
      "outputs": []
    },
    {
      "cell_type": "code",
      "metadata": {
        "id": "XFf18g-R9Imc",
        "colab_type": "code",
        "colab": {}
      },
      "source": [
        "data[\"Urban\"] = data[\"Urban\"].apply(logical_convert)\n",
        "data[\"US\"] = data[\"US\"].apply(logical_convert)\n",
        "data[\"ShelveLoc\"]  = data[\"ShelveLoc\"].apply(convertShelf)"
      ],
      "execution_count": 0,
      "outputs": []
    },
    {
      "cell_type": "code",
      "metadata": {
        "id": "MJURws-N-e8-",
        "colab_type": "code",
        "colab": {
          "base_uri": "https://localhost:8080/",
          "height": 195
        },
        "outputId": "4f58127e-b3a7-46ca-d480-4dbe95e74910"
      },
      "source": [
        "numeric_data  = [\"Sales\", \t\"CompPrice\"\t, \"Income\", \t\"Advertising\", \t\"Population\", \t\"Price\"]\n",
        "data[numeric_data].head(5)"
      ],
      "execution_count": 52,
      "outputs": [
        {
          "output_type": "execute_result",
          "data": {
            "text/html": [
              "<div>\n",
              "<style scoped>\n",
              "    .dataframe tbody tr th:only-of-type {\n",
              "        vertical-align: middle;\n",
              "    }\n",
              "\n",
              "    .dataframe tbody tr th {\n",
              "        vertical-align: top;\n",
              "    }\n",
              "\n",
              "    .dataframe thead th {\n",
              "        text-align: right;\n",
              "    }\n",
              "</style>\n",
              "<table border=\"1\" class=\"dataframe\">\n",
              "  <thead>\n",
              "    <tr style=\"text-align: right;\">\n",
              "      <th></th>\n",
              "      <th>Sales</th>\n",
              "      <th>CompPrice</th>\n",
              "      <th>Income</th>\n",
              "      <th>Advertising</th>\n",
              "      <th>Population</th>\n",
              "      <th>Price</th>\n",
              "    </tr>\n",
              "  </thead>\n",
              "  <tbody>\n",
              "    <tr>\n",
              "      <th>0</th>\n",
              "      <td>9.50</td>\n",
              "      <td>138</td>\n",
              "      <td>73</td>\n",
              "      <td>11</td>\n",
              "      <td>276</td>\n",
              "      <td>120</td>\n",
              "    </tr>\n",
              "    <tr>\n",
              "      <th>1</th>\n",
              "      <td>11.22</td>\n",
              "      <td>111</td>\n",
              "      <td>48</td>\n",
              "      <td>16</td>\n",
              "      <td>260</td>\n",
              "      <td>83</td>\n",
              "    </tr>\n",
              "    <tr>\n",
              "      <th>2</th>\n",
              "      <td>10.06</td>\n",
              "      <td>113</td>\n",
              "      <td>35</td>\n",
              "      <td>10</td>\n",
              "      <td>269</td>\n",
              "      <td>80</td>\n",
              "    </tr>\n",
              "    <tr>\n",
              "      <th>3</th>\n",
              "      <td>7.40</td>\n",
              "      <td>117</td>\n",
              "      <td>100</td>\n",
              "      <td>4</td>\n",
              "      <td>466</td>\n",
              "      <td>97</td>\n",
              "    </tr>\n",
              "    <tr>\n",
              "      <th>4</th>\n",
              "      <td>4.15</td>\n",
              "      <td>141</td>\n",
              "      <td>64</td>\n",
              "      <td>3</td>\n",
              "      <td>340</td>\n",
              "      <td>128</td>\n",
              "    </tr>\n",
              "  </tbody>\n",
              "</table>\n",
              "</div>"
            ],
            "text/plain": [
              "   Sales  CompPrice  Income  Advertising  Population  Price\n",
              "0   9.50        138      73           11         276    120\n",
              "1  11.22        111      48           16         260     83\n",
              "2  10.06        113      35           10         269     80\n",
              "3   7.40        117     100            4         466     97\n",
              "4   4.15        141      64            3         340    128"
            ]
          },
          "metadata": {
            "tags": []
          },
          "execution_count": 52
        }
      ]
    },
    {
      "cell_type": "code",
      "metadata": {
        "id": "Jxw0prgf-yV4",
        "colab_type": "code",
        "colab": {}
      },
      "source": [
        "from sklearn.preprocessing import StandardScaler\n",
        "sc = StandardScaler()\n",
        "data[numeric_data] = sc.fit_transform(data[numeric_data]) \n"
      ],
      "execution_count": 0,
      "outputs": []
    },
    {
      "cell_type": "code",
      "metadata": {
        "id": "pZHcXIoO_JtE",
        "colab_type": "code",
        "colab": {
          "base_uri": "https://localhost:8080/",
          "height": 521
        },
        "outputId": "5eaedc6f-bc9b-4ac0-dcad-9077a1c184c2"
      },
      "source": [
        "predictor = [\"Price\", \"Urban\",  \"US\" ]\n",
        "response = [\"Sales\"]\n",
        "X = data[predictor]\n",
        "y = data[response]\n",
        "print(\"************Predictor**************\")\n",
        "print(X)\n",
        "print(\"*************Response**************\")\n",
        "print(y)"
      ],
      "execution_count": 55,
      "outputs": [
        {
          "output_type": "stream",
          "text": [
            "************Predictor**************\n",
            "        Price  Urban  US\n",
            "0    0.177823      1   1\n",
            "1   -1.386854      1   1\n",
            "2   -1.513719      1   1\n",
            "3   -0.794814      1   1\n",
            "4    0.516132      1   0\n",
            "..        ...    ...  ..\n",
            "395  0.516132      1   1\n",
            "396  0.177823      0   1\n",
            "397  1.827078      1   1\n",
            "398 -0.879391      1   1\n",
            "399  0.177823      1   1\n",
            "\n",
            "[400 rows x 3 columns]\n",
            "*************Response**************\n",
            "        Sales\n",
            "0    0.710376\n",
            "1    1.320179\n",
            "2    0.908917\n",
            "3   -0.034151\n",
            "4   -1.186395\n",
            "..        ...\n",
            "395  1.798804\n",
            "396 -0.480867\n",
            "397 -0.030605\n",
            "398 -0.551774\n",
            "399  0.784829\n",
            "\n",
            "[400 rows x 1 columns]\n"
          ],
          "name": "stdout"
        }
      ]
    },
    {
      "cell_type": "code",
      "metadata": {
        "id": "OVMwXDUy_nU5",
        "colab_type": "code",
        "colab": {}
      },
      "source": [
        "# Splitting the dataset into train and test sets \n",
        "from sklearn.model_selection import train_test_split \n",
        "# 80-20 ratio the model is split into train and test\n",
        "X_train, X_test, y_train, y_test = train_test_split(X, y, test_size = 1/5, random_state = 123)"
      ],
      "execution_count": 0,
      "outputs": []
    },
    {
      "cell_type": "code",
      "metadata": {
        "id": "hZ3XBN4p_9Fa",
        "colab_type": "code",
        "colab": {
          "base_uri": "https://localhost:8080/",
          "height": 470
        },
        "outputId": "8c3b6f78-88b8-42d3-f71b-5c233987dd31"
      },
      "source": [
        "data_val = pd.DataFrame()\n",
        "data_val[predictor] =  X_train\n",
        "data_val[response]  = y_train\n",
        "lm=smf.ols('Sales ~ Price + US + Urban',data=data_val).fit()\n",
        "print(lm.summary())"
      ],
      "execution_count": 57,
      "outputs": [
        {
          "output_type": "stream",
          "text": [
            "                            OLS Regression Results                            \n",
            "==============================================================================\n",
            "Dep. Variable:                  Sales   R-squared:                       0.252\n",
            "Model:                            OLS   Adj. R-squared:                  0.245\n",
            "Method:                 Least Squares   F-statistic:                     35.43\n",
            "Date:                Sat, 01 Feb 2020   Prob (F-statistic):           9.14e-20\n",
            "Time:                        09:16:39   Log-Likelihood:                -414.06\n",
            "No. Observations:                 320   AIC:                             836.1\n",
            "Df Residuals:                     316   BIC:                             851.2\n",
            "Df Model:                           3                                         \n",
            "Covariance Type:            nonrobust                                         \n",
            "==============================================================================\n",
            "                 coef    std err          t      P>|t|      [0.025      0.975]\n",
            "------------------------------------------------------------------------------\n",
            "Intercept     -0.2421      0.111     -2.179      0.030      -0.461      -0.023\n",
            "Price         -0.4762      0.050     -9.583      0.000      -0.574      -0.378\n",
            "US             0.4276      0.103      4.155      0.000       0.225       0.630\n",
            "Urban         -0.0473      0.110     -0.432      0.666      -0.263       0.168\n",
            "==============================================================================\n",
            "Omnibus:                        0.871   Durbin-Watson:                   2.116\n",
            "Prob(Omnibus):                  0.647   Jarque-Bera (JB):                0.841\n",
            "Skew:                           0.125   Prob(JB):                        0.657\n",
            "Kurtosis:                       2.973   Cond. No.                         4.27\n",
            "==============================================================================\n",
            "\n",
            "Warnings:\n",
            "[1] Standard Errors assume that the covariance matrix of the errors is correctly specified.\n"
          ],
          "name": "stdout"
        }
      ]
    },
    {
      "cell_type": "markdown",
      "metadata": {
        "id": "OVpvHzYTCy8-",
        "colab_type": "text"
      },
      "source": [
        ""
      ]
    },
    {
      "cell_type": "markdown",
      "metadata": {
        "colab_type": "text",
        "id": "lka3qLEXCnaN"
      },
      "source": [
        "# Q1. b]\n",
        "\n",
        "\n"
      ]
    },
    {
      "cell_type": "code",
      "metadata": {
        "id": "IFUjhI8rC4rx",
        "colab_type": "code",
        "colab": {}
      },
      "source": [
        "\"\"\"\n",
        "\n",
        "To check if there is any relationship between variables we check the p value of the variabls\n",
        "the p-value of the  Urban in above example is not significant. Hence we can safely \n",
        "\n",
        "\"\"\""
      ],
      "execution_count": 0,
      "outputs": []
    },
    {
      "cell_type": "markdown",
      "metadata": {
        "id": "9vRmCjxRDkJW",
        "colab_type": "text"
      },
      "source": [
        "# Q1. c]\n",
        "\n"
      ]
    },
    {
      "cell_type": "code",
      "metadata": {
        "id": "HAUzBxo4Dlzg",
        "colab_type": "code",
        "colab": {}
      },
      "source": [
        "\"\"\"\n",
        "\n",
        "For Urban variable we can reject the null hypothesis \n",
        "\n",
        "\"\"\""
      ],
      "execution_count": 0,
      "outputs": []
    },
    {
      "cell_type": "markdown",
      "metadata": {
        "id": "DHyvyQfsD29w",
        "colab_type": "text"
      },
      "source": [
        "# Q1. d]"
      ]
    },
    {
      "cell_type": "code",
      "metadata": {
        "id": "HA9mD3iQD6cq",
        "colab_type": "code",
        "colab": {}
      },
      "source": [
        "\"\"\"\n",
        "Disadvantag are as follows:\n",
        "1. Linear Model assumes linearity of the Response and the predictor variables\n",
        "2. Linear Model is very sensitive to outliers \n",
        "3. Linear Model cannot be applied for models that are not linear for parameters\n",
        "\n",
        "\"\"\""
      ],
      "execution_count": 0,
      "outputs": []
    }
  ]
}