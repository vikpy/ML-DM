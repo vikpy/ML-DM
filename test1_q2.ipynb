{
  "nbformat": 4,
  "nbformat_minor": 0,
  "metadata": {
    "colab": {
      "name": "test1-q2.ipynb",
      "provenance": [],
      "collapsed_sections": [],
      "authorship_tag": "ABX9TyM+kFlzcS7P9WuPS9Frqo5S",
      "include_colab_link": true
    },
    "kernelspec": {
      "name": "python3",
      "display_name": "Python 3"
    }
  },
  "cells": [
    {
      "cell_type": "markdown",
      "metadata": {
        "id": "view-in-github",
        "colab_type": "text"
      },
      "source": [
        "<a href=\"https://colab.research.google.com/github/vikpy/mtechdatascience_mlcourse/blob/master/test1_q2.ipynb\" target=\"_parent\"><img src=\"https://colab.research.google.com/assets/colab-badge.svg\" alt=\"Open In Colab\"/></a>"
      ]
    },
    {
      "cell_type": "code",
      "metadata": {
        "id": "j3BVIYsjEeSg",
        "colab_type": "code",
        "colab": {}
      },
      "source": [
        "\"\"\"\n",
        "Q 2. Classification problem using Weekly data set: -\n",
        "a. Fit the logistic regression model using a training data period from 1990 to 2008, with Lag2 as the only predictor. \t\t\t\t\t\t\t\t\t\t\t\t\t\t\t\t\t\t\t\t4 marks\n",
        "b. Compute the confusion matrix and the overall fraction of correct predictions for the data from 2009 and 2010). Explain what the confusion matrix is telling you about the types of mistakes made by logistic regression \t\t\t\t\t\t\t\t\t\t\t\t\t\t\t\t\t\t2 mark\n",
        "c. Repeat experiment 1 with using KNN with K = 1\t\t\t\t\t \n",
        "d. Repeat experiment 1 with using Naive Bayes\t\t\n",
        "e. Which of these methods appears to provide the best results on this data? \n",
        "\"\"\""
      ],
      "execution_count": 0,
      "outputs": []
    },
    {
      "cell_type": "code",
      "metadata": {
        "id": "_YPWtchnE_wf",
        "colab_type": "code",
        "colab": {}
      },
      "source": [
        "import numpy as np\n",
        "import matplotlib.pyplot as plt\n",
        "import scipy\n",
        "import pandas as pd\n",
        "import math\n",
        "import random"
      ],
      "execution_count": 0,
      "outputs": []
    },
    {
      "cell_type": "markdown",
      "metadata": {
        "id": "1uxOKSsHFomL",
        "colab_type": "text"
      },
      "source": [
        "# Q2 a]"
      ]
    },
    {
      "cell_type": "code",
      "metadata": {
        "id": "_Z_a5F4qFa9G",
        "colab_type": "code",
        "colab": {
          "base_uri": "https://localhost:8080/",
          "height": 195
        },
        "outputId": "90409f5c-d1ee-43ea-c698-7e74a1ebcf66"
      },
      "source": [
        "data = pd.read_csv(\"/content/Weekly.csv\")\n",
        "data.head(5)"
      ],
      "execution_count": 15,
      "outputs": [
        {
          "output_type": "execute_result",
          "data": {
            "text/html": [
              "<div>\n",
              "<style scoped>\n",
              "    .dataframe tbody tr th:only-of-type {\n",
              "        vertical-align: middle;\n",
              "    }\n",
              "\n",
              "    .dataframe tbody tr th {\n",
              "        vertical-align: top;\n",
              "    }\n",
              "\n",
              "    .dataframe thead th {\n",
              "        text-align: right;\n",
              "    }\n",
              "</style>\n",
              "<table border=\"1\" class=\"dataframe\">\n",
              "  <thead>\n",
              "    <tr style=\"text-align: right;\">\n",
              "      <th></th>\n",
              "      <th>Year</th>\n",
              "      <th>Lag1</th>\n",
              "      <th>Lag2</th>\n",
              "      <th>Lag3</th>\n",
              "      <th>Lag4</th>\n",
              "      <th>Lag5</th>\n",
              "      <th>Volume</th>\n",
              "      <th>Today</th>\n",
              "      <th>Direction</th>\n",
              "    </tr>\n",
              "  </thead>\n",
              "  <tbody>\n",
              "    <tr>\n",
              "      <th>0</th>\n",
              "      <td>1990</td>\n",
              "      <td>0.816</td>\n",
              "      <td>1.572</td>\n",
              "      <td>-3.936</td>\n",
              "      <td>-0.229</td>\n",
              "      <td>-3.484</td>\n",
              "      <td>0.154976</td>\n",
              "      <td>-0.270</td>\n",
              "      <td>Down</td>\n",
              "    </tr>\n",
              "    <tr>\n",
              "      <th>1</th>\n",
              "      <td>1990</td>\n",
              "      <td>-0.270</td>\n",
              "      <td>0.816</td>\n",
              "      <td>1.572</td>\n",
              "      <td>-3.936</td>\n",
              "      <td>-0.229</td>\n",
              "      <td>0.148574</td>\n",
              "      <td>-2.576</td>\n",
              "      <td>Down</td>\n",
              "    </tr>\n",
              "    <tr>\n",
              "      <th>2</th>\n",
              "      <td>1990</td>\n",
              "      <td>-2.576</td>\n",
              "      <td>-0.270</td>\n",
              "      <td>0.816</td>\n",
              "      <td>1.572</td>\n",
              "      <td>-3.936</td>\n",
              "      <td>0.159837</td>\n",
              "      <td>3.514</td>\n",
              "      <td>Up</td>\n",
              "    </tr>\n",
              "    <tr>\n",
              "      <th>3</th>\n",
              "      <td>1990</td>\n",
              "      <td>3.514</td>\n",
              "      <td>-2.576</td>\n",
              "      <td>-0.270</td>\n",
              "      <td>0.816</td>\n",
              "      <td>1.572</td>\n",
              "      <td>0.161630</td>\n",
              "      <td>0.712</td>\n",
              "      <td>Up</td>\n",
              "    </tr>\n",
              "    <tr>\n",
              "      <th>4</th>\n",
              "      <td>1990</td>\n",
              "      <td>0.712</td>\n",
              "      <td>3.514</td>\n",
              "      <td>-2.576</td>\n",
              "      <td>-0.270</td>\n",
              "      <td>0.816</td>\n",
              "      <td>0.153728</td>\n",
              "      <td>1.178</td>\n",
              "      <td>Up</td>\n",
              "    </tr>\n",
              "  </tbody>\n",
              "</table>\n",
              "</div>"
            ],
            "text/plain": [
              "   Year   Lag1   Lag2   Lag3   Lag4   Lag5    Volume  Today Direction\n",
              "0  1990  0.816  1.572 -3.936 -0.229 -3.484  0.154976 -0.270      Down\n",
              "1  1990 -0.270  0.816  1.572 -3.936 -0.229  0.148574 -2.576      Down\n",
              "2  1990 -2.576 -0.270  0.816  1.572 -3.936  0.159837  3.514        Up\n",
              "3  1990  3.514 -2.576 -0.270  0.816  1.572  0.161630  0.712        Up\n",
              "4  1990  0.712  3.514 -2.576 -0.270  0.816  0.153728  1.178        Up"
            ]
          },
          "metadata": {
            "tags": []
          },
          "execution_count": 15
        }
      ]
    },
    {
      "cell_type": "code",
      "metadata": {
        "id": "9GVVTDbrF0sf",
        "colab_type": "code",
        "colab": {}
      },
      "source": [
        "predictor = [\"Lag1\"]\n",
        "response = [\"Direction\"]"
      ],
      "execution_count": 0,
      "outputs": []
    },
    {
      "cell_type": "code",
      "metadata": {
        "id": "7DapzXI5F8H8",
        "colab_type": "code",
        "colab": {}
      },
      "source": [
        "# Down Up to 1 and 0 \n",
        "\n",
        "def logical_convert(x):\n",
        "  if str(x) == \"Up\":\n",
        "    return 1 \n",
        "  else :\n",
        "    return 0 "
      ],
      "execution_count": 0,
      "outputs": []
    },
    {
      "cell_type": "code",
      "metadata": {
        "id": "zi-HLUnzGQh1",
        "colab_type": "code",
        "colab": {}
      },
      "source": [
        "data[\"Direction\"] = data[\"Direction\"].apply(logical_convert)"
      ],
      "execution_count": 0,
      "outputs": []
    },
    {
      "cell_type": "code",
      "metadata": {
        "id": "8nNG92OqGUwm",
        "colab_type": "code",
        "colab": {
          "base_uri": "https://localhost:8080/",
          "height": 195
        },
        "outputId": "c848ef35-7208-4b78-e24d-af088b0db77d"
      },
      "source": [
        "data.head()"
      ],
      "execution_count": 20,
      "outputs": [
        {
          "output_type": "execute_result",
          "data": {
            "text/html": [
              "<div>\n",
              "<style scoped>\n",
              "    .dataframe tbody tr th:only-of-type {\n",
              "        vertical-align: middle;\n",
              "    }\n",
              "\n",
              "    .dataframe tbody tr th {\n",
              "        vertical-align: top;\n",
              "    }\n",
              "\n",
              "    .dataframe thead th {\n",
              "        text-align: right;\n",
              "    }\n",
              "</style>\n",
              "<table border=\"1\" class=\"dataframe\">\n",
              "  <thead>\n",
              "    <tr style=\"text-align: right;\">\n",
              "      <th></th>\n",
              "      <th>Year</th>\n",
              "      <th>Lag1</th>\n",
              "      <th>Lag2</th>\n",
              "      <th>Lag3</th>\n",
              "      <th>Lag4</th>\n",
              "      <th>Lag5</th>\n",
              "      <th>Volume</th>\n",
              "      <th>Today</th>\n",
              "      <th>Direction</th>\n",
              "    </tr>\n",
              "  </thead>\n",
              "  <tbody>\n",
              "    <tr>\n",
              "      <th>0</th>\n",
              "      <td>1990</td>\n",
              "      <td>0.816</td>\n",
              "      <td>1.572</td>\n",
              "      <td>-3.936</td>\n",
              "      <td>-0.229</td>\n",
              "      <td>-3.484</td>\n",
              "      <td>0.154976</td>\n",
              "      <td>-0.270</td>\n",
              "      <td>0</td>\n",
              "    </tr>\n",
              "    <tr>\n",
              "      <th>1</th>\n",
              "      <td>1990</td>\n",
              "      <td>-0.270</td>\n",
              "      <td>0.816</td>\n",
              "      <td>1.572</td>\n",
              "      <td>-3.936</td>\n",
              "      <td>-0.229</td>\n",
              "      <td>0.148574</td>\n",
              "      <td>-2.576</td>\n",
              "      <td>0</td>\n",
              "    </tr>\n",
              "    <tr>\n",
              "      <th>2</th>\n",
              "      <td>1990</td>\n",
              "      <td>-2.576</td>\n",
              "      <td>-0.270</td>\n",
              "      <td>0.816</td>\n",
              "      <td>1.572</td>\n",
              "      <td>-3.936</td>\n",
              "      <td>0.159837</td>\n",
              "      <td>3.514</td>\n",
              "      <td>1</td>\n",
              "    </tr>\n",
              "    <tr>\n",
              "      <th>3</th>\n",
              "      <td>1990</td>\n",
              "      <td>3.514</td>\n",
              "      <td>-2.576</td>\n",
              "      <td>-0.270</td>\n",
              "      <td>0.816</td>\n",
              "      <td>1.572</td>\n",
              "      <td>0.161630</td>\n",
              "      <td>0.712</td>\n",
              "      <td>1</td>\n",
              "    </tr>\n",
              "    <tr>\n",
              "      <th>4</th>\n",
              "      <td>1990</td>\n",
              "      <td>0.712</td>\n",
              "      <td>3.514</td>\n",
              "      <td>-2.576</td>\n",
              "      <td>-0.270</td>\n",
              "      <td>0.816</td>\n",
              "      <td>0.153728</td>\n",
              "      <td>1.178</td>\n",
              "      <td>1</td>\n",
              "    </tr>\n",
              "  </tbody>\n",
              "</table>\n",
              "</div>"
            ],
            "text/plain": [
              "   Year   Lag1   Lag2   Lag3   Lag4   Lag5    Volume  Today  Direction\n",
              "0  1990  0.816  1.572 -3.936 -0.229 -3.484  0.154976 -0.270          0\n",
              "1  1990 -0.270  0.816  1.572 -3.936 -0.229  0.148574 -2.576          0\n",
              "2  1990 -2.576 -0.270  0.816  1.572 -3.936  0.159837  3.514          1\n",
              "3  1990  3.514 -2.576 -0.270  0.816  1.572  0.161630  0.712          1\n",
              "4  1990  0.712  3.514 -2.576 -0.270  0.816  0.153728  1.178          1"
            ]
          },
          "metadata": {
            "tags": []
          },
          "execution_count": 20
        }
      ]
    },
    {
      "cell_type": "code",
      "metadata": {
        "id": "9_wA61qSHFvY",
        "colab_type": "code",
        "colab": {
          "base_uri": "https://localhost:8080/",
          "height": 195
        },
        "outputId": "8193967d-06d8-4b8f-d9d0-3496666d7ffc"
      },
      "source": [
        "data1 = data[data[\"Year\"] >= 1990 ]\n",
        "data2 = data[data[\"Year\"] <= 2008 ]\n",
        "data3 = pd.concat([data1, data2])\n",
        "data3.head()"
      ],
      "execution_count": 24,
      "outputs": [
        {
          "output_type": "execute_result",
          "data": {
            "text/html": [
              "<div>\n",
              "<style scoped>\n",
              "    .dataframe tbody tr th:only-of-type {\n",
              "        vertical-align: middle;\n",
              "    }\n",
              "\n",
              "    .dataframe tbody tr th {\n",
              "        vertical-align: top;\n",
              "    }\n",
              "\n",
              "    .dataframe thead th {\n",
              "        text-align: right;\n",
              "    }\n",
              "</style>\n",
              "<table border=\"1\" class=\"dataframe\">\n",
              "  <thead>\n",
              "    <tr style=\"text-align: right;\">\n",
              "      <th></th>\n",
              "      <th>Year</th>\n",
              "      <th>Lag1</th>\n",
              "      <th>Lag2</th>\n",
              "      <th>Lag3</th>\n",
              "      <th>Lag4</th>\n",
              "      <th>Lag5</th>\n",
              "      <th>Volume</th>\n",
              "      <th>Today</th>\n",
              "      <th>Direction</th>\n",
              "    </tr>\n",
              "  </thead>\n",
              "  <tbody>\n",
              "    <tr>\n",
              "      <th>0</th>\n",
              "      <td>1990</td>\n",
              "      <td>0.816</td>\n",
              "      <td>1.572</td>\n",
              "      <td>-3.936</td>\n",
              "      <td>-0.229</td>\n",
              "      <td>-3.484</td>\n",
              "      <td>0.154976</td>\n",
              "      <td>-0.270</td>\n",
              "      <td>0</td>\n",
              "    </tr>\n",
              "    <tr>\n",
              "      <th>1</th>\n",
              "      <td>1990</td>\n",
              "      <td>-0.270</td>\n",
              "      <td>0.816</td>\n",
              "      <td>1.572</td>\n",
              "      <td>-3.936</td>\n",
              "      <td>-0.229</td>\n",
              "      <td>0.148574</td>\n",
              "      <td>-2.576</td>\n",
              "      <td>0</td>\n",
              "    </tr>\n",
              "    <tr>\n",
              "      <th>2</th>\n",
              "      <td>1990</td>\n",
              "      <td>-2.576</td>\n",
              "      <td>-0.270</td>\n",
              "      <td>0.816</td>\n",
              "      <td>1.572</td>\n",
              "      <td>-3.936</td>\n",
              "      <td>0.159837</td>\n",
              "      <td>3.514</td>\n",
              "      <td>1</td>\n",
              "    </tr>\n",
              "    <tr>\n",
              "      <th>3</th>\n",
              "      <td>1990</td>\n",
              "      <td>3.514</td>\n",
              "      <td>-2.576</td>\n",
              "      <td>-0.270</td>\n",
              "      <td>0.816</td>\n",
              "      <td>1.572</td>\n",
              "      <td>0.161630</td>\n",
              "      <td>0.712</td>\n",
              "      <td>1</td>\n",
              "    </tr>\n",
              "    <tr>\n",
              "      <th>4</th>\n",
              "      <td>1990</td>\n",
              "      <td>0.712</td>\n",
              "      <td>3.514</td>\n",
              "      <td>-2.576</td>\n",
              "      <td>-0.270</td>\n",
              "      <td>0.816</td>\n",
              "      <td>0.153728</td>\n",
              "      <td>1.178</td>\n",
              "      <td>1</td>\n",
              "    </tr>\n",
              "  </tbody>\n",
              "</table>\n",
              "</div>"
            ],
            "text/plain": [
              "   Year   Lag1   Lag2   Lag3   Lag4   Lag5    Volume  Today  Direction\n",
              "0  1990  0.816  1.572 -3.936 -0.229 -3.484  0.154976 -0.270          0\n",
              "1  1990 -0.270  0.816  1.572 -3.936 -0.229  0.148574 -2.576          0\n",
              "2  1990 -2.576 -0.270  0.816  1.572 -3.936  0.159837  3.514          1\n",
              "3  1990  3.514 -2.576 -0.270  0.816  1.572  0.161630  0.712          1\n",
              "4  1990  0.712  3.514 -2.576 -0.270  0.816  0.153728  1.178          1"
            ]
          },
          "metadata": {
            "tags": []
          },
          "execution_count": 24
        }
      ]
    },
    {
      "cell_type": "code",
      "metadata": {
        "id": "LyXFk5N5GsWs",
        "colab_type": "code",
        "colab": {}
      },
      "source": [
        "X = data3[\"Lag1\"]\n",
        "y = data3[\"Direction\"] "
      ],
      "execution_count": 0,
      "outputs": []
    },
    {
      "cell_type": "code",
      "metadata": {
        "id": "5ptzD0eqHCRL",
        "colab_type": "code",
        "colab": {}
      },
      "source": [
        "# Splitting the dataset into train and test sets \n",
        "from sklearn.model_selection import train_test_split \n",
        "# 80-20 ratio the model is split into train and test\n",
        "X_train, X_test, y_train, y_test = train_test_split(X, y, test_size = 1/5, random_state = 0)"
      ],
      "execution_count": 0,
      "outputs": []
    },
    {
      "cell_type": "code",
      "metadata": {
        "id": "kMrkJPApHndA",
        "colab_type": "code",
        "colab": {
          "base_uri": "https://localhost:8080/",
          "height": 101
        },
        "outputId": "7988dc67-922a-4327-96d8-d47c34b69405"
      },
      "source": [
        "from sklearn.linear_model import LogisticRegression \n",
        "classifier = LogisticRegression(random_state = 1)\n",
        "classifier.fit(X_train.values.reshape(-1,1), y_train)"
      ],
      "execution_count": 41,
      "outputs": [
        {
          "output_type": "execute_result",
          "data": {
            "text/plain": [
              "LogisticRegression(C=1.0, class_weight=None, dual=False, fit_intercept=True,\n",
              "                   intercept_scaling=1, l1_ratio=None, max_iter=100,\n",
              "                   multi_class='auto', n_jobs=None, penalty='l2',\n",
              "                   random_state=1, solver='lbfgs', tol=0.0001, verbose=0,\n",
              "                   warm_start=False)"
            ]
          },
          "metadata": {
            "tags": []
          },
          "execution_count": 41
        }
      ]
    },
    {
      "cell_type": "code",
      "metadata": {
        "id": "dSWoAJLAH9jZ",
        "colab_type": "code",
        "colab": {}
      },
      "source": [
        "y_pred = classifier.predict(X_test.values.reshape(-1,1))"
      ],
      "execution_count": 0,
      "outputs": []
    },
    {
      "cell_type": "code",
      "metadata": {
        "id": "LFtS6fsqIeEx",
        "colab_type": "code",
        "colab": {
          "base_uri": "https://localhost:8080/",
          "height": 50
        },
        "outputId": "5baf8392-52fc-4a36-b444-77cb4d005fa7"
      },
      "source": [
        "from sklearn.metrics import confusion_matrix \n",
        "cm  = confusion_matrix(y_test, y_pred)\n",
        "cm"
      ],
      "execution_count": 43,
      "outputs": [
        {
          "output_type": "execute_result",
          "data": {
            "text/plain": [
              "array([[  5, 188],\n",
              "       [  5, 217]])"
            ]
          },
          "metadata": {
            "tags": []
          },
          "execution_count": 43
        }
      ]
    },
    {
      "cell_type": "markdown",
      "metadata": {
        "id": "SuFHhAD4I0su",
        "colab_type": "text"
      },
      "source": [
        "# Q2 b]"
      ]
    },
    {
      "cell_type": "code",
      "metadata": {
        "id": "mxXpdrhyI4GE",
        "colab_type": "code",
        "colab": {}
      },
      "source": [
        "data4 = data[data[\"Year\"] >= 2009 ]\n",
        "data5 = data[data[\"Year\"] <= 2010 ]\n",
        "data6 = pd.concat([data4, data5])\n",
        "X_val_new = data6[\"Lag1\"]\n",
        "y_val_new = data6[\"Direction\"]"
      ],
      "execution_count": 0,
      "outputs": []
    },
    {
      "cell_type": "code",
      "metadata": {
        "id": "QoJjZ1smJV0_",
        "colab_type": "code",
        "colab": {
          "base_uri": "https://localhost:8080/",
          "height": 50
        },
        "outputId": "8b11d092-cab6-40d2-dc50-3554b45034bd"
      },
      "source": [
        "y_val_pred = classifier.predict(X_val_new.values.reshape(-1,1))\n",
        "from sklearn.metrics import confusion_matrix \n",
        "cm  = confusion_matrix( y_val_new,  y_val_pred)\n",
        "cm"
      ],
      "execution_count": 48,
      "outputs": [
        {
          "output_type": "execute_result",
          "data": {
            "text/plain": [
              "array([[ 14, 513],\n",
              "       [ 17, 649]])"
            ]
          },
          "metadata": {
            "tags": []
          },
          "execution_count": 48
        }
      ]
    },
    {
      "cell_type": "code",
      "metadata": {
        "id": "GYNi1wuVJyJv",
        "colab_type": "code",
        "colab": {}
      },
      "source": [
        "\"\"\"\n",
        "In the above confusion matrix we have 14 down directions which were predicted correctly and 649 Up directions that were predicted corretly.\n",
        "513 Downs were not predicted correctly and 17 Ups were not predicted correctly\n",
        "\"\"\"\n",
        "\n"
      ],
      "execution_count": 0,
      "outputs": []
    },
    {
      "cell_type": "markdown",
      "metadata": {
        "id": "fXtwt86gFlVI",
        "colab_type": "text"
      },
      "source": [
        "# Q2 d]"
      ]
    },
    {
      "cell_type": "code",
      "metadata": {
        "id": "qoZ8GXjrKiQn",
        "colab_type": "code",
        "colab": {
          "base_uri": "https://localhost:8080/",
          "height": 50
        },
        "outputId": "240b0728-201b-4c59-823e-52c5d56eccbd"
      },
      "source": [
        "#Naive Bayes\n",
        "from sklearn.naive_bayes import GaussianNB\n",
        "\n",
        "# instantiate the model (using the default parameters)\n",
        "model = GaussianNB()\n",
        "# fit the model with data\n",
        "model.fit(X_train.values.reshape(-1,1),y_train)\n",
        "#\n",
        "y_val_pred = model.predict(X_val_new.values.reshape(-1,1))\n",
        "cm  = confusion_matrix( y_val_new,  y_val_pred)\n",
        "cm"
      ],
      "execution_count": 51,
      "outputs": [
        {
          "output_type": "execute_result",
          "data": {
            "text/plain": [
              "array([[  0, 527],\n",
              "       [  0, 666]])"
            ]
          },
          "metadata": {
            "tags": []
          },
          "execution_count": 51
        }
      ]
    },
    {
      "cell_type": "markdown",
      "metadata": {
        "id": "RWqwho5wLJoo",
        "colab_type": "text"
      },
      "source": [
        "# Q2 c]"
      ]
    },
    {
      "cell_type": "code",
      "metadata": {
        "id": "uH8CTMX9K3Pm",
        "colab_type": "code",
        "colab": {
          "base_uri": "https://localhost:8080/",
          "height": 50
        },
        "outputId": "a8015e4d-8428-410b-e35e-73fa7d82985f"
      },
      "source": [
        "#KNN\n",
        "from sklearn.neighbors import KNeighborsClassifier\n",
        "\n",
        "# instantiate the model (using the default parameters)\n",
        "model = KNeighborsClassifier()\n",
        "# fit the model with data\n",
        "model.fit(X_train.values.reshape(-1,1),y_train)\n",
        "#\n",
        "y_val_pred = model.predict(X_val_new.values.reshape(-1,1))\n",
        "cm  = confusion_matrix( y_val_new,  y_val_pred)\n",
        "cm"
      ],
      "execution_count": 52,
      "outputs": [
        {
          "output_type": "execute_result",
          "data": {
            "text/plain": [
              "array([[336, 191],\n",
              "       [146, 520]])"
            ]
          },
          "metadata": {
            "tags": []
          },
          "execution_count": 52
        }
      ]
    },
    {
      "cell_type": "markdown",
      "metadata": {
        "id": "gFsddYLbLU2v",
        "colab_type": "text"
      },
      "source": [
        "# Q2 e]"
      ]
    },
    {
      "cell_type": "code",
      "metadata": {
        "id": "OGrJkxQVLX-f",
        "colab_type": "code",
        "colab": {}
      },
      "source": [
        "\"\"\"\n",
        "From the confusion matrices above we can say that KNN has the highest accuracy amongst all \n",
        "\"\"\""
      ],
      "execution_count": 0,
      "outputs": []
    }
  ]
}