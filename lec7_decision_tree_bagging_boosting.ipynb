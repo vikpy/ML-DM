{
  "nbformat": 4,
  "nbformat_minor": 0,
  "metadata": {
    "colab": {
      "name": "lec7_decision_tree_bagging_boosting.ipynb",
      "provenance": [],
      "collapsed_sections": [],
      "include_colab_link": true
    },
    "kernelspec": {
      "name": "python3",
      "display_name": "Python 3"
    }
  },
  "cells": [
    {
      "cell_type": "markdown",
      "metadata": {
        "id": "view-in-github",
        "colab_type": "text"
      },
      "source": [
        "<a href=\"https://colab.research.google.com/github/vikpy/mtechdatascience_mlcourse/blob/master/lec7_decision_tree_bagging_boosting.ipynb\" target=\"_parent\"><img src=\"https://colab.research.google.com/assets/colab-badge.svg\" alt=\"Open In Colab\"/></a>"
      ]
    },
    {
      "cell_type": "code",
      "metadata": {
        "id": "Vi56v9UpOKSo",
        "colab_type": "code",
        "colab": {}
      },
      "source": [
        "import numpy as np \n",
        "import pandas as pd \n",
        "from sklearn.model_selection import train_test_split \n",
        "from sklearn.tree import DecisionTreeClassifier, export_graphviz, DecisionTreeRegressor\n",
        "from sklearn.ensemble import RandomForestRegressor, GradientBoostingRegressor\n",
        "from sklearn.metrics import confusion_matrix, accuracy_score, mean_squared_error, classification_report\n",
        "from sklearn import tree\n",
        "from sklearn.preprocessing import scale\n",
        "import graphviz \n",
        "import matplotlib.pyplot as plt\n",
        "%matplotlib inline "
      ],
      "execution_count": 0,
      "outputs": []
    },
    {
      "cell_type": "code",
      "metadata": {
        "id": "RkbQxf-uO9HW",
        "colab_type": "code",
        "outputId": "550144f2-7f3a-470f-c8ce-cb75852382c9",
        "colab": {
          "base_uri": "https://localhost:8080/",
          "height": 302
        }
      },
      "source": [
        "\n",
        "carseats = pd.read_csv(\"/content/Carseats.csv\")\n",
        "carseats[\"High\"] = carseats.Sales.map(lambda x : 'Y' if x>8 else 'N')\n",
        "carseats.ShelveLoc = pd.factorize(carseats.ShelveLoc)[0]\n",
        "carseats.Urban = carseats.Urban.map({'No': 0, 'Yes': 1})\n",
        "carseats.US = carseats.US.map({'No' : 0 , \"Yes\": 1})\n",
        "carseats.info()"
      ],
      "execution_count": 2,
      "outputs": [
        {
          "output_type": "stream",
          "text": [
            "<class 'pandas.core.frame.DataFrame'>\n",
            "RangeIndex: 400 entries, 0 to 399\n",
            "Data columns (total 12 columns):\n",
            "Sales          400 non-null float64\n",
            "CompPrice      400 non-null int64\n",
            "Income         400 non-null int64\n",
            "Advertising    400 non-null int64\n",
            "Population     400 non-null int64\n",
            "Price          400 non-null int64\n",
            "ShelveLoc      400 non-null int64\n",
            "Age            400 non-null int64\n",
            "Education      400 non-null int64\n",
            "Urban          400 non-null int64\n",
            "US             400 non-null int64\n",
            "High           400 non-null object\n",
            "dtypes: float64(1), int64(10), object(1)\n",
            "memory usage: 37.6+ KB\n"
          ],
          "name": "stdout"
        }
      ]
    },
    {
      "cell_type": "code",
      "metadata": {
        "id": "LkLzH0itPkjM",
        "colab_type": "code",
        "colab": {}
      },
      "source": [
        "X = carseats.drop([\"Sales\", \"High\"], axis = 1)\n",
        "y = carseats.High\n",
        "X_train, X_test, y_train, y_test = train_test_split(X, y, train_size=200, random_state=0)"
      ],
      "execution_count": 0,
      "outputs": []
    },
    {
      "cell_type": "markdown",
      "metadata": {
        "id": "ACnrPdZaRJkG",
        "colab_type": "text"
      },
      "source": [
        "To build a tree we could use gini or entropy as split criterion at each node. Here I provide an example use 'gini'. If we change the hyperparameter, the clf score jumps around\n"
      ]
    },
    {
      "cell_type": "code",
      "metadata": {
        "id": "QUO0ukY8ReOJ",
        "colab_type": "code",
        "outputId": "9e191a1e-bbbe-434b-ae46-72d71b581689",
        "colab": {
          "base_uri": "https://localhost:8080/",
          "height": 34
        }
      },
      "source": [
        "clf_gini = DecisionTreeClassifier(criterion=\"gini\", random_state=100, max_depth=8, min_samples_leaf=4)  # min_samples_leaf gives the minimum samples in the leaf nodes \n",
        "clf_gini.fit(X_train, y_train)\n",
        "print(clf_gini.score(X_train, y_train))"
      ],
      "execution_count": 4,
      "outputs": [
        {
          "output_type": "stream",
          "text": [
            "0.9\n"
          ],
          "name": "stdout"
        }
      ]
    },
    {
      "cell_type": "markdown",
      "metadata": {
        "id": "oOxG4bugS6mR",
        "colab_type": "text"
      },
      "source": [
        "The most attractive feature of a tree is visualization. Here we first need to save the model file into a .dot file and graphviz Source to display "
      ]
    },
    {
      "cell_type": "code",
      "metadata": {
        "id": "r4IqvMNyTVNd",
        "colab_type": "code",
        "outputId": "c52ad9fe-4130-4b42-d01f-0f118411f07f",
        "colab": {
          "base_uri": "https://localhost:8080/",
          "height": 1000
        }
      },
      "source": [
        "export_graphviz(clf_gini, out_file=\"mytree.dot\", feature_names=X_train.columns)\n",
        "with open(\"mytree.dot\") as f:\n",
        "  dot_graph = f.read()\n",
        "graphviz.Source(dot_graph)"
      ],
      "execution_count": 5,
      "outputs": [
        {
          "output_type": "execute_result",
          "data": {
            "text/plain": [
              "<graphviz.files.Source at 0x7f539cf2d940>"
            ],
            "image/svg+xml": "<?xml version=\"1.0\" encoding=\"UTF-8\" standalone=\"no\"?>\n<!DOCTYPE svg PUBLIC \"-//W3C//DTD SVG 1.1//EN\"\n \"http://www.w3.org/Graphics/SVG/1.1/DTD/svg11.dtd\">\n<!-- Generated by graphviz version 2.40.1 (20161225.0304)\n -->\n<!-- Title: Tree Pages: 1 -->\n<svg width=\"1676pt\" height=\"789pt\"\n viewBox=\"0.00 0.00 1675.50 789.00\" xmlns=\"http://www.w3.org/2000/svg\" xmlns:xlink=\"http://www.w3.org/1999/xlink\">\n<g id=\"graph0\" class=\"graph\" transform=\"scale(1 1) rotate(0) translate(4 785)\">\n<title>Tree</title>\n<polygon fill=\"#ffffff\" stroke=\"transparent\" points=\"-4,4 -4,-785 1671.5,-785 1671.5,4 -4,4\"/>\n<!-- 0 -->\n<g id=\"node1\" class=\"node\">\n<title>0</title>\n<polygon fill=\"none\" stroke=\"#000000\" points=\"602.5,-781 486.5,-781 486.5,-713 602.5,-713 602.5,-781\"/>\n<text text-anchor=\"middle\" x=\"544.5\" y=\"-765.8\" font-family=\"Times,serif\" font-size=\"14.00\" fill=\"#000000\">Price &lt;= 94.5</text>\n<text text-anchor=\"middle\" x=\"544.5\" y=\"-750.8\" font-family=\"Times,serif\" font-size=\"14.00\" fill=\"#000000\">gini = 0.484</text>\n<text text-anchor=\"middle\" x=\"544.5\" y=\"-735.8\" font-family=\"Times,serif\" font-size=\"14.00\" fill=\"#000000\">samples = 200</text>\n<text text-anchor=\"middle\" x=\"544.5\" y=\"-720.8\" font-family=\"Times,serif\" font-size=\"14.00\" fill=\"#000000\">value = [118, 82]</text>\n</g>\n<!-- 1 -->\n<g id=\"node2\" class=\"node\">\n<title>1</title>\n<polygon fill=\"none\" stroke=\"#000000\" points=\"406.5,-677 304.5,-677 304.5,-609 406.5,-609 406.5,-677\"/>\n<text text-anchor=\"middle\" x=\"355.5\" y=\"-661.8\" font-family=\"Times,serif\" font-size=\"14.00\" fill=\"#000000\">Age &lt;= 55.5</text>\n<text text-anchor=\"middle\" x=\"355.5\" y=\"-646.8\" font-family=\"Times,serif\" font-size=\"14.00\" fill=\"#000000\">gini = 0.349</text>\n<text text-anchor=\"middle\" x=\"355.5\" y=\"-631.8\" font-family=\"Times,serif\" font-size=\"14.00\" fill=\"#000000\">samples = 40</text>\n<text text-anchor=\"middle\" x=\"355.5\" y=\"-616.8\" font-family=\"Times,serif\" font-size=\"14.00\" fill=\"#000000\">value = [9, 31]</text>\n</g>\n<!-- 0&#45;&gt;1 -->\n<g id=\"edge1\" class=\"edge\">\n<title>0&#45;&gt;1</title>\n<path fill=\"none\" stroke=\"#000000\" d=\"M486.2516,-714.948C463.7499,-702.5661 438.016,-688.4056 415.3638,-675.9409\"/>\n<polygon fill=\"#000000\" stroke=\"#000000\" points=\"416.9692,-672.8294 406.5206,-671.0748 413.5945,-678.9623 416.9692,-672.8294\"/>\n<text text-anchor=\"middle\" x=\"413.486\" y=\"-691.3849\" font-family=\"Times,serif\" font-size=\"14.00\" fill=\"#000000\">True</text>\n</g>\n<!-- 10 -->\n<g id=\"node11\" class=\"node\">\n<title>10</title>\n<polygon fill=\"none\" stroke=\"#000000\" points=\"802.5,-677 668.5,-677 668.5,-609 802.5,-609 802.5,-677\"/>\n<text text-anchor=\"middle\" x=\"735.5\" y=\"-661.8\" font-family=\"Times,serif\" font-size=\"14.00\" fill=\"#000000\">Advertising &lt;= 13.5</text>\n<text text-anchor=\"middle\" x=\"735.5\" y=\"-646.8\" font-family=\"Times,serif\" font-size=\"14.00\" fill=\"#000000\">gini = 0.434</text>\n<text text-anchor=\"middle\" x=\"735.5\" y=\"-631.8\" font-family=\"Times,serif\" font-size=\"14.00\" fill=\"#000000\">samples = 160</text>\n<text text-anchor=\"middle\" x=\"735.5\" y=\"-616.8\" font-family=\"Times,serif\" font-size=\"14.00\" fill=\"#000000\">value = [109, 51]</text>\n</g>\n<!-- 0&#45;&gt;10 -->\n<g id=\"edge10\" class=\"edge\">\n<title>0&#45;&gt;10</title>\n<path fill=\"none\" stroke=\"#000000\" d=\"M602.5842,-715.373C621.992,-704.8054 643.8485,-692.9045 664.1474,-681.8517\"/>\n<polygon fill=\"#000000\" stroke=\"#000000\" points=\"665.9349,-684.8637 673.0436,-677.0077 662.5874,-678.7159 665.9349,-684.8637\"/>\n<text text-anchor=\"middle\" x=\"665.9719\" y=\"-697.2866\" font-family=\"Times,serif\" font-size=\"14.00\" fill=\"#000000\">False</text>\n</g>\n<!-- 2 -->\n<g id=\"node3\" class=\"node\">\n<title>2</title>\n<polygon fill=\"none\" stroke=\"#000000\" points=\"225,-573 104,-573 104,-505 225,-505 225,-573\"/>\n<text text-anchor=\"middle\" x=\"164.5\" y=\"-557.8\" font-family=\"Times,serif\" font-size=\"14.00\" fill=\"#000000\">ShelveLoc &lt;= 0.5</text>\n<text text-anchor=\"middle\" x=\"164.5\" y=\"-542.8\" font-family=\"Times,serif\" font-size=\"14.00\" fill=\"#000000\">gini = 0.159</text>\n<text text-anchor=\"middle\" x=\"164.5\" y=\"-527.8\" font-family=\"Times,serif\" font-size=\"14.00\" fill=\"#000000\">samples = 23</text>\n<text text-anchor=\"middle\" x=\"164.5\" y=\"-512.8\" font-family=\"Times,serif\" font-size=\"14.00\" fill=\"#000000\">value = [2, 21]</text>\n</g>\n<!-- 1&#45;&gt;2 -->\n<g id=\"edge2\" class=\"edge\">\n<title>1&#45;&gt;2</title>\n<path fill=\"none\" stroke=\"#000000\" d=\"M304.3155,-615.1299C282.8541,-603.4441 257.5562,-589.6693 234.4205,-577.0719\"/>\n<polygon fill=\"#000000\" stroke=\"#000000\" points=\"235.7918,-573.8334 225.3356,-572.1251 232.4443,-579.9811 235.7918,-573.8334\"/>\n</g>\n<!-- 5 -->\n<g id=\"node6\" class=\"node\">\n<title>5</title>\n<polygon fill=\"none\" stroke=\"#000000\" points=\"406.5,-573 304.5,-573 304.5,-505 406.5,-505 406.5,-573\"/>\n<text text-anchor=\"middle\" x=\"355.5\" y=\"-557.8\" font-family=\"Times,serif\" font-size=\"14.00\" fill=\"#000000\">Price &lt;= 80.0</text>\n<text text-anchor=\"middle\" x=\"355.5\" y=\"-542.8\" font-family=\"Times,serif\" font-size=\"14.00\" fill=\"#000000\">gini = 0.484</text>\n<text text-anchor=\"middle\" x=\"355.5\" y=\"-527.8\" font-family=\"Times,serif\" font-size=\"14.00\" fill=\"#000000\">samples = 17</text>\n<text text-anchor=\"middle\" x=\"355.5\" y=\"-512.8\" font-family=\"Times,serif\" font-size=\"14.00\" fill=\"#000000\">value = [7, 10]</text>\n</g>\n<!-- 1&#45;&gt;5 -->\n<g id=\"edge5\" class=\"edge\">\n<title>1&#45;&gt;5</title>\n<path fill=\"none\" stroke=\"#000000\" d=\"M355.5,-608.9465C355.5,-600.776 355.5,-591.9318 355.5,-583.3697\"/>\n<polygon fill=\"#000000\" stroke=\"#000000\" points=\"359.0001,-583.13 355.5,-573.13 352.0001,-583.13 359.0001,-583.13\"/>\n</g>\n<!-- 3 -->\n<g id=\"node4\" class=\"node\">\n<title>3</title>\n<polygon fill=\"none\" stroke=\"#000000\" points=\"95,-461.5 0,-461.5 0,-408.5 95,-408.5 95,-461.5\"/>\n<text text-anchor=\"middle\" x=\"47.5\" y=\"-446.3\" font-family=\"Times,serif\" font-size=\"14.00\" fill=\"#000000\">gini = 0.444</text>\n<text text-anchor=\"middle\" x=\"47.5\" y=\"-431.3\" font-family=\"Times,serif\" font-size=\"14.00\" fill=\"#000000\">samples = 6</text>\n<text text-anchor=\"middle\" x=\"47.5\" y=\"-416.3\" font-family=\"Times,serif\" font-size=\"14.00\" fill=\"#000000\">value = [2, 4]</text>\n</g>\n<!-- 2&#45;&gt;3 -->\n<g id=\"edge3\" class=\"edge\">\n<title>2&#45;&gt;3</title>\n<path fill=\"none\" stroke=\"#000000\" d=\"M126.1898,-504.9465C112.9306,-493.1606 98.0942,-479.9726 84.9084,-468.2519\"/>\n<polygon fill=\"#000000\" stroke=\"#000000\" points=\"87.1593,-465.5699 77.3599,-461.5422 82.5088,-470.8018 87.1593,-465.5699\"/>\n</g>\n<!-- 4 -->\n<g id=\"node5\" class=\"node\">\n<title>4</title>\n<polygon fill=\"none\" stroke=\"#000000\" points=\"215.5,-461.5 113.5,-461.5 113.5,-408.5 215.5,-408.5 215.5,-461.5\"/>\n<text text-anchor=\"middle\" x=\"164.5\" y=\"-446.3\" font-family=\"Times,serif\" font-size=\"14.00\" fill=\"#000000\">gini = 0.0</text>\n<text text-anchor=\"middle\" x=\"164.5\" y=\"-431.3\" font-family=\"Times,serif\" font-size=\"14.00\" fill=\"#000000\">samples = 17</text>\n<text text-anchor=\"middle\" x=\"164.5\" y=\"-416.3\" font-family=\"Times,serif\" font-size=\"14.00\" fill=\"#000000\">value = [0, 17]</text>\n</g>\n<!-- 2&#45;&gt;4 -->\n<g id=\"edge4\" class=\"edge\">\n<title>2&#45;&gt;4</title>\n<path fill=\"none\" stroke=\"#000000\" d=\"M164.5,-504.9465C164.5,-494.2621 164.5,-482.4254 164.5,-471.5742\"/>\n<polygon fill=\"#000000\" stroke=\"#000000\" points=\"168.0001,-471.5421 164.5,-461.5422 161.0001,-471.5422 168.0001,-471.5421\"/>\n</g>\n<!-- 6 -->\n<g id=\"node7\" class=\"node\">\n<title>6</title>\n<polygon fill=\"none\" stroke=\"#000000\" points=\"329,-461.5 234,-461.5 234,-408.5 329,-408.5 329,-461.5\"/>\n<text text-anchor=\"middle\" x=\"281.5\" y=\"-446.3\" font-family=\"Times,serif\" font-size=\"14.00\" fill=\"#000000\">gini = 0.0</text>\n<text text-anchor=\"middle\" x=\"281.5\" y=\"-431.3\" font-family=\"Times,serif\" font-size=\"14.00\" fill=\"#000000\">samples = 6</text>\n<text text-anchor=\"middle\" x=\"281.5\" y=\"-416.3\" font-family=\"Times,serif\" font-size=\"14.00\" fill=\"#000000\">value = [0, 6]</text>\n</g>\n<!-- 5&#45;&gt;6 -->\n<g id=\"edge6\" class=\"edge\">\n<title>5&#45;&gt;6</title>\n<path fill=\"none\" stroke=\"#000000\" d=\"M331.2696,-504.9465C323.2754,-493.7113 314.3746,-481.2021 306.3358,-469.9043\"/>\n<polygon fill=\"#000000\" stroke=\"#000000\" points=\"309.0351,-467.6609 300.3858,-461.5422 303.3316,-471.7192 309.0351,-467.6609\"/>\n</g>\n<!-- 7 -->\n<g id=\"node8\" class=\"node\">\n<title>7</title>\n<polygon fill=\"none\" stroke=\"#000000\" points=\"485.5,-469 347.5,-469 347.5,-401 485.5,-401 485.5,-469\"/>\n<text text-anchor=\"middle\" x=\"416.5\" y=\"-453.8\" font-family=\"Times,serif\" font-size=\"14.00\" fill=\"#000000\">CompPrice &lt;= 112.0</text>\n<text text-anchor=\"middle\" x=\"416.5\" y=\"-438.8\" font-family=\"Times,serif\" font-size=\"14.00\" fill=\"#000000\">gini = 0.463</text>\n<text text-anchor=\"middle\" x=\"416.5\" y=\"-423.8\" font-family=\"Times,serif\" font-size=\"14.00\" fill=\"#000000\">samples = 11</text>\n<text text-anchor=\"middle\" x=\"416.5\" y=\"-408.8\" font-family=\"Times,serif\" font-size=\"14.00\" fill=\"#000000\">value = [7, 4]</text>\n</g>\n<!-- 5&#45;&gt;7 -->\n<g id=\"edge7\" class=\"edge\">\n<title>5&#45;&gt;7</title>\n<path fill=\"none\" stroke=\"#000000\" d=\"M375.4737,-504.9465C380.5293,-496.3271 386.0247,-486.9579 391.3017,-477.9611\"/>\n<polygon fill=\"#000000\" stroke=\"#000000\" points=\"394.4411,-479.5265 396.4814,-469.13 388.4031,-475.985 394.4411,-479.5265\"/>\n</g>\n<!-- 8 -->\n<g id=\"node9\" class=\"node\">\n<title>8</title>\n<polygon fill=\"none\" stroke=\"#000000\" points=\"351,-357.5 256,-357.5 256,-304.5 351,-304.5 351,-357.5\"/>\n<text text-anchor=\"middle\" x=\"303.5\" y=\"-342.3\" font-family=\"Times,serif\" font-size=\"14.00\" fill=\"#000000\">gini = 0.0</text>\n<text text-anchor=\"middle\" x=\"303.5\" y=\"-327.3\" font-family=\"Times,serif\" font-size=\"14.00\" fill=\"#000000\">samples = 6</text>\n<text text-anchor=\"middle\" x=\"303.5\" y=\"-312.3\" font-family=\"Times,serif\" font-size=\"14.00\" fill=\"#000000\">value = [6, 0]</text>\n</g>\n<!-- 7&#45;&gt;8 -->\n<g id=\"edge8\" class=\"edge\">\n<title>7&#45;&gt;8</title>\n<path fill=\"none\" stroke=\"#000000\" d=\"M379.4996,-400.9465C366.8134,-389.2707 352.6322,-376.219 339.987,-364.5809\"/>\n<polygon fill=\"#000000\" stroke=\"#000000\" points=\"342.0673,-361.7389 332.3391,-357.5422 337.3269,-366.8895 342.0673,-361.7389\"/>\n</g>\n<!-- 9 -->\n<g id=\"node10\" class=\"node\">\n<title>9</title>\n<polygon fill=\"none\" stroke=\"#000000\" points=\"464,-357.5 369,-357.5 369,-304.5 464,-304.5 464,-357.5\"/>\n<text text-anchor=\"middle\" x=\"416.5\" y=\"-342.3\" font-family=\"Times,serif\" font-size=\"14.00\" fill=\"#000000\">gini = 0.32</text>\n<text text-anchor=\"middle\" x=\"416.5\" y=\"-327.3\" font-family=\"Times,serif\" font-size=\"14.00\" fill=\"#000000\">samples = 5</text>\n<text text-anchor=\"middle\" x=\"416.5\" y=\"-312.3\" font-family=\"Times,serif\" font-size=\"14.00\" fill=\"#000000\">value = [1, 4]</text>\n</g>\n<!-- 7&#45;&gt;9 -->\n<g id=\"edge9\" class=\"edge\">\n<title>7&#45;&gt;9</title>\n<path fill=\"none\" stroke=\"#000000\" d=\"M416.5,-400.9465C416.5,-390.2621 416.5,-378.4254 416.5,-367.5742\"/>\n<polygon fill=\"#000000\" stroke=\"#000000\" points=\"420.0001,-367.5421 416.5,-357.5422 413.0001,-367.5422 420.0001,-367.5421\"/>\n</g>\n<!-- 11 -->\n<g id=\"node12\" class=\"node\">\n<title>11</title>\n<polygon fill=\"none\" stroke=\"#000000\" points=\"805,-573 666,-573 666,-505 805,-505 805,-573\"/>\n<text text-anchor=\"middle\" x=\"735.5\" y=\"-557.8\" font-family=\"Times,serif\" font-size=\"14.00\" fill=\"#000000\">CompPrice &lt;= 126.5</text>\n<text text-anchor=\"middle\" x=\"735.5\" y=\"-542.8\" font-family=\"Times,serif\" font-size=\"14.00\" fill=\"#000000\">gini = 0.358</text>\n<text text-anchor=\"middle\" x=\"735.5\" y=\"-527.8\" font-family=\"Times,serif\" font-size=\"14.00\" fill=\"#000000\">samples = 124</text>\n<text text-anchor=\"middle\" x=\"735.5\" y=\"-512.8\" font-family=\"Times,serif\" font-size=\"14.00\" fill=\"#000000\">value = [95, 29]</text>\n</g>\n<!-- 10&#45;&gt;11 -->\n<g id=\"edge11\" class=\"edge\">\n<title>10&#45;&gt;11</title>\n<path fill=\"none\" stroke=\"#000000\" d=\"M735.5,-608.9465C735.5,-600.776 735.5,-591.9318 735.5,-583.3697\"/>\n<polygon fill=\"#000000\" stroke=\"#000000\" points=\"739.0001,-583.13 735.5,-573.13 732.0001,-583.13 739.0001,-583.13\"/>\n</g>\n<!-- 34 -->\n<g id=\"node35\" class=\"node\">\n<title>34</title>\n<polygon fill=\"none\" stroke=\"#000000\" points=\"1342.5,-573 1232.5,-573 1232.5,-505 1342.5,-505 1342.5,-573\"/>\n<text text-anchor=\"middle\" x=\"1287.5\" y=\"-557.8\" font-family=\"Times,serif\" font-size=\"14.00\" fill=\"#000000\">Price &lt;= 135.5</text>\n<text text-anchor=\"middle\" x=\"1287.5\" y=\"-542.8\" font-family=\"Times,serif\" font-size=\"14.00\" fill=\"#000000\">gini = 0.475</text>\n<text text-anchor=\"middle\" x=\"1287.5\" y=\"-527.8\" font-family=\"Times,serif\" font-size=\"14.00\" fill=\"#000000\">samples = 36</text>\n<text text-anchor=\"middle\" x=\"1287.5\" y=\"-512.8\" font-family=\"Times,serif\" font-size=\"14.00\" fill=\"#000000\">value = [14, 22]</text>\n</g>\n<!-- 10&#45;&gt;34 -->\n<g id=\"edge34\" class=\"edge\">\n<title>10&#45;&gt;34</title>\n<path fill=\"none\" stroke=\"#000000\" d=\"M802.6342,-630.3515C909.518,-610.214 1117.0436,-571.115 1222.5426,-551.2383\"/>\n<polygon fill=\"#000000\" stroke=\"#000000\" points=\"1223.2479,-554.6671 1232.4269,-549.3761 1221.9518,-547.7882 1223.2479,-554.6671\"/>\n</g>\n<!-- 12 -->\n<g id=\"node13\" class=\"node\">\n<title>12</title>\n<polygon fill=\"none\" stroke=\"#000000\" points=\"728,-469 611,-469 611,-401 728,-401 728,-469\"/>\n<text text-anchor=\"middle\" x=\"669.5\" y=\"-453.8\" font-family=\"Times,serif\" font-size=\"14.00\" fill=\"#000000\">Income &lt;= 101.0</text>\n<text text-anchor=\"middle\" x=\"669.5\" y=\"-438.8\" font-family=\"Times,serif\" font-size=\"14.00\" fill=\"#000000\">gini = 0.168</text>\n<text text-anchor=\"middle\" x=\"669.5\" y=\"-423.8\" font-family=\"Times,serif\" font-size=\"14.00\" fill=\"#000000\">samples = 54</text>\n<text text-anchor=\"middle\" x=\"669.5\" y=\"-408.8\" font-family=\"Times,serif\" font-size=\"14.00\" fill=\"#000000\">value = [49, 5]</text>\n</g>\n<!-- 11&#45;&gt;12 -->\n<g id=\"edge12\" class=\"edge\">\n<title>11&#45;&gt;12</title>\n<path fill=\"none\" stroke=\"#000000\" d=\"M713.8891,-504.9465C708.3622,-496.2373 702.3494,-486.7626 696.5854,-477.6801\"/>\n<polygon fill=\"#000000\" stroke=\"#000000\" points=\"699.4729,-475.6979 691.1594,-469.13 693.5626,-479.4487 699.4729,-475.6979\"/>\n</g>\n<!-- 19 -->\n<g id=\"node20\" class=\"node\">\n<title>19</title>\n<polygon fill=\"none\" stroke=\"#000000\" points=\"856.5,-469 746.5,-469 746.5,-401 856.5,-401 856.5,-469\"/>\n<text text-anchor=\"middle\" x=\"801.5\" y=\"-453.8\" font-family=\"Times,serif\" font-size=\"14.00\" fill=\"#000000\">Price &lt;= 127.0</text>\n<text text-anchor=\"middle\" x=\"801.5\" y=\"-438.8\" font-family=\"Times,serif\" font-size=\"14.00\" fill=\"#000000\">gini = 0.451</text>\n<text text-anchor=\"middle\" x=\"801.5\" y=\"-423.8\" font-family=\"Times,serif\" font-size=\"14.00\" fill=\"#000000\">samples = 70</text>\n<text text-anchor=\"middle\" x=\"801.5\" y=\"-408.8\" font-family=\"Times,serif\" font-size=\"14.00\" fill=\"#000000\">value = [46, 24]</text>\n</g>\n<!-- 11&#45;&gt;19 -->\n<g id=\"edge19\" class=\"edge\">\n<title>11&#45;&gt;19</title>\n<path fill=\"none\" stroke=\"#000000\" d=\"M757.1109,-504.9465C762.6378,-496.2373 768.6506,-486.7626 774.4146,-477.6801\"/>\n<polygon fill=\"#000000\" stroke=\"#000000\" points=\"777.4374,-479.4487 779.8406,-469.13 771.5271,-475.6979 777.4374,-479.4487\"/>\n</g>\n<!-- 13 -->\n<g id=\"node14\" class=\"node\">\n<title>13</title>\n<polygon fill=\"none\" stroke=\"#000000\" points=\"607,-365 482,-365 482,-297 607,-297 607,-365\"/>\n<text text-anchor=\"middle\" x=\"544.5\" y=\"-349.8\" font-family=\"Times,serif\" font-size=\"14.00\" fill=\"#000000\">Education &lt;= 15.5</text>\n<text text-anchor=\"middle\" x=\"544.5\" y=\"-334.8\" font-family=\"Times,serif\" font-size=\"14.00\" fill=\"#000000\">gini = 0.081</text>\n<text text-anchor=\"middle\" x=\"544.5\" y=\"-319.8\" font-family=\"Times,serif\" font-size=\"14.00\" fill=\"#000000\">samples = 47</text>\n<text text-anchor=\"middle\" x=\"544.5\" y=\"-304.8\" font-family=\"Times,serif\" font-size=\"14.00\" fill=\"#000000\">value = [45, 2]</text>\n</g>\n<!-- 12&#45;&gt;13 -->\n<g id=\"edge13\" class=\"edge\">\n<title>12&#45;&gt;13</title>\n<path fill=\"none\" stroke=\"#000000\" d=\"M628.5703,-400.9465C617.3472,-391.6088 605.0663,-381.3911 593.4427,-371.7203\"/>\n<polygon fill=\"#000000\" stroke=\"#000000\" points=\"595.4474,-368.8353 585.5216,-365.13 590.9704,-374.2164 595.4474,-368.8353\"/>\n</g>\n<!-- 18 -->\n<g id=\"node19\" class=\"node\">\n<title>18</title>\n<polygon fill=\"none\" stroke=\"#000000\" points=\"720,-357.5 625,-357.5 625,-304.5 720,-304.5 720,-357.5\"/>\n<text text-anchor=\"middle\" x=\"672.5\" y=\"-342.3\" font-family=\"Times,serif\" font-size=\"14.00\" fill=\"#000000\">gini = 0.49</text>\n<text text-anchor=\"middle\" x=\"672.5\" y=\"-327.3\" font-family=\"Times,serif\" font-size=\"14.00\" fill=\"#000000\">samples = 7</text>\n<text text-anchor=\"middle\" x=\"672.5\" y=\"-312.3\" font-family=\"Times,serif\" font-size=\"14.00\" fill=\"#000000\">value = [4, 3]</text>\n</g>\n<!-- 12&#45;&gt;18 -->\n<g id=\"edge18\" class=\"edge\">\n<title>12&#45;&gt;18</title>\n<path fill=\"none\" stroke=\"#000000\" d=\"M670.4823,-400.9465C670.7905,-390.2621 671.132,-378.4254 671.445,-367.5742\"/>\n<polygon fill=\"#000000\" stroke=\"#000000\" points=\"674.9445,-367.639 671.7344,-357.5422 667.9474,-367.4371 674.9445,-367.639\"/>\n</g>\n<!-- 14 -->\n<g id=\"node15\" class=\"node\">\n<title>14</title>\n<polygon fill=\"none\" stroke=\"#000000\" points=\"479.5,-253.5 377.5,-253.5 377.5,-200.5 479.5,-200.5 479.5,-253.5\"/>\n<text text-anchor=\"middle\" x=\"428.5\" y=\"-238.3\" font-family=\"Times,serif\" font-size=\"14.00\" fill=\"#000000\">gini = 0.0</text>\n<text text-anchor=\"middle\" x=\"428.5\" y=\"-223.3\" font-family=\"Times,serif\" font-size=\"14.00\" fill=\"#000000\">samples = 34</text>\n<text text-anchor=\"middle\" x=\"428.5\" y=\"-208.3\" font-family=\"Times,serif\" font-size=\"14.00\" fill=\"#000000\">value = [34, 0]</text>\n</g>\n<!-- 13&#45;&gt;14 -->\n<g id=\"edge14\" class=\"edge\">\n<title>13&#45;&gt;14</title>\n<path fill=\"none\" stroke=\"#000000\" d=\"M506.5173,-296.9465C493.3714,-285.1606 478.6618,-271.9726 465.5887,-260.2519\"/>\n<polygon fill=\"#000000\" stroke=\"#000000\" points=\"467.8869,-257.6116 458.1047,-253.5422 463.214,-262.8236 467.8869,-257.6116\"/>\n</g>\n<!-- 15 -->\n<g id=\"node16\" class=\"node\">\n<title>15</title>\n<polygon fill=\"none\" stroke=\"#000000\" points=\"601,-261 498,-261 498,-193 601,-193 601,-261\"/>\n<text text-anchor=\"middle\" x=\"549.5\" y=\"-245.8\" font-family=\"Times,serif\" font-size=\"14.00\" fill=\"#000000\">Price &lt;= 101.5</text>\n<text text-anchor=\"middle\" x=\"549.5\" y=\"-230.8\" font-family=\"Times,serif\" font-size=\"14.00\" fill=\"#000000\">gini = 0.26</text>\n<text text-anchor=\"middle\" x=\"549.5\" y=\"-215.8\" font-family=\"Times,serif\" font-size=\"14.00\" fill=\"#000000\">samples = 13</text>\n<text text-anchor=\"middle\" x=\"549.5\" y=\"-200.8\" font-family=\"Times,serif\" font-size=\"14.00\" fill=\"#000000\">value = [11, 2]</text>\n</g>\n<!-- 13&#45;&gt;15 -->\n<g id=\"edge15\" class=\"edge\">\n<title>13&#45;&gt;15</title>\n<path fill=\"none\" stroke=\"#000000\" d=\"M546.1372,-296.9465C546.53,-288.776 546.9552,-279.9318 547.3668,-271.3697\"/>\n<polygon fill=\"#000000\" stroke=\"#000000\" points=\"550.8748,-271.2866 547.8591,-261.13 543.8829,-270.9504 550.8748,-271.2866\"/>\n</g>\n<!-- 16 -->\n<g id=\"node17\" class=\"node\">\n<title>16</title>\n<polygon fill=\"none\" stroke=\"#000000\" points=\"486,-149.5 391,-149.5 391,-96.5 486,-96.5 486,-149.5\"/>\n<text text-anchor=\"middle\" x=\"438.5\" y=\"-134.3\" font-family=\"Times,serif\" font-size=\"14.00\" fill=\"#000000\">gini = 0.48</text>\n<text text-anchor=\"middle\" x=\"438.5\" y=\"-119.3\" font-family=\"Times,serif\" font-size=\"14.00\" fill=\"#000000\">samples = 5</text>\n<text text-anchor=\"middle\" x=\"438.5\" y=\"-104.3\" font-family=\"Times,serif\" font-size=\"14.00\" fill=\"#000000\">value = [3, 2]</text>\n</g>\n<!-- 15&#45;&gt;16 -->\n<g id=\"edge16\" class=\"edge\">\n<title>15&#45;&gt;16</title>\n<path fill=\"none\" stroke=\"#000000\" d=\"M513.1544,-192.9465C500.6928,-181.2707 486.7626,-168.219 474.3412,-156.5809\"/>\n<polygon fill=\"#000000\" stroke=\"#000000\" points=\"476.5191,-153.8253 466.8287,-149.5422 471.7331,-158.9335 476.5191,-153.8253\"/>\n</g>\n<!-- 17 -->\n<g id=\"node18\" class=\"node\">\n<title>17</title>\n<polygon fill=\"none\" stroke=\"#000000\" points=\"599,-149.5 504,-149.5 504,-96.5 599,-96.5 599,-149.5\"/>\n<text text-anchor=\"middle\" x=\"551.5\" y=\"-134.3\" font-family=\"Times,serif\" font-size=\"14.00\" fill=\"#000000\">gini = 0.0</text>\n<text text-anchor=\"middle\" x=\"551.5\" y=\"-119.3\" font-family=\"Times,serif\" font-size=\"14.00\" fill=\"#000000\">samples = 8</text>\n<text text-anchor=\"middle\" x=\"551.5\" y=\"-104.3\" font-family=\"Times,serif\" font-size=\"14.00\" fill=\"#000000\">value = [8, 0]</text>\n</g>\n<!-- 15&#45;&gt;17 -->\n<g id=\"edge17\" class=\"edge\">\n<title>15&#45;&gt;17</title>\n<path fill=\"none\" stroke=\"#000000\" d=\"M550.1549,-192.9465C550.3603,-182.2621 550.588,-170.4254 550.7966,-159.5742\"/>\n<polygon fill=\"#000000\" stroke=\"#000000\" points=\"554.2966,-159.6076 550.9896,-149.5422 547.2979,-159.473 554.2966,-159.6076\"/>\n</g>\n<!-- 20 -->\n<g id=\"node21\" class=\"node\">\n<title>20</title>\n<polygon fill=\"none\" stroke=\"#000000\" points=\"859,-365 738,-365 738,-297 859,-297 859,-365\"/>\n<text text-anchor=\"middle\" x=\"798.5\" y=\"-349.8\" font-family=\"Times,serif\" font-size=\"14.00\" fill=\"#000000\">ShelveLoc &lt;= 0.5</text>\n<text text-anchor=\"middle\" x=\"798.5\" y=\"-334.8\" font-family=\"Times,serif\" font-size=\"14.00\" fill=\"#000000\">gini = 0.485</text>\n<text text-anchor=\"middle\" x=\"798.5\" y=\"-319.8\" font-family=\"Times,serif\" font-size=\"14.00\" fill=\"#000000\">samples = 29</text>\n<text text-anchor=\"middle\" x=\"798.5\" y=\"-304.8\" font-family=\"Times,serif\" font-size=\"14.00\" fill=\"#000000\">value = [12, 17]</text>\n</g>\n<!-- 19&#45;&gt;20 -->\n<g id=\"edge20\" class=\"edge\">\n<title>19&#45;&gt;20</title>\n<path fill=\"none\" stroke=\"#000000\" d=\"M800.5177,-400.9465C800.282,-392.776 800.0269,-383.9318 799.7799,-375.3697\"/>\n<polygon fill=\"#000000\" stroke=\"#000000\" points=\"803.2715,-375.0249 799.4845,-365.13 796.2744,-375.2268 803.2715,-375.0249\"/>\n</g>\n<!-- 27 -->\n<g id=\"node28\" class=\"node\">\n<title>27</title>\n<polygon fill=\"none\" stroke=\"#000000\" points=\"1030,-365 891,-365 891,-297 1030,-297 1030,-365\"/>\n<text text-anchor=\"middle\" x=\"960.5\" y=\"-349.8\" font-family=\"Times,serif\" font-size=\"14.00\" fill=\"#000000\">CompPrice &lt;= 147.5</text>\n<text text-anchor=\"middle\" x=\"960.5\" y=\"-334.8\" font-family=\"Times,serif\" font-size=\"14.00\" fill=\"#000000\">gini = 0.283</text>\n<text text-anchor=\"middle\" x=\"960.5\" y=\"-319.8\" font-family=\"Times,serif\" font-size=\"14.00\" fill=\"#000000\">samples = 41</text>\n<text text-anchor=\"middle\" x=\"960.5\" y=\"-304.8\" font-family=\"Times,serif\" font-size=\"14.00\" fill=\"#000000\">value = [34, 7]</text>\n</g>\n<!-- 19&#45;&gt;27 -->\n<g id=\"edge27\" class=\"edge\">\n<title>19&#45;&gt;27</title>\n<path fill=\"none\" stroke=\"#000000\" d=\"M853.5625,-400.9465C868.3875,-391.2497 884.6633,-380.6039 899.9471,-370.6069\"/>\n<polygon fill=\"#000000\" stroke=\"#000000\" points=\"901.8676,-373.533 908.3205,-365.13 898.0358,-367.6749 901.8676,-373.533\"/>\n</g>\n<!-- 21 -->\n<g id=\"node22\" class=\"node\">\n<title>21</title>\n<polygon fill=\"none\" stroke=\"#000000\" points=\"728,-253.5 633,-253.5 633,-200.5 728,-200.5 728,-253.5\"/>\n<text text-anchor=\"middle\" x=\"680.5\" y=\"-238.3\" font-family=\"Times,serif\" font-size=\"14.00\" fill=\"#000000\">gini = 0.245</text>\n<text text-anchor=\"middle\" x=\"680.5\" y=\"-223.3\" font-family=\"Times,serif\" font-size=\"14.00\" fill=\"#000000\">samples = 7</text>\n<text text-anchor=\"middle\" x=\"680.5\" y=\"-208.3\" font-family=\"Times,serif\" font-size=\"14.00\" fill=\"#000000\">value = [6, 1]</text>\n</g>\n<!-- 20&#45;&gt;21 -->\n<g id=\"edge21\" class=\"edge\">\n<title>20&#45;&gt;21</title>\n<path fill=\"none\" stroke=\"#000000\" d=\"M759.8624,-296.9465C746.4899,-285.1606 731.5266,-271.9726 718.2281,-260.2519\"/>\n<polygon fill=\"#000000\" stroke=\"#000000\" points=\"720.4315,-257.5285 710.6151,-253.5422 715.803,-262.7799 720.4315,-257.5285\"/>\n</g>\n<!-- 22 -->\n<g id=\"node23\" class=\"node\">\n<title>22</title>\n<polygon fill=\"none\" stroke=\"#000000\" points=\"848.5,-261 746.5,-261 746.5,-193 848.5,-193 848.5,-261\"/>\n<text text-anchor=\"middle\" x=\"797.5\" y=\"-245.8\" font-family=\"Times,serif\" font-size=\"14.00\" fill=\"#000000\">Age &lt;= 64.5</text>\n<text text-anchor=\"middle\" x=\"797.5\" y=\"-230.8\" font-family=\"Times,serif\" font-size=\"14.00\" fill=\"#000000\">gini = 0.397</text>\n<text text-anchor=\"middle\" x=\"797.5\" y=\"-215.8\" font-family=\"Times,serif\" font-size=\"14.00\" fill=\"#000000\">samples = 22</text>\n<text text-anchor=\"middle\" x=\"797.5\" y=\"-200.8\" font-family=\"Times,serif\" font-size=\"14.00\" fill=\"#000000\">value = [6, 16]</text>\n</g>\n<!-- 20&#45;&gt;22 -->\n<g id=\"edge22\" class=\"edge\">\n<title>20&#45;&gt;22</title>\n<path fill=\"none\" stroke=\"#000000\" d=\"M798.1726,-296.9465C798.094,-288.776 798.009,-279.9318 797.9266,-271.3697\"/>\n<polygon fill=\"#000000\" stroke=\"#000000\" points=\"801.4243,-271.0958 797.8282,-261.13 794.4246,-271.1632 801.4243,-271.0958\"/>\n</g>\n<!-- 23 -->\n<g id=\"node24\" class=\"node\">\n<title>23</title>\n<polygon fill=\"none\" stroke=\"#000000\" points=\"729.5,-157 627.5,-157 627.5,-89 729.5,-89 729.5,-157\"/>\n<text text-anchor=\"middle\" x=\"678.5\" y=\"-141.8\" font-family=\"Times,serif\" font-size=\"14.00\" fill=\"#000000\">Age &lt;= 36.5</text>\n<text text-anchor=\"middle\" x=\"678.5\" y=\"-126.8\" font-family=\"Times,serif\" font-size=\"14.00\" fill=\"#000000\">gini = 0.219</text>\n<text text-anchor=\"middle\" x=\"678.5\" y=\"-111.8\" font-family=\"Times,serif\" font-size=\"14.00\" fill=\"#000000\">samples = 16</text>\n<text text-anchor=\"middle\" x=\"678.5\" y=\"-96.8\" font-family=\"Times,serif\" font-size=\"14.00\" fill=\"#000000\">value = [2, 14]</text>\n</g>\n<!-- 22&#45;&gt;23 -->\n<g id=\"edge23\" class=\"edge\">\n<title>22&#45;&gt;23</title>\n<path fill=\"none\" stroke=\"#000000\" d=\"M758.5349,-192.9465C747.8505,-183.6088 736.1591,-173.3911 725.0934,-163.7203\"/>\n<polygon fill=\"#000000\" stroke=\"#000000\" points=\"727.3855,-161.0752 717.5526,-157.13 722.7791,-166.346 727.3855,-161.0752\"/>\n</g>\n<!-- 26 -->\n<g id=\"node27\" class=\"node\">\n<title>26</title>\n<polygon fill=\"none\" stroke=\"#000000\" points=\"843,-149.5 748,-149.5 748,-96.5 843,-96.5 843,-149.5\"/>\n<text text-anchor=\"middle\" x=\"795.5\" y=\"-134.3\" font-family=\"Times,serif\" font-size=\"14.00\" fill=\"#000000\">gini = 0.444</text>\n<text text-anchor=\"middle\" x=\"795.5\" y=\"-119.3\" font-family=\"Times,serif\" font-size=\"14.00\" fill=\"#000000\">samples = 6</text>\n<text text-anchor=\"middle\" x=\"795.5\" y=\"-104.3\" font-family=\"Times,serif\" font-size=\"14.00\" fill=\"#000000\">value = [4, 2]</text>\n</g>\n<!-- 22&#45;&gt;26 -->\n<g id=\"edge26\" class=\"edge\">\n<title>22&#45;&gt;26</title>\n<path fill=\"none\" stroke=\"#000000\" d=\"M796.8451,-192.9465C796.6397,-182.2621 796.412,-170.4254 796.2034,-159.5742\"/>\n<polygon fill=\"#000000\" stroke=\"#000000\" points=\"799.7021,-159.473 796.0104,-149.5422 792.7034,-159.6076 799.7021,-159.473\"/>\n</g>\n<!-- 24 -->\n<g id=\"node25\" class=\"node\">\n<title>24</title>\n<polygon fill=\"none\" stroke=\"#000000\" points=\"668,-53 573,-53 573,0 668,0 668,-53\"/>\n<text text-anchor=\"middle\" x=\"620.5\" y=\"-37.8\" font-family=\"Times,serif\" font-size=\"14.00\" fill=\"#000000\">gini = 0.48</text>\n<text text-anchor=\"middle\" x=\"620.5\" y=\"-22.8\" font-family=\"Times,serif\" font-size=\"14.00\" fill=\"#000000\">samples = 5</text>\n<text text-anchor=\"middle\" x=\"620.5\" y=\"-7.8\" font-family=\"Times,serif\" font-size=\"14.00\" fill=\"#000000\">value = [2, 3]</text>\n</g>\n<!-- 23&#45;&gt;24 -->\n<g id=\"edge24\" class=\"edge\">\n<title>23&#45;&gt;24</title>\n<path fill=\"none\" stroke=\"#000000\" d=\"M658.0514,-88.9777C652.7678,-80.187 647.0684,-70.7044 641.7452,-61.8477\"/>\n<polygon fill=\"#000000\" stroke=\"#000000\" points=\"644.7282,-60.0165 636.5768,-53.2485 638.7285,-63.6225 644.7282,-60.0165\"/>\n</g>\n<!-- 25 -->\n<g id=\"node26\" class=\"node\">\n<title>25</title>\n<polygon fill=\"none\" stroke=\"#000000\" points=\"787,-53 686,-53 686,0 787,0 787,-53\"/>\n<text text-anchor=\"middle\" x=\"736.5\" y=\"-37.8\" font-family=\"Times,serif\" font-size=\"14.00\" fill=\"#000000\">gini = 0.0</text>\n<text text-anchor=\"middle\" x=\"736.5\" y=\"-22.8\" font-family=\"Times,serif\" font-size=\"14.00\" fill=\"#000000\">samples = 11</text>\n<text text-anchor=\"middle\" x=\"736.5\" y=\"-7.8\" font-family=\"Times,serif\" font-size=\"14.00\" fill=\"#000000\">value = [0, 11]</text>\n</g>\n<!-- 23&#45;&gt;25 -->\n<g id=\"edge25\" class=\"edge\">\n<title>23&#45;&gt;25</title>\n<path fill=\"none\" stroke=\"#000000\" d=\"M698.9486,-88.9777C704.2322,-80.187 709.9316,-70.7044 715.2548,-61.8477\"/>\n<polygon fill=\"#000000\" stroke=\"#000000\" points=\"718.2715,-63.6225 720.4232,-53.2485 712.2718,-60.0165 718.2715,-63.6225\"/>\n</g>\n<!-- 28 -->\n<g id=\"node29\" class=\"node\">\n<title>28</title>\n<polygon fill=\"none\" stroke=\"#000000\" points=\"1029,-261 892,-261 892,-193 1029,-193 1029,-261\"/>\n<text text-anchor=\"middle\" x=\"960.5\" y=\"-245.8\" font-family=\"Times,serif\" font-size=\"14.00\" fill=\"#000000\">Population &lt;= 128.5</text>\n<text text-anchor=\"middle\" x=\"960.5\" y=\"-230.8\" font-family=\"Times,serif\" font-size=\"14.00\" fill=\"#000000\">gini = 0.117</text>\n<text text-anchor=\"middle\" x=\"960.5\" y=\"-215.8\" font-family=\"Times,serif\" font-size=\"14.00\" fill=\"#000000\">samples = 32</text>\n<text text-anchor=\"middle\" x=\"960.5\" y=\"-200.8\" font-family=\"Times,serif\" font-size=\"14.00\" fill=\"#000000\">value = [30, 2]</text>\n</g>\n<!-- 27&#45;&gt;28 -->\n<g id=\"edge28\" class=\"edge\">\n<title>27&#45;&gt;28</title>\n<path fill=\"none\" stroke=\"#000000\" d=\"M960.5,-296.9465C960.5,-288.776 960.5,-279.9318 960.5,-271.3697\"/>\n<polygon fill=\"#000000\" stroke=\"#000000\" points=\"964.0001,-271.13 960.5,-261.13 957.0001,-271.13 964.0001,-271.13\"/>\n</g>\n<!-- 31 -->\n<g id=\"node32\" class=\"node\">\n<title>31</title>\n<polygon fill=\"none\" stroke=\"#000000\" points=\"1178,-261 1075,-261 1075,-193 1178,-193 1178,-261\"/>\n<text text-anchor=\"middle\" x=\"1126.5\" y=\"-245.8\" font-family=\"Times,serif\" font-size=\"14.00\" fill=\"#000000\">Price &lt;= 149.0</text>\n<text text-anchor=\"middle\" x=\"1126.5\" y=\"-230.8\" font-family=\"Times,serif\" font-size=\"14.00\" fill=\"#000000\">gini = 0.494</text>\n<text text-anchor=\"middle\" x=\"1126.5\" y=\"-215.8\" font-family=\"Times,serif\" font-size=\"14.00\" fill=\"#000000\">samples = 9</text>\n<text text-anchor=\"middle\" x=\"1126.5\" y=\"-200.8\" font-family=\"Times,serif\" font-size=\"14.00\" fill=\"#000000\">value = [4, 5]</text>\n</g>\n<!-- 27&#45;&gt;31 -->\n<g id=\"edge31\" class=\"edge\">\n<title>27&#45;&gt;31</title>\n<path fill=\"none\" stroke=\"#000000\" d=\"M1014.8546,-296.9465C1031.2807,-286.6554 1049.413,-275.2955 1066.2026,-264.7767\"/>\n<polygon fill=\"#000000\" stroke=\"#000000\" points=\"1068.2279,-267.638 1074.8439,-259.3628 1064.5115,-261.7061 1068.2279,-267.638\"/>\n</g>\n<!-- 29 -->\n<g id=\"node30\" class=\"node\">\n<title>29</title>\n<polygon fill=\"none\" stroke=\"#000000\" points=\"956,-149.5 861,-149.5 861,-96.5 956,-96.5 956,-149.5\"/>\n<text text-anchor=\"middle\" x=\"908.5\" y=\"-134.3\" font-family=\"Times,serif\" font-size=\"14.00\" fill=\"#000000\">gini = 0.444</text>\n<text text-anchor=\"middle\" x=\"908.5\" y=\"-119.3\" font-family=\"Times,serif\" font-size=\"14.00\" fill=\"#000000\">samples = 6</text>\n<text text-anchor=\"middle\" x=\"908.5\" y=\"-104.3\" font-family=\"Times,serif\" font-size=\"14.00\" fill=\"#000000\">value = [4, 2]</text>\n</g>\n<!-- 28&#45;&gt;29 -->\n<g id=\"edge29\" class=\"edge\">\n<title>28&#45;&gt;29</title>\n<path fill=\"none\" stroke=\"#000000\" d=\"M943.4733,-192.9465C937.9658,-181.9316 931.8461,-169.6922 926.2851,-158.5703\"/>\n<polygon fill=\"#000000\" stroke=\"#000000\" points=\"929.3738,-156.9212 921.7711,-149.5422 923.1128,-160.0517 929.3738,-156.9212\"/>\n</g>\n<!-- 30 -->\n<g id=\"node31\" class=\"node\">\n<title>30</title>\n<polygon fill=\"none\" stroke=\"#000000\" points=\"1076.5,-149.5 974.5,-149.5 974.5,-96.5 1076.5,-96.5 1076.5,-149.5\"/>\n<text text-anchor=\"middle\" x=\"1025.5\" y=\"-134.3\" font-family=\"Times,serif\" font-size=\"14.00\" fill=\"#000000\">gini = 0.0</text>\n<text text-anchor=\"middle\" x=\"1025.5\" y=\"-119.3\" font-family=\"Times,serif\" font-size=\"14.00\" fill=\"#000000\">samples = 26</text>\n<text text-anchor=\"middle\" x=\"1025.5\" y=\"-104.3\" font-family=\"Times,serif\" font-size=\"14.00\" fill=\"#000000\">value = [26, 0]</text>\n</g>\n<!-- 28&#45;&gt;30 -->\n<g id=\"edge30\" class=\"edge\">\n<title>28&#45;&gt;30</title>\n<path fill=\"none\" stroke=\"#000000\" d=\"M981.7834,-192.9465C988.7366,-181.8215 996.4705,-169.4473 1003.4769,-158.237\"/>\n<polygon fill=\"#000000\" stroke=\"#000000\" points=\"1006.5791,-159.8772 1008.9111,-149.5422 1000.6431,-156.1671 1006.5791,-159.8772\"/>\n</g>\n<!-- 32 -->\n<g id=\"node33\" class=\"node\">\n<title>32</title>\n<polygon fill=\"none\" stroke=\"#000000\" points=\"1190,-149.5 1095,-149.5 1095,-96.5 1190,-96.5 1190,-149.5\"/>\n<text text-anchor=\"middle\" x=\"1142.5\" y=\"-134.3\" font-family=\"Times,serif\" font-size=\"14.00\" fill=\"#000000\">gini = 0.0</text>\n<text text-anchor=\"middle\" x=\"1142.5\" y=\"-119.3\" font-family=\"Times,serif\" font-size=\"14.00\" fill=\"#000000\">samples = 5</text>\n<text text-anchor=\"middle\" x=\"1142.5\" y=\"-104.3\" font-family=\"Times,serif\" font-size=\"14.00\" fill=\"#000000\">value = [0, 5]</text>\n</g>\n<!-- 31&#45;&gt;32 -->\n<g id=\"edge32\" class=\"edge\">\n<title>31&#45;&gt;32</title>\n<path fill=\"none\" stroke=\"#000000\" d=\"M1131.739,-192.9465C1133.3828,-182.2621 1135.2038,-170.4254 1136.8732,-159.5742\"/>\n<polygon fill=\"#000000\" stroke=\"#000000\" points=\"1140.3552,-159.9581 1138.4166,-149.5422 1133.4366,-158.8937 1140.3552,-159.9581\"/>\n</g>\n<!-- 33 -->\n<g id=\"node34\" class=\"node\">\n<title>33</title>\n<polygon fill=\"none\" stroke=\"#000000\" points=\"1303,-149.5 1208,-149.5 1208,-96.5 1303,-96.5 1303,-149.5\"/>\n<text text-anchor=\"middle\" x=\"1255.5\" y=\"-134.3\" font-family=\"Times,serif\" font-size=\"14.00\" fill=\"#000000\">gini = 0.0</text>\n<text text-anchor=\"middle\" x=\"1255.5\" y=\"-119.3\" font-family=\"Times,serif\" font-size=\"14.00\" fill=\"#000000\">samples = 4</text>\n<text text-anchor=\"middle\" x=\"1255.5\" y=\"-104.3\" font-family=\"Times,serif\" font-size=\"14.00\" fill=\"#000000\">value = [4, 0]</text>\n</g>\n<!-- 31&#45;&gt;33 -->\n<g id=\"edge33\" class=\"edge\">\n<title>31&#45;&gt;33</title>\n<path fill=\"none\" stroke=\"#000000\" d=\"M1168.7394,-192.9465C1183.4952,-181.0504 1200.0225,-167.726 1214.662,-155.9237\"/>\n<polygon fill=\"#000000\" stroke=\"#000000\" points=\"1216.9891,-158.5433 1222.5775,-149.5422 1212.5957,-153.0938 1216.9891,-158.5433\"/>\n</g>\n<!-- 35 -->\n<g id=\"node36\" class=\"node\">\n<title>35</title>\n<polygon fill=\"none\" stroke=\"#000000\" points=\"1342.5,-469 1232.5,-469 1232.5,-401 1342.5,-401 1342.5,-469\"/>\n<text text-anchor=\"middle\" x=\"1287.5\" y=\"-453.8\" font-family=\"Times,serif\" font-size=\"14.00\" fill=\"#000000\">Income &lt;= 51.5</text>\n<text text-anchor=\"middle\" x=\"1287.5\" y=\"-438.8\" font-family=\"Times,serif\" font-size=\"14.00\" fill=\"#000000\">gini = 0.43</text>\n<text text-anchor=\"middle\" x=\"1287.5\" y=\"-423.8\" font-family=\"Times,serif\" font-size=\"14.00\" fill=\"#000000\">samples = 32</text>\n<text text-anchor=\"middle\" x=\"1287.5\" y=\"-408.8\" font-family=\"Times,serif\" font-size=\"14.00\" fill=\"#000000\">value = [10, 22]</text>\n</g>\n<!-- 34&#45;&gt;35 -->\n<g id=\"edge35\" class=\"edge\">\n<title>34&#45;&gt;35</title>\n<path fill=\"none\" stroke=\"#000000\" d=\"M1287.5,-504.9465C1287.5,-496.776 1287.5,-487.9318 1287.5,-479.3697\"/>\n<polygon fill=\"#000000\" stroke=\"#000000\" points=\"1291.0001,-479.13 1287.5,-469.13 1284.0001,-479.13 1291.0001,-479.13\"/>\n</g>\n<!-- 44 -->\n<g id=\"node45\" class=\"node\">\n<title>44</title>\n<polygon fill=\"none\" stroke=\"#000000\" points=\"1456,-461.5 1361,-461.5 1361,-408.5 1456,-408.5 1456,-461.5\"/>\n<text text-anchor=\"middle\" x=\"1408.5\" y=\"-446.3\" font-family=\"Times,serif\" font-size=\"14.00\" fill=\"#000000\">gini = 0.0</text>\n<text text-anchor=\"middle\" x=\"1408.5\" y=\"-431.3\" font-family=\"Times,serif\" font-size=\"14.00\" fill=\"#000000\">samples = 4</text>\n<text text-anchor=\"middle\" x=\"1408.5\" y=\"-416.3\" font-family=\"Times,serif\" font-size=\"14.00\" fill=\"#000000\">value = [4, 0]</text>\n</g>\n<!-- 34&#45;&gt;44 -->\n<g id=\"edge44\" class=\"edge\">\n<title>34&#45;&gt;44</title>\n<path fill=\"none\" stroke=\"#000000\" d=\"M1327.1199,-504.9465C1340.8324,-493.1606 1356.1761,-479.9726 1369.8127,-468.2519\"/>\n<polygon fill=\"#000000\" stroke=\"#000000\" points=\"1372.3169,-470.7147 1377.6192,-461.5422 1367.7541,-465.4061 1372.3169,-470.7147\"/>\n</g>\n<!-- 36 -->\n<g id=\"node37\" class=\"node\">\n<title>36</title>\n<polygon fill=\"none\" stroke=\"#000000\" points=\"1354.5,-365 1220.5,-365 1220.5,-297 1354.5,-297 1354.5,-365\"/>\n<text text-anchor=\"middle\" x=\"1287.5\" y=\"-349.8\" font-family=\"Times,serif\" font-size=\"14.00\" fill=\"#000000\">Advertising &lt;= 18.5</text>\n<text text-anchor=\"middle\" x=\"1287.5\" y=\"-334.8\" font-family=\"Times,serif\" font-size=\"14.00\" fill=\"#000000\">gini = 0.444</text>\n<text text-anchor=\"middle\" x=\"1287.5\" y=\"-319.8\" font-family=\"Times,serif\" font-size=\"14.00\" fill=\"#000000\">samples = 9</text>\n<text text-anchor=\"middle\" x=\"1287.5\" y=\"-304.8\" font-family=\"Times,serif\" font-size=\"14.00\" fill=\"#000000\">value = [6, 3]</text>\n</g>\n<!-- 35&#45;&gt;36 -->\n<g id=\"edge36\" class=\"edge\">\n<title>35&#45;&gt;36</title>\n<path fill=\"none\" stroke=\"#000000\" d=\"M1287.5,-400.9465C1287.5,-392.776 1287.5,-383.9318 1287.5,-375.3697\"/>\n<polygon fill=\"#000000\" stroke=\"#000000\" points=\"1291.0001,-375.13 1287.5,-365.13 1284.0001,-375.13 1291.0001,-375.13\"/>\n</g>\n<!-- 39 -->\n<g id=\"node40\" class=\"node\">\n<title>39</title>\n<polygon fill=\"none\" stroke=\"#000000\" points=\"1551.5,-365 1417.5,-365 1417.5,-297 1551.5,-297 1551.5,-365\"/>\n<text text-anchor=\"middle\" x=\"1484.5\" y=\"-349.8\" font-family=\"Times,serif\" font-size=\"14.00\" fill=\"#000000\">Advertising &lt;= 15.5</text>\n<text text-anchor=\"middle\" x=\"1484.5\" y=\"-334.8\" font-family=\"Times,serif\" font-size=\"14.00\" fill=\"#000000\">gini = 0.287</text>\n<text text-anchor=\"middle\" x=\"1484.5\" y=\"-319.8\" font-family=\"Times,serif\" font-size=\"14.00\" fill=\"#000000\">samples = 23</text>\n<text text-anchor=\"middle\" x=\"1484.5\" y=\"-304.8\" font-family=\"Times,serif\" font-size=\"14.00\" fill=\"#000000\">value = [4, 19]</text>\n</g>\n<!-- 35&#45;&gt;39 -->\n<g id=\"edge39\" class=\"edge\">\n<title>35&#45;&gt;39</title>\n<path fill=\"none\" stroke=\"#000000\" d=\"M1342.6508,-405.6838C1345.6436,-404.0984 1348.6082,-402.5291 1351.5,-401 1370.6166,-390.8915 1391.2946,-379.9918 1410.5195,-369.8725\"/>\n<polygon fill=\"#000000\" stroke=\"#000000\" points=\"1412.3127,-372.8839 1419.5322,-365.1296 1409.0528,-366.6893 1412.3127,-372.8839\"/>\n</g>\n<!-- 37 -->\n<g id=\"node38\" class=\"node\">\n<title>37</title>\n<polygon fill=\"none\" stroke=\"#000000\" points=\"1291,-253.5 1196,-253.5 1196,-200.5 1291,-200.5 1291,-253.5\"/>\n<text text-anchor=\"middle\" x=\"1243.5\" y=\"-238.3\" font-family=\"Times,serif\" font-size=\"14.00\" fill=\"#000000\">gini = 0.5</text>\n<text text-anchor=\"middle\" x=\"1243.5\" y=\"-223.3\" font-family=\"Times,serif\" font-size=\"14.00\" fill=\"#000000\">samples = 4</text>\n<text text-anchor=\"middle\" x=\"1243.5\" y=\"-208.3\" font-family=\"Times,serif\" font-size=\"14.00\" fill=\"#000000\">value = [2, 2]</text>\n</g>\n<!-- 36&#45;&gt;37 -->\n<g id=\"edge37\" class=\"edge\">\n<title>36&#45;&gt;37</title>\n<path fill=\"none\" stroke=\"#000000\" d=\"M1273.0928,-296.9465C1268.4792,-286.0418 1263.3579,-273.9368 1258.6903,-262.9043\"/>\n<polygon fill=\"#000000\" stroke=\"#000000\" points=\"1261.8492,-261.3881 1254.7294,-253.5422 1255.4024,-264.1156 1261.8492,-261.3881\"/>\n</g>\n<!-- 38 -->\n<g id=\"node39\" class=\"node\">\n<title>38</title>\n<polygon fill=\"none\" stroke=\"#000000\" points=\"1404,-253.5 1309,-253.5 1309,-200.5 1404,-200.5 1404,-253.5\"/>\n<text text-anchor=\"middle\" x=\"1356.5\" y=\"-238.3\" font-family=\"Times,serif\" font-size=\"14.00\" fill=\"#000000\">gini = 0.32</text>\n<text text-anchor=\"middle\" x=\"1356.5\" y=\"-223.3\" font-family=\"Times,serif\" font-size=\"14.00\" fill=\"#000000\">samples = 5</text>\n<text text-anchor=\"middle\" x=\"1356.5\" y=\"-208.3\" font-family=\"Times,serif\" font-size=\"14.00\" fill=\"#000000\">value = [4, 1]</text>\n</g>\n<!-- 36&#45;&gt;38 -->\n<g id=\"edge38\" class=\"edge\">\n<title>36&#45;&gt;38</title>\n<path fill=\"none\" stroke=\"#000000\" d=\"M1310.0932,-296.9465C1317.5473,-285.7113 1325.8467,-273.2021 1333.3423,-261.9043\"/>\n<polygon fill=\"#000000\" stroke=\"#000000\" points=\"1336.2782,-263.81 1338.8903,-253.5422 1330.4453,-259.94 1336.2782,-263.81\"/>\n</g>\n<!-- 40 -->\n<g id=\"node41\" class=\"node\">\n<title>40</title>\n<polygon fill=\"none\" stroke=\"#000000\" points=\"1547,-261 1422,-261 1422,-193 1547,-193 1547,-261\"/>\n<text text-anchor=\"middle\" x=\"1484.5\" y=\"-245.8\" font-family=\"Times,serif\" font-size=\"14.00\" fill=\"#000000\">Education &lt;= 14.5</text>\n<text text-anchor=\"middle\" x=\"1484.5\" y=\"-230.8\" font-family=\"Times,serif\" font-size=\"14.00\" fill=\"#000000\">gini = 0.463</text>\n<text text-anchor=\"middle\" x=\"1484.5\" y=\"-215.8\" font-family=\"Times,serif\" font-size=\"14.00\" fill=\"#000000\">samples = 11</text>\n<text text-anchor=\"middle\" x=\"1484.5\" y=\"-200.8\" font-family=\"Times,serif\" font-size=\"14.00\" fill=\"#000000\">value = [4, 7]</text>\n</g>\n<!-- 39&#45;&gt;40 -->\n<g id=\"edge40\" class=\"edge\">\n<title>39&#45;&gt;40</title>\n<path fill=\"none\" stroke=\"#000000\" d=\"M1484.5,-296.9465C1484.5,-288.776 1484.5,-279.9318 1484.5,-271.3697\"/>\n<polygon fill=\"#000000\" stroke=\"#000000\" points=\"1488.0001,-271.13 1484.5,-261.13 1481.0001,-271.13 1488.0001,-271.13\"/>\n</g>\n<!-- 43 -->\n<g id=\"node44\" class=\"node\">\n<title>43</title>\n<polygon fill=\"none\" stroke=\"#000000\" points=\"1667.5,-253.5 1565.5,-253.5 1565.5,-200.5 1667.5,-200.5 1667.5,-253.5\"/>\n<text text-anchor=\"middle\" x=\"1616.5\" y=\"-238.3\" font-family=\"Times,serif\" font-size=\"14.00\" fill=\"#000000\">gini = 0.0</text>\n<text text-anchor=\"middle\" x=\"1616.5\" y=\"-223.3\" font-family=\"Times,serif\" font-size=\"14.00\" fill=\"#000000\">samples = 12</text>\n<text text-anchor=\"middle\" x=\"1616.5\" y=\"-208.3\" font-family=\"Times,serif\" font-size=\"14.00\" fill=\"#000000\">value = [0, 12]</text>\n</g>\n<!-- 39&#45;&gt;43 -->\n<g id=\"edge43\" class=\"edge\">\n<title>39&#45;&gt;43</title>\n<path fill=\"none\" stroke=\"#000000\" d=\"M1527.7217,-296.9465C1542.8206,-285.0504 1559.7324,-271.726 1574.7122,-259.9237\"/>\n<polygon fill=\"#000000\" stroke=\"#000000\" points=\"1577.123,-262.4802 1582.8119,-253.5422 1572.7909,-256.9817 1577.123,-262.4802\"/>\n</g>\n<!-- 41 -->\n<g id=\"node42\" class=\"node\">\n<title>41</title>\n<polygon fill=\"none\" stroke=\"#000000\" points=\"1456,-149.5 1361,-149.5 1361,-96.5 1456,-96.5 1456,-149.5\"/>\n<text text-anchor=\"middle\" x=\"1408.5\" y=\"-134.3\" font-family=\"Times,serif\" font-size=\"14.00\" fill=\"#000000\">gini = 0.0</text>\n<text text-anchor=\"middle\" x=\"1408.5\" y=\"-119.3\" font-family=\"Times,serif\" font-size=\"14.00\" fill=\"#000000\">samples = 5</text>\n<text text-anchor=\"middle\" x=\"1408.5\" y=\"-104.3\" font-family=\"Times,serif\" font-size=\"14.00\" fill=\"#000000\">value = [0, 5]</text>\n</g>\n<!-- 40&#45;&gt;41 -->\n<g id=\"edge41\" class=\"edge\">\n<title>40&#45;&gt;41</title>\n<path fill=\"none\" stroke=\"#000000\" d=\"M1459.6148,-192.9465C1451.4044,-181.7113 1442.2631,-169.2021 1434.007,-157.9043\"/>\n<polygon fill=\"#000000\" stroke=\"#000000\" points=\"1436.6223,-155.551 1427.8962,-149.5422 1430.9705,-159.6812 1436.6223,-155.551\"/>\n</g>\n<!-- 42 -->\n<g id=\"node43\" class=\"node\">\n<title>42</title>\n<polygon fill=\"none\" stroke=\"#000000\" points=\"1569,-149.5 1474,-149.5 1474,-96.5 1569,-96.5 1569,-149.5\"/>\n<text text-anchor=\"middle\" x=\"1521.5\" y=\"-134.3\" font-family=\"Times,serif\" font-size=\"14.00\" fill=\"#000000\">gini = 0.444</text>\n<text text-anchor=\"middle\" x=\"1521.5\" y=\"-119.3\" font-family=\"Times,serif\" font-size=\"14.00\" fill=\"#000000\">samples = 6</text>\n<text text-anchor=\"middle\" x=\"1521.5\" y=\"-104.3\" font-family=\"Times,serif\" font-size=\"14.00\" fill=\"#000000\">value = [4, 2]</text>\n</g>\n<!-- 40&#45;&gt;42 -->\n<g id=\"edge42\" class=\"edge\">\n<title>40&#45;&gt;42</title>\n<path fill=\"none\" stroke=\"#000000\" d=\"M1496.6152,-192.9465C1500.4556,-182.1519 1504.7144,-170.1813 1508.6073,-159.2389\"/>\n<polygon fill=\"#000000\" stroke=\"#000000\" points=\"1512.0027,-160.1369 1512.0571,-149.5422 1505.4076,-157.7905 1512.0027,-160.1369\"/>\n</g>\n</g>\n</svg>\n"
          },
          "metadata": {
            "tags": []
          },
          "execution_count": 5
        }
      ]
    },
    {
      "cell_type": "code",
      "metadata": {
        "id": "OdjXx-7MUZaU",
        "colab_type": "code",
        "outputId": "351e2217-4a4f-4270-edef-adee3d6d8357",
        "colab": {
          "base_uri": "https://localhost:8080/",
          "height": 118
        }
      },
      "source": [
        "y_pred = clf_gini.predict(X_test)\n",
        "print(confusion_matrix(y_test, y_pred))\n",
        "print(accuracy_score(y_test, y_pred))\n",
        "cm = pd.DataFrame(confusion_matrix(y_test, y_pred).T, index = [\"No\", \"Yes\"], columns=[\"No\", \"Yes\"])\n",
        "print(cm)\n"
      ],
      "execution_count": 7,
      "outputs": [
        {
          "output_type": "stream",
          "text": [
            "[[99 19]\n",
            " [32 50]]\n",
            "0.745\n",
            "     No  Yes\n",
            "No   99   32\n",
            "Yes  19   50\n"
          ],
          "name": "stdout"
        }
      ]
    },
    {
      "cell_type": "code",
      "metadata": {
        "id": "rEhkbSoCWuOh",
        "colab_type": "code",
        "colab": {}
      },
      "source": [
        "max_depth = [1, 2, 3, 4, 5, 6, 7, 8, 9, 10]; min_samples_leaf = [1, 2, 3, 4, 5, 6, 7, 8, 9, 10]\n"
      ],
      "execution_count": 0,
      "outputs": []
    },
    {
      "cell_type": "code",
      "metadata": {
        "id": "BPTRsGbjXBh1",
        "colab_type": "code",
        "outputId": "addcc7b3-bca9-4e3e-c0f3-cbe2e81aa5e0",
        "colab": {
          "base_uri": "https://localhost:8080/",
          "height": 118
        }
      },
      "source": [
        "boston = pd.read_csv(\"/content/Boston.csv\")\n",
        "X = boston.drop(\"medv\", axis  = 1)\n",
        "y = boston.medv \n",
        "X_train, X_test, y_train, y_test = train_test_split(X, y, train_size = 0.5, random_state = 0)\n",
        "regr_tree = DecisionTreeRegressor(max_depth=2)\n",
        "regr_tree.fit(X_train, y_train)\n"
      ],
      "execution_count": 9,
      "outputs": [
        {
          "output_type": "execute_result",
          "data": {
            "text/plain": [
              "DecisionTreeRegressor(ccp_alpha=0.0, criterion='mse', max_depth=2,\n",
              "                      max_features=None, max_leaf_nodes=None,\n",
              "                      min_impurity_decrease=0.0, min_impurity_split=None,\n",
              "                      min_samples_leaf=1, min_samples_split=2,\n",
              "                      min_weight_fraction_leaf=0.0, presort='deprecated',\n",
              "                      random_state=None, splitter='best')"
            ]
          },
          "metadata": {
            "tags": []
          },
          "execution_count": 9
        }
      ]
    },
    {
      "cell_type": "code",
      "metadata": {
        "id": "8lY9U5S4XsLf",
        "colab_type": "code",
        "outputId": "c7951776-2f7f-4873-9357-4c43b665af63",
        "colab": {
          "base_uri": "https://localhost:8080/",
          "height": 380
        }
      },
      "source": [
        "export_graphviz(regr_tree, out_file=\"mytree1.dot\", feature_names=X_train.columns)\n",
        "with open(\"mytree1.dot\") as f:\n",
        "  dot_graph = f.read()\n",
        "graphviz.Source(dot_graph)"
      ],
      "execution_count": 10,
      "outputs": [
        {
          "output_type": "execute_result",
          "data": {
            "text/plain": [
              "<graphviz.files.Source at 0x7f5397db0320>"
            ],
            "image/svg+xml": "<?xml version=\"1.0\" encoding=\"UTF-8\" standalone=\"no\"?>\n<!DOCTYPE svg PUBLIC \"-//W3C//DTD SVG 1.1//EN\"\n \"http://www.w3.org/Graphics/SVG/1.1/DTD/svg11.dtd\">\n<!-- Generated by graphviz version 2.40.1 (20161225.0304)\n -->\n<!-- Title: Tree Pages: 1 -->\n<svg width=\"478pt\" height=\"269pt\"\n viewBox=\"0.00 0.00 478.00 269.00\" xmlns=\"http://www.w3.org/2000/svg\" xmlns:xlink=\"http://www.w3.org/1999/xlink\">\n<g id=\"graph0\" class=\"graph\" transform=\"scale(1 1) rotate(0) translate(4 265)\">\n<title>Tree</title>\n<polygon fill=\"#ffffff\" stroke=\"transparent\" points=\"-4,4 -4,-265 474,-265 474,4 -4,4\"/>\n<!-- 0 -->\n<g id=\"node1\" class=\"node\">\n<title>0</title>\n<polygon fill=\"none\" stroke=\"#000000\" points=\"287,-261 183,-261 183,-193 287,-193 287,-261\"/>\n<text text-anchor=\"middle\" x=\"235\" y=\"-245.8\" font-family=\"Times,serif\" font-size=\"14.00\" fill=\"#000000\">lstat &lt;= 7.81</text>\n<text text-anchor=\"middle\" x=\"235\" y=\"-230.8\" font-family=\"Times,serif\" font-size=\"14.00\" fill=\"#000000\">mse = 92.491</text>\n<text text-anchor=\"middle\" x=\"235\" y=\"-215.8\" font-family=\"Times,serif\" font-size=\"14.00\" fill=\"#000000\">samples = 253</text>\n<text text-anchor=\"middle\" x=\"235\" y=\"-200.8\" font-family=\"Times,serif\" font-size=\"14.00\" fill=\"#000000\">value = 23.049</text>\n</g>\n<!-- 1 -->\n<g id=\"node2\" class=\"node\">\n<title>1</title>\n<polygon fill=\"none\" stroke=\"#000000\" points=\"226,-157 122,-157 122,-89 226,-89 226,-157\"/>\n<text text-anchor=\"middle\" x=\"174\" y=\"-141.8\" font-family=\"Times,serif\" font-size=\"14.00\" fill=\"#000000\">rm &lt;= 7.435</text>\n<text text-anchor=\"middle\" x=\"174\" y=\"-126.8\" font-family=\"Times,serif\" font-size=\"14.00\" fill=\"#000000\">mse = 84.345</text>\n<text text-anchor=\"middle\" x=\"174\" y=\"-111.8\" font-family=\"Times,serif\" font-size=\"14.00\" fill=\"#000000\">samples = 86</text>\n<text text-anchor=\"middle\" x=\"174\" y=\"-96.8\" font-family=\"Times,serif\" font-size=\"14.00\" fill=\"#000000\">value = 32.492</text>\n</g>\n<!-- 0&#45;&gt;1 -->\n<g id=\"edge1\" class=\"edge\">\n<title>0&#45;&gt;1</title>\n<path fill=\"none\" stroke=\"#000000\" d=\"M215.0263,-192.9465C209.9707,-184.3271 204.4753,-174.9579 199.1983,-165.9611\"/>\n<polygon fill=\"#000000\" stroke=\"#000000\" points=\"202.0969,-163.985 194.0186,-157.13 196.0589,-167.5265 202.0969,-163.985\"/>\n<text text-anchor=\"middle\" x=\"187.714\" y=\"-177.622\" font-family=\"Times,serif\" font-size=\"14.00\" fill=\"#000000\">True</text>\n</g>\n<!-- 4 -->\n<g id=\"node5\" class=\"node\">\n<title>4</title>\n<polygon fill=\"none\" stroke=\"#000000\" points=\"348,-157 244,-157 244,-89 348,-89 348,-157\"/>\n<text text-anchor=\"middle\" x=\"296\" y=\"-141.8\" font-family=\"Times,serif\" font-size=\"14.00\" fill=\"#000000\">lstat &lt;= 15.0</text>\n<text text-anchor=\"middle\" x=\"296\" y=\"-126.8\" font-family=\"Times,serif\" font-size=\"14.00\" fill=\"#000000\">mse = 27.121</text>\n<text text-anchor=\"middle\" x=\"296\" y=\"-111.8\" font-family=\"Times,serif\" font-size=\"14.00\" fill=\"#000000\">samples = 167</text>\n<text text-anchor=\"middle\" x=\"296\" y=\"-96.8\" font-family=\"Times,serif\" font-size=\"14.00\" fill=\"#000000\">value = 18.186</text>\n</g>\n<!-- 0&#45;&gt;4 -->\n<g id=\"edge4\" class=\"edge\">\n<title>0&#45;&gt;4</title>\n<path fill=\"none\" stroke=\"#000000\" d=\"M254.9737,-192.9465C260.0293,-184.3271 265.5247,-174.9579 270.8017,-165.9611\"/>\n<polygon fill=\"#000000\" stroke=\"#000000\" points=\"273.9411,-167.5265 275.9814,-157.13 267.9031,-163.985 273.9411,-167.5265\"/>\n<text text-anchor=\"middle\" x=\"282.286\" y=\"-177.622\" font-family=\"Times,serif\" font-size=\"14.00\" fill=\"#000000\">False</text>\n</g>\n<!-- 2 -->\n<g id=\"node3\" class=\"node\">\n<title>2</title>\n<polygon fill=\"none\" stroke=\"#000000\" points=\"104,-53 0,-53 0,0 104,0 104,-53\"/>\n<text text-anchor=\"middle\" x=\"52\" y=\"-37.8\" font-family=\"Times,serif\" font-size=\"14.00\" fill=\"#000000\">mse = 41.903</text>\n<text text-anchor=\"middle\" x=\"52\" y=\"-22.8\" font-family=\"Times,serif\" font-size=\"14.00\" fill=\"#000000\">samples = 68</text>\n<text text-anchor=\"middle\" x=\"52\" y=\"-7.8\" font-family=\"Times,serif\" font-size=\"14.00\" fill=\"#000000\">value = 28.978</text>\n</g>\n<!-- 1&#45;&gt;2 -->\n<g id=\"edge2\" class=\"edge\">\n<title>1&#45;&gt;2</title>\n<path fill=\"none\" stroke=\"#000000\" d=\"M130.9874,-88.9777C118.9476,-79.4545 105.8812,-69.1191 93.9065,-59.6473\"/>\n<polygon fill=\"#000000\" stroke=\"#000000\" points=\"95.8311,-56.7072 85.8167,-53.2485 91.4885,-62.1973 95.8311,-56.7072\"/>\n</g>\n<!-- 3 -->\n<g id=\"node4\" class=\"node\">\n<title>3</title>\n<polygon fill=\"none\" stroke=\"#000000\" points=\"226,-53 122,-53 122,0 226,0 226,-53\"/>\n<text text-anchor=\"middle\" x=\"174\" y=\"-37.8\" font-family=\"Times,serif\" font-size=\"14.00\" fill=\"#000000\">mse = 21.812</text>\n<text text-anchor=\"middle\" x=\"174\" y=\"-22.8\" font-family=\"Times,serif\" font-size=\"14.00\" fill=\"#000000\">samples = 18</text>\n<text text-anchor=\"middle\" x=\"174\" y=\"-7.8\" font-family=\"Times,serif\" font-size=\"14.00\" fill=\"#000000\">value = 45.767</text>\n</g>\n<!-- 1&#45;&gt;3 -->\n<g id=\"edge3\" class=\"edge\">\n<title>1&#45;&gt;3</title>\n<path fill=\"none\" stroke=\"#000000\" d=\"M174,-88.9777C174,-80.7364 174,-71.887 174,-63.5153\"/>\n<polygon fill=\"#000000\" stroke=\"#000000\" points=\"177.5001,-63.2484 174,-53.2485 170.5001,-63.2485 177.5001,-63.2484\"/>\n</g>\n<!-- 5 -->\n<g id=\"node6\" class=\"node\">\n<title>5</title>\n<polygon fill=\"none\" stroke=\"#000000\" points=\"348,-53 244,-53 244,0 348,0 348,-53\"/>\n<text text-anchor=\"middle\" x=\"296\" y=\"-37.8\" font-family=\"Times,serif\" font-size=\"14.00\" fill=\"#000000\">mse = 12.255</text>\n<text text-anchor=\"middle\" x=\"296\" y=\"-22.8\" font-family=\"Times,serif\" font-size=\"14.00\" fill=\"#000000\">samples = 87</text>\n<text text-anchor=\"middle\" x=\"296\" y=\"-7.8\" font-family=\"Times,serif\" font-size=\"14.00\" fill=\"#000000\">value = 21.566</text>\n</g>\n<!-- 4&#45;&gt;5 -->\n<g id=\"edge5\" class=\"edge\">\n<title>4&#45;&gt;5</title>\n<path fill=\"none\" stroke=\"#000000\" d=\"M296,-88.9777C296,-80.7364 296,-71.887 296,-63.5153\"/>\n<polygon fill=\"#000000\" stroke=\"#000000\" points=\"299.5001,-63.2484 296,-53.2485 292.5001,-63.2485 299.5001,-63.2484\"/>\n</g>\n<!-- 6 -->\n<g id=\"node7\" class=\"node\">\n<title>6</title>\n<polygon fill=\"none\" stroke=\"#000000\" points=\"470,-53 366,-53 366,0 470,0 470,-53\"/>\n<text text-anchor=\"middle\" x=\"418\" y=\"-37.8\" font-family=\"Times,serif\" font-size=\"14.00\" fill=\"#000000\">mse = 17.363</text>\n<text text-anchor=\"middle\" x=\"418\" y=\"-22.8\" font-family=\"Times,serif\" font-size=\"14.00\" fill=\"#000000\">samples = 80</text>\n<text text-anchor=\"middle\" x=\"418\" y=\"-7.8\" font-family=\"Times,serif\" font-size=\"14.00\" fill=\"#000000\">value = 14.511</text>\n</g>\n<!-- 4&#45;&gt;6 -->\n<g id=\"edge6\" class=\"edge\">\n<title>4&#45;&gt;6</title>\n<path fill=\"none\" stroke=\"#000000\" d=\"M339.0126,-88.9777C351.0524,-79.4545 364.1188,-69.1191 376.0935,-59.6473\"/>\n<polygon fill=\"#000000\" stroke=\"#000000\" points=\"378.5115,-62.1973 384.1833,-53.2485 374.1689,-56.7072 378.5115,-62.1973\"/>\n</g>\n</g>\n</svg>\n"
          },
          "metadata": {
            "tags": []
          },
          "execution_count": 10
        }
      ]
    },
    {
      "cell_type": "code",
      "metadata": {
        "id": "YG4TjJnrYFod",
        "colab_type": "code",
        "outputId": "8db871b2-61d6-4b8d-991c-3f3f7d5e7c72",
        "colab": {
          "base_uri": "https://localhost:8080/",
          "height": 34
        }
      },
      "source": [
        "y_pred  =regr_tree.predict(X_test)\n",
        "mean_squared_error(y_pred, y_test)\n"
      ],
      "execution_count": 11,
      "outputs": [
        {
          "output_type": "execute_result",
          "data": {
            "text/plain": [
              "28.801544864457952"
            ]
          },
          "metadata": {
            "tags": []
          },
          "execution_count": 11
        }
      ]
    },
    {
      "cell_type": "code",
      "metadata": {
        "id": "TMmB8aQcwLVH",
        "colab_type": "code",
        "outputId": "feac74cf-8022-428d-91b2-c63f4914f07a",
        "colab": {
          "base_uri": "https://localhost:8080/",
          "height": 34
        }
      },
      "source": [
        "all_feature = X_train.shape[1]\n",
        "regr_bagging = RandomForestRegressor(max_features=all_feature, random_state=1)   #Since we are using all the feaures thats why it is bagging \n",
        "regr_bagging.fit(X_train, y_train)\n",
        "y_pred = regr_bagging.predict(X_test)\n",
        "mean_squared_error(y_pred, y_test)"
      ],
      "execution_count": 12,
      "outputs": [
        {
          "output_type": "execute_result",
          "data": {
            "text/plain": [
              "16.267629007905143"
            ]
          },
          "metadata": {
            "tags": []
          },
          "execution_count": 12
        }
      ]
    },
    {
      "cell_type": "code",
      "metadata": {
        "id": "78hZXRaGw5LZ",
        "colab_type": "code",
        "outputId": "fea7834f-2ce4-4a14-cafe-665dc560eccc",
        "colab": {
          "base_uri": "https://localhost:8080/",
          "height": 34
        }
      },
      "source": [
        "feature  = int(np.ceil( np.sqrt(X_train.shape[1]) ))\n",
        "regr_rf = RandomForestRegressor(max_features=feature, random_state=1) # Since we are using m = root(p)\n",
        "regr_rf.fit(X_train, y_train)\n",
        "y_pred = regr_rf.predict(X_test)\n",
        "mean_squared_error(y_pred, y_test)"
      ],
      "execution_count": 13,
      "outputs": [
        {
          "output_type": "execute_result",
          "data": {
            "text/plain": [
              "15.767134932806325"
            ]
          },
          "metadata": {
            "tags": []
          },
          "execution_count": 13
        }
      ]
    },
    {
      "cell_type": "code",
      "metadata": {
        "id": "HCjaFHa2yu5W",
        "colab_type": "code",
        "outputId": "7cba1273-af0f-445b-f157-589885b642bb",
        "colab": {
          "base_uri": "https://localhost:8080/",
          "height": 279
        }
      },
      "source": [
        "# Finding the feautre importance using random forest \n",
        "Importance = pd.DataFrame({\"Importance\" : regr_rf.feature_importances_*100}, index = X_train.columns)\n",
        "Importance.sort_values(by = \"Importance\", axis = 0, ascending = True).plot(kind = \"barh\", color = \"r\")\n",
        "plt.xlabel(\"Variable Importance\")\n",
        "plt.gca().legend_ = None"
      ],
      "execution_count": 14,
      "outputs": [
        {
          "output_type": "display_data",
          "data": {
            "image/png": "[encoded data removed]",
            "text/plain": [
              "<Figure size 432x288 with 1 Axes>"
            ]
          },
          "metadata": {
            "tags": []
          }
        }
      ]
    },
    {
      "cell_type": "code",
      "metadata": {
        "id": "SsuxtB6x0KVY",
        "colab_type": "code",
        "outputId": "9f1ab146-64d6-44b2-bae7-e0278e736e5c",
        "colab": {
          "base_uri": "https://localhost:8080/",
          "height": 168
        }
      },
      "source": [
        "regr_boost = GradientBoostingRegressor(n_estimators=500, learning_rate=0.02, max_depth=4, random_state=3)\n",
        "regr_boost.fit(X_train, y_train)\n"
      ],
      "execution_count": 15,
      "outputs": [
        {
          "output_type": "execute_result",
          "data": {
            "text/plain": [
              "GradientBoostingRegressor(alpha=0.9, ccp_alpha=0.0, criterion='friedman_mse',\n",
              "                          init=None, learning_rate=0.02, loss='ls', max_depth=4,\n",
              "                          max_features=None, max_leaf_nodes=None,\n",
              "                          min_impurity_decrease=0.0, min_impurity_split=None,\n",
              "                          min_samples_leaf=1, min_samples_split=2,\n",
              "                          min_weight_fraction_leaf=0.0, n_estimators=500,\n",
              "                          n_iter_no_change=None, presort='deprecated',\n",
              "                          random_state=3, subsample=1.0, tol=0.0001,\n",
              "                          validation_fraction=0.1, verbose=0, warm_start=False)"
            ]
          },
          "metadata": {
            "tags": []
          },
          "execution_count": 15
        }
      ]
    },
    {
      "cell_type": "code",
      "metadata": {
        "id": "e-lLs-Sd1Btl",
        "colab_type": "code",
        "outputId": "86e6ee30-0097-4240-f99e-a5070dae37f4",
        "colab": {
          "base_uri": "https://localhost:8080/",
          "height": 279
        }
      },
      "source": [
        "feature_importance = regr_boost.feature_importances_*100\n",
        "rel_imp = pd.Series(feature_importance, index = X_train.columns).sort_values(inplace=False)\n",
        "rel_imp.T.plot(kind = \"barh\", color = 'r')\n",
        "plt.xlabel(\"Variable Importance\")\n",
        "plt.gca().legend_ = None\n",
        "# For huge data Boosting is much better "
      ],
      "execution_count": 16,
      "outputs": [
        {
          "output_type": "display_data",
          "data": {
            "image/png": "[encoded data removed]",
            "text/plain": [
              "<Figure size 432x288 with 1 Axes>"
            ]
          },
          "metadata": {
            "tags": []
          }
        }
      ]
    },
    {
      "cell_type": "code",
      "metadata": {
        "id": "jjb2Vhaj1311",
        "colab_type": "code",
        "outputId": "16eb05ff-11f1-45fe-81a9-dd2d58a56f26",
        "colab": {
          "base_uri": "https://localhost:8080/",
          "height": 34
        }
      },
      "source": [
        "y_pred = regr_boost.predict(X_test)\n",
        "mean_squared_error(y_pred, y_test)"
      ],
      "execution_count": 17,
      "outputs": [
        {
          "output_type": "execute_result",
          "data": {
            "text/plain": [
              "16.97068353753509"
            ]
          },
          "metadata": {
            "tags": []
          },
          "execution_count": 17
        }
      ]
    },
    {
      "cell_type": "code",
      "metadata": {
        "id": "7hmiFTWNI-ux",
        "colab_type": "code",
        "colab": {}
      },
      "source": [
        "social_media = pd.read_csv(\"/content/Social_Network_Ads.csv\")\n",
        "social_media.head()\n",
        "features = [\"User ID\", \"Gender\", \"Age\", \"EstimatedSalary\"]\n",
        "target = [\"Purchased\"]\n",
        "social_media[\"User ID\"] = social_media[\"User ID\"].apply(lambda x : str(x)).apply(lambda x : x[0:3] )\n",
        "X = pd.get_dummies(social_media[features])\n",
        "y = social_media[target]\n",
        "X[[\"Age\", \"EstimatedSalary\"]]= scale(X[[\"Age\", \"EstimatedSalary\"]])\n",
        "X_train, X_test, y_train, y_test = train_test_split(X, y, train_size=0.3, random_state = 123)\n"
      ],
      "execution_count": 0,
      "outputs": []
    },
    {
      "cell_type": "code",
      "metadata": {
        "id": "qXJjHdvKMrqs",
        "colab_type": "code",
        "colab": {
          "base_uri": "https://localhost:8080/",
          "height": 34
        },
        "outputId": "b412f793-e4da-47f1-da2c-8caad91d2880"
      },
      "source": [
        "clf_gini = DecisionTreeClassifier(criterion=\"gini\", random_state=100) \n",
        "clf_gini.fit(X_train, y_train)\n",
        "print(clf_gini.score(X_train, y_train))"
      ],
      "execution_count": 36,
      "outputs": [
        {
          "output_type": "stream",
          "text": [
            "1.0\n"
          ],
          "name": "stdout"
        }
      ]
    },
    {
      "cell_type": "code",
      "metadata": {
        "id": "THtEasFOM5q9",
        "colab_type": "code",
        "colab": {
          "base_uri": "https://localhost:8080/",
          "height": 168
        },
        "outputId": "ab154453-9bb6-43a9-d2c9-ca5c442acadc"
      },
      "source": [
        "y_pred = clf_gini.predict(X_test)\n",
        "report = classification_report(y_pred, y_test)\n",
        "print(report)"
      ],
      "execution_count": 33,
      "outputs": [
        {
          "output_type": "stream",
          "text": [
            "              precision    recall  f1-score   support\n",
            "\n",
            "           0       0.88      0.91      0.90       174\n",
            "           1       0.84      0.80      0.82       106\n",
            "\n",
            "    accuracy                           0.87       280\n",
            "   macro avg       0.86      0.85      0.86       280\n",
            "weighted avg       0.87      0.87      0.87       280\n",
            "\n"
          ],
          "name": "stdout"
        }
      ]
    },
    {
      "cell_type": "code",
      "metadata": {
        "id": "9iUsQp9CNeUF",
        "colab_type": "code",
        "colab": {
          "base_uri": "https://localhost:8080/",
          "height": 269
        },
        "outputId": "cd0a9525-3b8b-48fc-9cd0-cff77b42afce"
      },
      "source": [
        "\n",
        "clf_gini = DecisionTreeClassifier(criterion=\"gini\", random_state=100, max_depth=10, min_samples_split=2) \n",
        "clf_gini.fit(X_train, y_train)\n",
        "y_pred = clf_gini.predict(X_test)\n",
        "max_depth = [ 3, 10, 9, 8, 8, 1, 2, 3, 4, 5, 6, 7, 8, 9, 10, 2, 1, 3] ; min_samples_split = [4, 6, 3, 2, 3, 4, 5, 6, 7, 8, 9, 10, 5, 6, 4]\n",
        "for depth, split in zip(max_depth, min_samples_split):\n",
        "  clf_gini = DecisionTreeClassifier(criterion=\"gini\", random_state=100, max_depth=depth, min_samples_split=split) \n",
        "  clf_gini.fit(X_train, y_train)\n",
        "  y_pred = clf_gini.predict(X_test)\n",
        "  print( f\"depth: {depth}, split: {split} : {accuracy_score(y_pred, y_test)}\" )"
      ],
      "execution_count": 44,
      "outputs": [
        {
          "output_type": "stream",
          "text": [
            "depth: 3, split: 4 : 0.9\n",
            "depth: 10, split: 6 : 0.8821428571428571\n",
            "depth: 9, split: 3 : 0.8607142857142858\n",
            "depth: 8, split: 2 : 0.8714285714285714\n",
            "depth: 8, split: 3 : 0.8607142857142858\n",
            "depth: 1, split: 4 : 0.775\n",
            "depth: 2, split: 5 : 0.9035714285714286\n",
            "depth: 3, split: 6 : 0.9035714285714286\n",
            "depth: 4, split: 7 : 0.8892857142857142\n",
            "depth: 5, split: 8 : 0.8928571428571429\n",
            "depth: 6, split: 9 : 0.8928571428571429\n",
            "depth: 7, split: 10 : 0.8928571428571429\n",
            "depth: 8, split: 5 : 0.875\n",
            "depth: 9, split: 6 : 0.8821428571428571\n",
            "depth: 10, split: 4 : 0.8714285714285714\n"
          ],
          "name": "stdout"
        }
      ]
    },
    {
      "cell_type": "code",
      "metadata": {
        "id": "aPpv970NV6pu",
        "colab_type": "code",
        "colab": {
          "base_uri": "https://localhost:8080/",
          "height": 430
        },
        "outputId": "205effd8-695b-4c55-f294-4e857cda8ba7"
      },
      "source": [
        "# depth = 2 and split 5 gives a fairly good result \n",
        "clf_gini = DecisionTreeClassifier(criterion=\"gini\", random_state=100, max_depth=2, min_samples_split=5) \n",
        "clf_gini.fit(X_train, y_train)\n",
        "y_pred = clf_gini.predict(X_test)\n",
        "report = classification_report(y_pred, y_test)\n",
        "print(report)\n",
        "feature_importance = clf_gini.feature_importances_*100\n",
        "rel_imp = pd.Series(feature_importance, index = X_train.columns).sort_values(inplace=False)\n",
        "rel_imp.T.plot(kind = \"barh\", color = 'r')\n",
        "plt.xlabel(\"Variable Importance\")\n",
        "plt.gca().legend_ = None"
      ],
      "execution_count": 48,
      "outputs": [
        {
          "output_type": "stream",
          "text": [
            "              precision    recall  f1-score   support\n",
            "\n",
            "           0       0.89      0.96      0.92       166\n",
            "           1       0.93      0.82      0.87       114\n",
            "\n",
            "    accuracy                           0.90       280\n",
            "   macro avg       0.91      0.89      0.90       280\n",
            "weighted avg       0.91      0.90      0.90       280\n",
            "\n"
          ],
          "name": "stdout"
        },
        {
          "output_type": "display_data",
          "data": {
            "image/png": "[encoded data removed]",
            "text/plain": [
              "<Figure size 432x288 with 1 Axes>"
            ]
          },
          "metadata": {
            "tags": []
          }
        }
      ]
    }
  ]
}