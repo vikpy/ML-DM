{
  "nbformat": 4,
  "nbformat_minor": 0,
  "metadata": {
    "colab": {
      "name": "lec6_SVM.ipynb",
      "provenance": [],
      "collapsed_sections": [],
      "authorship_tag": "ABX9TyPtRQneQKeF56MrRNfkQImR",
      "include_colab_link": true
    },
    "kernelspec": {
      "name": "python3",
      "display_name": "Python 3"
    }
  },
  "cells": [
    {
      "cell_type": "markdown",
      "metadata": {
        "id": "view-in-github",
        "colab_type": "text"
      },
      "source": [
        "<a href=\"https://colab.research.google.com/github/vikpy/mtechdatascience_mlcourse/blob/master/lec6_SVM.ipynb\" target=\"_parent\"><img src=\"https://colab.research.google.com/assets/colab-badge.svg\" alt=\"Open In Colab\"/></a>"
      ]
    },
    {
      "cell_type": "code",
      "metadata": {
        "id": "nTXZTZsX9Eer",
        "colab_type": "code",
        "colab": {}
      },
      "source": [
        "# Math and data processing \n",
        "import numpy as np\n",
        "import scipy as sp \n",
        "import pandas as pd\n",
        "\n",
        "# scikit-learn models\n",
        "from sklearn.svm import SVC, LinearSVC\n",
        "from sklearn.model_selection import train_test_split, cross_val_score\n",
        "from sklearn.model_selection import GridSearchCV\n",
        "from sklearn.preprocessing import scale\n",
        "from sklearn.metrics import mean_squared_error\n",
        "from sklearn.metrics import confusion_matrix, classification_report\n",
        "from sklearn.metrics import roc_curve, auc \n",
        "\n",
        "# Visualization \n",
        "from IPython.display import display \n",
        "import matplotlib as mpl \n",
        "import matplotlib.pyplot as plt\n",
        "%matplotlib inline\n",
        "mpl.style.use(\"ggplot\")"
      ],
      "execution_count": 0,
      "outputs": []
    },
    {
      "cell_type": "code",
      "metadata": {
        "id": "9Y8wno1_MxFV",
        "colab_type": "code",
        "colab": {}
      },
      "source": [
        "# SVC Plot Functions "
      ],
      "execution_count": 0,
      "outputs": []
    },
    {
      "cell_type": "code",
      "metadata": {
        "id": "z7HtFxuxM5Kx",
        "colab_type": "code",
        "colab": {}
      },
      "source": [
        "def plot_svc(svc, X, y, h=0.02, pad=0.025):\n",
        "  x_min, x_max = X[:,0].min() - pad, X[:,0].max() + pad\n",
        "  y_min, y_max = X[:,1].min() - pad, X[:,1].max() + pad\n",
        "  xx , yy = np.meshgrid(np.arange(x_min, x_max, h), np.arange(y_min, y_max, h))\n",
        "  Z  = svc.predict(np.c_[xx.ravel(), yy.ravel()])\n",
        "\n",
        "  Z = Z.reshape(xx.shape)\n",
        "  plt.contourf(xx, yy, Z, cmap=plt.cm.Paired, alpha = 0.2)\n",
        "\n",
        "  plt.scatter(X[:, 0], X[:,1], s=70, c=y, cmap=plt.cm.Paired)\n",
        "  # Support vector indeicated in plot by vertical lines \n",
        "  sv = svc.support_vectors_\n",
        "  plt.scatter(sv[:, 0], sv[:, 1], c = 'k', marker = 'x', s = 100, linewidths='1')\n",
        "  plt.xlim(x_min, x_max)\n",
        "  plt.ylim(y_min, y_max)\n",
        "  plt.xlabel('X1')\n",
        "  plt.ylabel('X2')\n",
        "  plt.show()\n",
        "  print(\"Number of Support Vectors: \", svc.support_.size)"
      ],
      "execution_count": 0,
      "outputs": []
    },
    {
      "cell_type": "code",
      "metadata": {
        "id": "nCRPSisWPWLm",
        "colab_type": "code",
        "colab": {}
      },
      "source": [
        "# Support Vector Classsifier \n"
      ],
      "execution_count": 0,
      "outputs": []
    },
    {
      "cell_type": "code",
      "metadata": {
        "id": "yC8JzZ0rPacn",
        "colab_type": "code",
        "outputId": "3eea1e52-41b6-4819-d07e-c1e4f5853ee3",
        "colab": {
          "base_uri": "https://localhost:8080/",
          "height": 282
        }
      },
      "source": [
        "# Generating random data: 20 observations of 2 features and divide into two classifier \n",
        "np.random.seed(5)\n",
        "X = np.random.randn(20, 2)\n",
        "y = np.repeat([1, -1], 10)\n",
        "X[y == -1] = X[y  == -1] + 1\n",
        "plt.scatter(X[:, 0], X[:, 1],s = 70, c = y, cmap=plt.cm.Paired)\n",
        "plt.xlabel(\"X1\")\n",
        "plt.ylabel(\"X2\")\n",
        "plt.show()"
      ],
      "execution_count": 3,
      "outputs": [
        {
          "output_type": "display_data",
          "data": {
            "image/png": "[encoded data removed]",
            "text/plain": [
              "<Figure size 432x288 with 1 Axes>"
            ]
          },
          "metadata": {
            "tags": []
          }
        }
      ]
    },
    {
      "cell_type": "code",
      "metadata": {
        "id": "Z1ZnMpLPQj_E",
        "colab_type": "code",
        "outputId": "50e680ca-3ebc-4402-d1dc-20579d50133d",
        "colab": {
          "base_uri": "https://localhost:8080/",
          "height": 235
        }
      },
      "source": [
        "svc = SVC(C=1, kernel= \"linear\")\n",
        "svc.fit(X, y)\n",
        "sv = svc.support_vectors_\n",
        "print(sv)"
      ],
      "execution_count": 4,
      "outputs": [
        {
          "output_type": "stream",
          "text": [
            "[[ 0.01939211  0.14314685]\n",
            " [ 0.12812082  0.57749207]\n",
            " [ 1.05914424  0.63668912]\n",
            " [ 1.00328884  0.89406956]\n",
            " [ 1.79305332  0.36842837]\n",
            " [ 0.99380509  0.89893239]\n",
            " [ 0.94769185  1.24921766]\n",
            " [ 0.44122749 -0.33087015]\n",
            " [ 2.43077119 -0.25209213]\n",
            " [ 0.10960984  1.58248112]\n",
            " [ 0.18760323 -0.32986996]\n",
            " [-0.35882895  0.6034716 ]\n",
            " [ 1.15139101  1.85733101]]\n"
          ],
          "name": "stdout"
        }
      ]
    },
    {
      "cell_type": "code",
      "metadata": {
        "id": "9Q2I1UoVQ0vv",
        "colab_type": "code",
        "outputId": "86124324-8b4e-4a40-c1b9-3beda0845d61",
        "colab": {
          "base_uri": "https://localhost:8080/",
          "height": 299
        }
      },
      "source": [
        "plot_svc(svc, X, y)"
      ],
      "execution_count": 0,
      "outputs": [
        {
          "output_type": "display_data",
          "data": {
            "image/png": "[encoded data removed]",
            "text/plain": [
              "<Figure size 432x288 with 1 Axes>"
            ]
          },
          "metadata": {
            "tags": []
          }
        },
        {
          "output_type": "stream",
          "text": [
            "Number of Support Vectors:  13\n"
          ],
          "name": "stdout"
        }
      ]
    },
    {
      "cell_type": "code",
      "metadata": {
        "id": "-gMBTQThQ9ap",
        "colab_type": "code",
        "outputId": "8fec025a-f0f6-4bdb-9197-430feb605035",
        "colab": {
          "base_uri": "https://localhost:8080/",
          "height": 635
        }
      },
      "source": [
        "# When using a smaller cost parameter (C = 0.01) the margins wider . resulting in more support vector\n",
        "svc2 = SVC(C=0.01, kernel= \"linear\")\n",
        "svc2.fit(X, y)\n",
        "sv2 = svc2.support_vectors_\n",
        "print(sv2)\n",
        "plot_svc(svc2, X, y)"
      ],
      "execution_count": 0,
      "outputs": [
        {
          "output_type": "stream",
          "text": [
            "[[ 0.01939211  0.14314685]\n",
            " [ 0.12812082  0.57749207]\n",
            " [ 1.99643983  1.71242127]\n",
            " [ 1.05914424  0.63668912]\n",
            " [ 1.00328884  0.89406956]\n",
            " [ 1.79305332  0.36842837]\n",
            " [ 0.99380509  0.89893239]\n",
            " [ 0.94769185  1.24921766]\n",
            " [ 1.19766009  2.33484857]\n",
            " [ 0.91312439  2.56153229]\n",
            " [ 0.44122749 -0.33087015]\n",
            " [ 2.43077119 -0.25209213]\n",
            " [ 0.10960984  1.58248112]\n",
            " [-0.9092324  -0.59163666]\n",
            " [ 0.18760323 -0.32986996]\n",
            " [-1.19276461 -0.20487651]\n",
            " [-0.35882895  0.6034716 ]\n",
            " [-1.66478853 -0.70017904]\n",
            " [ 1.15139101  1.85733101]\n",
            " [-1.51117956  0.64484751]]\n"
          ],
          "name": "stdout"
        },
        {
          "output_type": "display_data",
          "data": {
            "image/png": "[encoded data removed]",
            "text/plain": [
              "<Figure size 432x288 with 1 Axes>"
            ]
          },
          "metadata": {
            "tags": []
          }
        },
        {
          "output_type": "stream",
          "text": [
            "Number of Support Vectors:  20\n"
          ],
          "name": "stdout"
        }
      ]
    },
    {
      "cell_type": "code",
      "metadata": {
        "id": "qoQIdlFlVJvP",
        "colab_type": "code",
        "outputId": "46f7ac85-f32d-494d-cff4-ac07b1b6cbcf",
        "colab": {
          "base_uri": "https://localhost:8080/",
          "height": 635
        }
      },
      "source": [
        "# When using a smaller cost parameter (C = 0.01) the marginis wider . resulting in more support vector\n",
        "svc3 = SVC(C=0.1, kernel= \"linear\")\n",
        "svc3.fit(X, y)\n",
        "sv3 = svc3.support_vectors_\n",
        "print(sv2)\n",
        "plot_svc(svc3, X, y)"
      ],
      "execution_count": 0,
      "outputs": [
        {
          "output_type": "stream",
          "text": [
            "[[ 0.01939211  0.14314685]\n",
            " [ 0.12812082  0.57749207]\n",
            " [ 1.99643983  1.71242127]\n",
            " [ 1.05914424  0.63668912]\n",
            " [ 1.00328884  0.89406956]\n",
            " [ 1.79305332  0.36842837]\n",
            " [ 0.99380509  0.89893239]\n",
            " [ 0.94769185  1.24921766]\n",
            " [ 1.19766009  2.33484857]\n",
            " [ 0.91312439  2.56153229]\n",
            " [ 0.44122749 -0.33087015]\n",
            " [ 2.43077119 -0.25209213]\n",
            " [ 0.10960984  1.58248112]\n",
            " [-0.9092324  -0.59163666]\n",
            " [ 0.18760323 -0.32986996]\n",
            " [-1.19276461 -0.20487651]\n",
            " [-0.35882895  0.6034716 ]\n",
            " [-1.66478853 -0.70017904]\n",
            " [ 1.15139101  1.85733101]\n",
            " [-1.51117956  0.64484751]]\n"
          ],
          "name": "stdout"
        },
        {
          "output_type": "display_data",
          "data": {
            "image/png": "[encoded data removed]",
            "text/plain": [
              "<Figure size 432x288 with 1 Axes>"
            ]
          },
          "metadata": {
            "tags": []
          }
        },
        {
          "output_type": "stream",
          "text": [
            "Number of Support Vectors:  16\n"
          ],
          "name": "stdout"
        }
      ]
    },
    {
      "cell_type": "code",
      "metadata": {
        "id": "AIukj5v2Vwv4",
        "colab_type": "code",
        "outputId": "9587cb79-6e6f-4406-e063-cf2fdbd8249d",
        "colab": {
          "base_uri": "https://localhost:8080/",
          "height": 518
        }
      },
      "source": [
        "# When using a smaller cost parameter (C = 0.01) the margins wider . resulting in more support vector\n",
        "svc4 = SVC(C=10, kernel= \"linear\")\n",
        "svc4.fit(X, y)\n",
        "sv4 = svc4.support_vectors_\n",
        "print(sv4)\n",
        "plot_svc(svc4, X, y)"
      ],
      "execution_count": 0,
      "outputs": [
        {
          "output_type": "stream",
          "text": [
            "[[ 0.01939211  0.14314685]\n",
            " [ 0.12812082  0.57749207]\n",
            " [ 1.05914424  0.63668912]\n",
            " [ 1.00328884  0.89406956]\n",
            " [ 1.79305332  0.36842837]\n",
            " [ 0.99380509  0.89893239]\n",
            " [ 0.94769185  1.24921766]\n",
            " [ 0.44122749 -0.33087015]\n",
            " [ 2.43077119 -0.25209213]\n",
            " [ 0.10960984  1.58248112]\n",
            " [ 0.18760323 -0.32986996]\n",
            " [-0.35882895  0.6034716 ]\n",
            " [ 1.15139101  1.85733101]]\n"
          ],
          "name": "stdout"
        },
        {
          "output_type": "display_data",
          "data": {
            "image/png": "[encoded data removed]",
            "text/plain": [
              "<Figure size 432x288 with 1 Axes>"
            ]
          },
          "metadata": {
            "tags": []
          }
        },
        {
          "output_type": "stream",
          "text": [
            "Number of Support Vectors:  13\n"
          ],
          "name": "stdout"
        }
      ]
    },
    {
      "cell_type": "code",
      "metadata": {
        "id": "sKuiJlgtR61-",
        "colab_type": "code",
        "outputId": "164e7382-5a15-43bb-9459-0cac1fe695c2",
        "colab": {
          "base_uri": "https://localhost:8080/",
          "height": 254
        }
      },
      "source": [
        "# Selecting the optimal cost parameter using cross validation \n",
        "tuning_parms = [{ \"C\" : [0.001, 0.01, 0.1, 1 , 5, 10, 100] }]\n",
        "clf = GridSearchCV(SVC(kernel=\"linear\"), tuning_parms, cv = 10, scoring=\"accuracy\")\n",
        "clf.fit(X, y)\n",
        "pd.DataFrame(clf.cv_results_)[[\"mean_test_score\", \"std_test_score\", \"params\"]]\n"
      ],
      "execution_count": 0,
      "outputs": [
        {
          "output_type": "execute_result",
          "data": {
            "text/html": [
              "<div>\n",
              "<style scoped>\n",
              "    .dataframe tbody tr th:only-of-type {\n",
              "        vertical-align: middle;\n",
              "    }\n",
              "\n",
              "    .dataframe tbody tr th {\n",
              "        vertical-align: top;\n",
              "    }\n",
              "\n",
              "    .dataframe thead th {\n",
              "        text-align: right;\n",
              "    }\n",
              "</style>\n",
              "<table border=\"1\" class=\"dataframe\">\n",
              "  <thead>\n",
              "    <tr style=\"text-align: right;\">\n",
              "      <th></th>\n",
              "      <th>mean_test_score</th>\n",
              "      <th>std_test_score</th>\n",
              "      <th>params</th>\n",
              "    </tr>\n",
              "  </thead>\n",
              "  <tbody>\n",
              "    <tr>\n",
              "      <th>0</th>\n",
              "      <td>0.80</td>\n",
              "      <td>0.244949</td>\n",
              "      <td>{'C': 0.001}</td>\n",
              "    </tr>\n",
              "    <tr>\n",
              "      <th>1</th>\n",
              "      <td>0.80</td>\n",
              "      <td>0.244949</td>\n",
              "      <td>{'C': 0.01}</td>\n",
              "    </tr>\n",
              "    <tr>\n",
              "      <th>2</th>\n",
              "      <td>0.80</td>\n",
              "      <td>0.244949</td>\n",
              "      <td>{'C': 0.1}</td>\n",
              "    </tr>\n",
              "    <tr>\n",
              "      <th>3</th>\n",
              "      <td>0.75</td>\n",
              "      <td>0.335410</td>\n",
              "      <td>{'C': 1}</td>\n",
              "    </tr>\n",
              "    <tr>\n",
              "      <th>4</th>\n",
              "      <td>0.75</td>\n",
              "      <td>0.335410</td>\n",
              "      <td>{'C': 5}</td>\n",
              "    </tr>\n",
              "    <tr>\n",
              "      <th>5</th>\n",
              "      <td>0.75</td>\n",
              "      <td>0.335410</td>\n",
              "      <td>{'C': 10}</td>\n",
              "    </tr>\n",
              "    <tr>\n",
              "      <th>6</th>\n",
              "      <td>0.75</td>\n",
              "      <td>0.335410</td>\n",
              "      <td>{'C': 100}</td>\n",
              "    </tr>\n",
              "  </tbody>\n",
              "</table>\n",
              "</div>"
            ],
            "text/plain": [
              "   mean_test_score  std_test_score        params\n",
              "0             0.80        0.244949  {'C': 0.001}\n",
              "1             0.80        0.244949   {'C': 0.01}\n",
              "2             0.80        0.244949    {'C': 0.1}\n",
              "3             0.75        0.335410      {'C': 1}\n",
              "4             0.75        0.335410      {'C': 5}\n",
              "5             0.75        0.335410     {'C': 10}\n",
              "6             0.75        0.335410    {'C': 100}"
            ]
          },
          "metadata": {
            "tags": []
          },
          "execution_count": 14
        }
      ]
    },
    {
      "cell_type": "code",
      "metadata": {
        "id": "uxOLSUUXT6OA",
        "colab_type": "code",
        "outputId": "3407a935-2e00-45cc-c539-a545e507061f",
        "colab": {
          "base_uri": "https://localhost:8080/",
          "height": 282
        }
      },
      "source": [
        "# test data\n",
        "np.random.seed(1)\n",
        "X_test = np.random.randn(20, 2)\n",
        "y_test = np.random.choice([1,-1], 20)\n",
        "\n",
        "X_test[y_test == 1]  = X_test[y_test == 1] - 1\n",
        "plt.scatter(X_test[:, 0], X_test[:, 1],s = 70, c = y_test, cmap=plt.cm.Paired)\n",
        "plt.xlabel(\"X1\")\n",
        "plt.ylabel(\"X2\")\n",
        "plt.show()"
      ],
      "execution_count": 0,
      "outputs": [
        {
          "output_type": "display_data",
          "data": {
            "image/png": "[encoded data removed]",
            "text/plain": [
              "<Figure size 432x288 with 1 Axes>"
            ]
          },
          "metadata": {
            "tags": []
          }
        }
      ]
    },
    {
      "cell_type": "code",
      "metadata": {
        "id": "T-IobmD_UmQL",
        "colab_type": "code",
        "outputId": "a140b692-1296-4580-a84a-4a1d5d25a192",
        "colab": {
          "base_uri": "https://localhost:8080/",
          "height": 106
        }
      },
      "source": [
        "# Prediction with C = 0.01\n",
        "y_pred = svc2.predict(X_test)\n",
        "pd.DataFrame(confusion_matrix(y_pred, y_test), index = svc.classes_, columns=svc.classes_)"
      ],
      "execution_count": 0,
      "outputs": [
        {
          "output_type": "execute_result",
          "data": {
            "text/html": [
              "<div>\n",
              "<style scoped>\n",
              "    .dataframe tbody tr th:only-of-type {\n",
              "        vertical-align: middle;\n",
              "    }\n",
              "\n",
              "    .dataframe tbody tr th {\n",
              "        vertical-align: top;\n",
              "    }\n",
              "\n",
              "    .dataframe thead th {\n",
              "        text-align: right;\n",
              "    }\n",
              "</style>\n",
              "<table border=\"1\" class=\"dataframe\">\n",
              "  <thead>\n",
              "    <tr style=\"text-align: right;\">\n",
              "      <th></th>\n",
              "      <th>-1</th>\n",
              "      <th>1</th>\n",
              "    </tr>\n",
              "  </thead>\n",
              "  <tbody>\n",
              "    <tr>\n",
              "      <th>-1</th>\n",
              "      <td>2</td>\n",
              "      <td>0</td>\n",
              "    </tr>\n",
              "    <tr>\n",
              "      <th>1</th>\n",
              "      <td>10</td>\n",
              "      <td>8</td>\n",
              "    </tr>\n",
              "  </tbody>\n",
              "</table>\n",
              "</div>"
            ],
            "text/plain": [
              "    -1   1\n",
              "-1   2   0\n",
              " 1  10   8"
            ]
          },
          "metadata": {
            "tags": []
          },
          "execution_count": 19
        }
      ]
    },
    {
      "cell_type": "code",
      "metadata": {
        "id": "PdEEN9XgVSah",
        "colab_type": "code",
        "outputId": "ec63dfc6-59f8-4fb3-d7f7-43e5636cd775",
        "colab": {
          "base_uri": "https://localhost:8080/",
          "height": 106
        }
      },
      "source": [
        "# Prediction with C = 0.1\n",
        "y_pred = svc3.predict(X_test)\n",
        "pd.DataFrame(confusion_matrix(y_pred, y_test), index = svc3.classes_, columns=svc3.classes_)"
      ],
      "execution_count": 0,
      "outputs": [
        {
          "output_type": "execute_result",
          "data": {
            "text/html": [
              "<div>\n",
              "<style scoped>\n",
              "    .dataframe tbody tr th:only-of-type {\n",
              "        vertical-align: middle;\n",
              "    }\n",
              "\n",
              "    .dataframe tbody tr th {\n",
              "        vertical-align: top;\n",
              "    }\n",
              "\n",
              "    .dataframe thead th {\n",
              "        text-align: right;\n",
              "    }\n",
              "</style>\n",
              "<table border=\"1\" class=\"dataframe\">\n",
              "  <thead>\n",
              "    <tr style=\"text-align: right;\">\n",
              "      <th></th>\n",
              "      <th>-1</th>\n",
              "      <th>1</th>\n",
              "    </tr>\n",
              "  </thead>\n",
              "  <tbody>\n",
              "    <tr>\n",
              "      <th>-1</th>\n",
              "      <td>2</td>\n",
              "      <td>0</td>\n",
              "    </tr>\n",
              "    <tr>\n",
              "      <th>1</th>\n",
              "      <td>10</td>\n",
              "      <td>8</td>\n",
              "    </tr>\n",
              "  </tbody>\n",
              "</table>\n",
              "</div>"
            ],
            "text/plain": [
              "    -1   1\n",
              "-1   2   0\n",
              " 1  10   8"
            ]
          },
          "metadata": {
            "tags": []
          },
          "execution_count": 21
        }
      ]
    },
    {
      "cell_type": "code",
      "metadata": {
        "id": "ReJS_t9SV2rO",
        "colab_type": "code",
        "outputId": "f94f91c7-ebcf-4927-9d89-15b4af6f2279",
        "colab": {
          "base_uri": "https://localhost:8080/",
          "height": 106
        }
      },
      "source": [
        "# Prediction with C = 10\n",
        "y_pred = svc4.predict(X_test)\n",
        "pd.DataFrame(confusion_matrix(y_pred, y_test), index = svc4.classes_, columns=svc4.classes_)"
      ],
      "execution_count": 0,
      "outputs": [
        {
          "output_type": "execute_result",
          "data": {
            "text/html": [
              "<div>\n",
              "<style scoped>\n",
              "    .dataframe tbody tr th:only-of-type {\n",
              "        vertical-align: middle;\n",
              "    }\n",
              "\n",
              "    .dataframe tbody tr th {\n",
              "        vertical-align: top;\n",
              "    }\n",
              "\n",
              "    .dataframe thead th {\n",
              "        text-align: right;\n",
              "    }\n",
              "</style>\n",
              "<table border=\"1\" class=\"dataframe\">\n",
              "  <thead>\n",
              "    <tr style=\"text-align: right;\">\n",
              "      <th></th>\n",
              "      <th>-1</th>\n",
              "      <th>1</th>\n",
              "    </tr>\n",
              "  </thead>\n",
              "  <tbody>\n",
              "    <tr>\n",
              "      <th>-1</th>\n",
              "      <td>2</td>\n",
              "      <td>0</td>\n",
              "    </tr>\n",
              "    <tr>\n",
              "      <th>1</th>\n",
              "      <td>10</td>\n",
              "      <td>8</td>\n",
              "    </tr>\n",
              "  </tbody>\n",
              "</table>\n",
              "</div>"
            ],
            "text/plain": [
              "    -1   1\n",
              "-1   2   0\n",
              " 1  10   8"
            ]
          },
          "metadata": {
            "tags": []
          },
          "execution_count": 23
        }
      ]
    },
    {
      "cell_type": "code",
      "metadata": {
        "id": "388OX08mWATS",
        "colab_type": "code",
        "colab": {}
      },
      "source": [
        "# SUpport vector Machine "
      ],
      "execution_count": 0,
      "outputs": []
    },
    {
      "cell_type": "code",
      "metadata": {
        "id": "XhdvWYR6WCww",
        "colab_type": "code",
        "outputId": "c4b86c53-6729-403c-f573-53866753e4b0",
        "colab": {
          "base_uri": "https://localhost:8080/",
          "height": 282
        }
      },
      "source": [
        "# generate random data \n",
        "np.random.seed(8)\n",
        "X = np.random.rand(200, 2)\n",
        "\n",
        "X[:100] = X[:100]  + 2\n",
        "X[101:150] = X[101:150] - 2\n",
        "y = np.concatenate([np.repeat(-1, 150), np.repeat(1, 50)])\n",
        "X_train, X_test, y_train, y_test = train_test_split(X, y, train_size = 0.5, random_state = 2)\n",
        "plt.scatter(X[:,0], X[:,1], s=70, c = y, cmap=plt.cm.Paired)\n"
      ],
      "execution_count": 13,
      "outputs": [
        {
          "output_type": "execute_result",
          "data": {
            "text/plain": [
              "<matplotlib.collections.PathCollection at 0x7f9fabc62da0>"
            ]
          },
          "metadata": {
            "tags": []
          },
          "execution_count": 13
        },
        {
          "output_type": "display_data",
          "data": {
            "image/png": "[encoded data removed]",
            "text/plain": [
              "<Figure size 432x288 with 1 Axes>"
            ]
          },
          "metadata": {
            "tags": []
          }
        }
      ]
    },
    {
      "cell_type": "code",
      "metadata": {
        "id": "eqYpcboZZB09",
        "colab_type": "code",
        "colab": {}
      },
      "source": [
        ""
      ],
      "execution_count": 0,
      "outputs": []
    },
    {
      "cell_type": "code",
      "metadata": {
        "id": "9eegAHqfXR3Y",
        "colab_type": "code",
        "outputId": "01262e73-10e9-41c0-a62d-27a4e935ef0d",
        "colab": {
          "base_uri": "https://localhost:8080/",
          "height": 302
        }
      },
      "source": [
        "svm  = SVC(C =0.1, kernel = \"rbf\", gamma = 1)\n",
        "svm.fit(X_train, y_train)\n",
        "plot_svc(svm, X_train, y_train)"
      ],
      "execution_count": 14,
      "outputs": [
        {
          "output_type": "display_data",
          "data": {
            "image/png": "[encoded data removed]",
            "text/plain": [
              "<Figure size 432x288 with 1 Axes>"
            ]
          },
          "metadata": {
            "tags": []
          }
        },
        {
          "output_type": "stream",
          "text": [
            "Number of Support Vectors:  38\n"
          ],
          "name": "stdout"
        }
      ]
    },
    {
      "cell_type": "code",
      "metadata": {
        "id": "eNokZp77YNa2",
        "colab_type": "code",
        "outputId": "a439d0ad-27c0-4af7-a314-cf779d3f281c",
        "colab": {
          "base_uri": "https://localhost:8080/",
          "height": 787
        }
      },
      "source": [
        "tuning_parameters = [{ \"C\" : [0.01, 0.1, 1, 10, 4], \"gamma\" : [0.5, 1, 2, 3, 4] }]\n",
        "clf = GridSearchCV(SVC(kernel=\"rbf\"), tuning_parameters, cv = 10, scoring=\"accuracy\")\n",
        "clf.fit(X_train, y_train)\n",
        "pd.DataFrame(clf.cv_results_)[[\"mean_test_score\", \"std_test_score\", \"params\"]]"
      ],
      "execution_count": 0,
      "outputs": [
        {
          "output_type": "execute_result",
          "data": {
            "text/html": [
              "<div>\n",
              "<style scoped>\n",
              "    .dataframe tbody tr th:only-of-type {\n",
              "        vertical-align: middle;\n",
              "    }\n",
              "\n",
              "    .dataframe tbody tr th {\n",
              "        vertical-align: top;\n",
              "    }\n",
              "\n",
              "    .dataframe thead th {\n",
              "        text-align: right;\n",
              "    }\n",
              "</style>\n",
              "<table border=\"1\" class=\"dataframe\">\n",
              "  <thead>\n",
              "    <tr style=\"text-align: right;\">\n",
              "      <th></th>\n",
              "      <th>mean_test_score</th>\n",
              "      <th>std_test_score</th>\n",
              "      <th>params</th>\n",
              "    </tr>\n",
              "  </thead>\n",
              "  <tbody>\n",
              "    <tr>\n",
              "      <th>0</th>\n",
              "      <td>0.77</td>\n",
              "      <td>0.045826</td>\n",
              "      <td>{'C': 0.01, 'gamma': 0.5}</td>\n",
              "    </tr>\n",
              "    <tr>\n",
              "      <th>1</th>\n",
              "      <td>0.77</td>\n",
              "      <td>0.045826</td>\n",
              "      <td>{'C': 0.01, 'gamma': 1}</td>\n",
              "    </tr>\n",
              "    <tr>\n",
              "      <th>2</th>\n",
              "      <td>0.77</td>\n",
              "      <td>0.045826</td>\n",
              "      <td>{'C': 0.01, 'gamma': 2}</td>\n",
              "    </tr>\n",
              "    <tr>\n",
              "      <th>3</th>\n",
              "      <td>0.77</td>\n",
              "      <td>0.045826</td>\n",
              "      <td>{'C': 0.01, 'gamma': 3}</td>\n",
              "    </tr>\n",
              "    <tr>\n",
              "      <th>4</th>\n",
              "      <td>0.77</td>\n",
              "      <td>0.045826</td>\n",
              "      <td>{'C': 0.01, 'gamma': 4}</td>\n",
              "    </tr>\n",
              "    <tr>\n",
              "      <th>5</th>\n",
              "      <td>1.00</td>\n",
              "      <td>0.000000</td>\n",
              "      <td>{'C': 0.1, 'gamma': 0.5}</td>\n",
              "    </tr>\n",
              "    <tr>\n",
              "      <th>6</th>\n",
              "      <td>1.00</td>\n",
              "      <td>0.000000</td>\n",
              "      <td>{'C': 0.1, 'gamma': 1}</td>\n",
              "    </tr>\n",
              "    <tr>\n",
              "      <th>7</th>\n",
              "      <td>1.00</td>\n",
              "      <td>0.000000</td>\n",
              "      <td>{'C': 0.1, 'gamma': 2}</td>\n",
              "    </tr>\n",
              "    <tr>\n",
              "      <th>8</th>\n",
              "      <td>1.00</td>\n",
              "      <td>0.000000</td>\n",
              "      <td>{'C': 0.1, 'gamma': 3}</td>\n",
              "    </tr>\n",
              "    <tr>\n",
              "      <th>9</th>\n",
              "      <td>0.98</td>\n",
              "      <td>0.040000</td>\n",
              "      <td>{'C': 0.1, 'gamma': 4}</td>\n",
              "    </tr>\n",
              "    <tr>\n",
              "      <th>10</th>\n",
              "      <td>1.00</td>\n",
              "      <td>0.000000</td>\n",
              "      <td>{'C': 1, 'gamma': 0.5}</td>\n",
              "    </tr>\n",
              "    <tr>\n",
              "      <th>11</th>\n",
              "      <td>1.00</td>\n",
              "      <td>0.000000</td>\n",
              "      <td>{'C': 1, 'gamma': 1}</td>\n",
              "    </tr>\n",
              "    <tr>\n",
              "      <th>12</th>\n",
              "      <td>1.00</td>\n",
              "      <td>0.000000</td>\n",
              "      <td>{'C': 1, 'gamma': 2}</td>\n",
              "    </tr>\n",
              "    <tr>\n",
              "      <th>13</th>\n",
              "      <td>1.00</td>\n",
              "      <td>0.000000</td>\n",
              "      <td>{'C': 1, 'gamma': 3}</td>\n",
              "    </tr>\n",
              "    <tr>\n",
              "      <th>14</th>\n",
              "      <td>1.00</td>\n",
              "      <td>0.000000</td>\n",
              "      <td>{'C': 1, 'gamma': 4}</td>\n",
              "    </tr>\n",
              "    <tr>\n",
              "      <th>15</th>\n",
              "      <td>1.00</td>\n",
              "      <td>0.000000</td>\n",
              "      <td>{'C': 10, 'gamma': 0.5}</td>\n",
              "    </tr>\n",
              "    <tr>\n",
              "      <th>16</th>\n",
              "      <td>1.00</td>\n",
              "      <td>0.000000</td>\n",
              "      <td>{'C': 10, 'gamma': 1}</td>\n",
              "    </tr>\n",
              "    <tr>\n",
              "      <th>17</th>\n",
              "      <td>1.00</td>\n",
              "      <td>0.000000</td>\n",
              "      <td>{'C': 10, 'gamma': 2}</td>\n",
              "    </tr>\n",
              "    <tr>\n",
              "      <th>18</th>\n",
              "      <td>1.00</td>\n",
              "      <td>0.000000</td>\n",
              "      <td>{'C': 10, 'gamma': 3}</td>\n",
              "    </tr>\n",
              "    <tr>\n",
              "      <th>19</th>\n",
              "      <td>1.00</td>\n",
              "      <td>0.000000</td>\n",
              "      <td>{'C': 10, 'gamma': 4}</td>\n",
              "    </tr>\n",
              "    <tr>\n",
              "      <th>20</th>\n",
              "      <td>1.00</td>\n",
              "      <td>0.000000</td>\n",
              "      <td>{'C': 4, 'gamma': 0.5}</td>\n",
              "    </tr>\n",
              "    <tr>\n",
              "      <th>21</th>\n",
              "      <td>1.00</td>\n",
              "      <td>0.000000</td>\n",
              "      <td>{'C': 4, 'gamma': 1}</td>\n",
              "    </tr>\n",
              "    <tr>\n",
              "      <th>22</th>\n",
              "      <td>1.00</td>\n",
              "      <td>0.000000</td>\n",
              "      <td>{'C': 4, 'gamma': 2}</td>\n",
              "    </tr>\n",
              "    <tr>\n",
              "      <th>23</th>\n",
              "      <td>1.00</td>\n",
              "      <td>0.000000</td>\n",
              "      <td>{'C': 4, 'gamma': 3}</td>\n",
              "    </tr>\n",
              "    <tr>\n",
              "      <th>24</th>\n",
              "      <td>1.00</td>\n",
              "      <td>0.000000</td>\n",
              "      <td>{'C': 4, 'gamma': 4}</td>\n",
              "    </tr>\n",
              "  </tbody>\n",
              "</table>\n",
              "</div>"
            ],
            "text/plain": [
              "    mean_test_score  std_test_score                     params\n",
              "0              0.77        0.045826  {'C': 0.01, 'gamma': 0.5}\n",
              "1              0.77        0.045826    {'C': 0.01, 'gamma': 1}\n",
              "2              0.77        0.045826    {'C': 0.01, 'gamma': 2}\n",
              "3              0.77        0.045826    {'C': 0.01, 'gamma': 3}\n",
              "4              0.77        0.045826    {'C': 0.01, 'gamma': 4}\n",
              "5              1.00        0.000000   {'C': 0.1, 'gamma': 0.5}\n",
              "6              1.00        0.000000     {'C': 0.1, 'gamma': 1}\n",
              "7              1.00        0.000000     {'C': 0.1, 'gamma': 2}\n",
              "8              1.00        0.000000     {'C': 0.1, 'gamma': 3}\n",
              "9              0.98        0.040000     {'C': 0.1, 'gamma': 4}\n",
              "10             1.00        0.000000     {'C': 1, 'gamma': 0.5}\n",
              "11             1.00        0.000000       {'C': 1, 'gamma': 1}\n",
              "12             1.00        0.000000       {'C': 1, 'gamma': 2}\n",
              "13             1.00        0.000000       {'C': 1, 'gamma': 3}\n",
              "14             1.00        0.000000       {'C': 1, 'gamma': 4}\n",
              "15             1.00        0.000000    {'C': 10, 'gamma': 0.5}\n",
              "16             1.00        0.000000      {'C': 10, 'gamma': 1}\n",
              "17             1.00        0.000000      {'C': 10, 'gamma': 2}\n",
              "18             1.00        0.000000      {'C': 10, 'gamma': 3}\n",
              "19             1.00        0.000000      {'C': 10, 'gamma': 4}\n",
              "20             1.00        0.000000     {'C': 4, 'gamma': 0.5}\n",
              "21             1.00        0.000000       {'C': 4, 'gamma': 1}\n",
              "22             1.00        0.000000       {'C': 4, 'gamma': 2}\n",
              "23             1.00        0.000000       {'C': 4, 'gamma': 3}\n",
              "24             1.00        0.000000       {'C': 4, 'gamma': 4}"
            ]
          },
          "metadata": {
            "tags": []
          },
          "execution_count": 29
        }
      ]
    }
  ]
}