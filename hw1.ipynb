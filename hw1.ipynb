{
  "nbformat": 4,
  "nbformat_minor": 0,
  "metadata": {
    "colab": {
      "name": "hw1.ipynb",
      "provenance": [],
      "collapsed_sections": [],
      "include_colab_link": true
    },
    "kernelspec": {
      "name": "python3",
      "display_name": "Python 3"
    }
  },
  "cells": [
    {
      "cell_type": "markdown",
      "metadata": {
        "id": "view-in-github",
        "colab_type": "text"
      },
      "source": [
        "<a href=\"https://colab.research.google.com/github/vikpy/mtechdatascience_mlcourse/blob/master/hw1.ipynb\" target=\"_parent\"><img src=\"https://colab.research.google.com/assets/colab-badge.svg\" alt=\"Open In Colab\"/></a>"
      ]
    },
    {
      "cell_type": "code",
      "metadata": {
        "id": "kZ64lQgErG8f",
        "colab_type": "code",
        "colab": {}
      },
      "source": [
        "# Homework problem \n",
        "# Cats dataset\n",
        "# Linear regression coefficients Body Weight vs Heart Weight for Male\n",
        "# Linear regression coefficients Body Weight vs Heart Weight for Female\n",
        "# Linear regression coefficients Body Weight vs Heart Weight for Male & Female \n",
        "# Logistic regression to identify the gender of the cat based on Body Wieght and Heart Weight\n",
        "import numpy as np \n",
        "import matplotlib.pyplot as plt\n",
        "import pandas as pd\n",
        "from sklearn.metrics import mean_squared_error"
      ],
      "execution_count": 0,
      "outputs": []
    },
    {
      "cell_type": "code",
      "metadata": {
        "id": "ZQWMLiWzf6B8",
        "colab_type": "code",
        "outputId": "bfb1c0d5-46aa-4d5e-a0d7-1558cc57a966",
        "colab": {
          "base_uri": "https://localhost:8080/",
          "height": 195
        }
      },
      "source": [
        "dataset = pd.read_csv(\"/content/cats.csv\", index_col=0)\n",
        "dataset.head(5)"
      ],
      "execution_count": 4,
      "outputs": [
        {
          "output_type": "execute_result",
          "data": {
            "text/html": [
              "<div>\n",
              "<style scoped>\n",
              "    .dataframe tbody tr th:only-of-type {\n",
              "        vertical-align: middle;\n",
              "    }\n",
              "\n",
              "    .dataframe tbody tr th {\n",
              "        vertical-align: top;\n",
              "    }\n",
              "\n",
              "    .dataframe thead th {\n",
              "        text-align: right;\n",
              "    }\n",
              "</style>\n",
              "<table border=\"1\" class=\"dataframe\">\n",
              "  <thead>\n",
              "    <tr style=\"text-align: right;\">\n",
              "      <th></th>\n",
              "      <th>Sex</th>\n",
              "      <th>Bwt</th>\n",
              "      <th>Hwt</th>\n",
              "    </tr>\n",
              "  </thead>\n",
              "  <tbody>\n",
              "    <tr>\n",
              "      <th>1</th>\n",
              "      <td>F</td>\n",
              "      <td>2.0</td>\n",
              "      <td>7.0</td>\n",
              "    </tr>\n",
              "    <tr>\n",
              "      <th>2</th>\n",
              "      <td>F</td>\n",
              "      <td>2.0</td>\n",
              "      <td>7.4</td>\n",
              "    </tr>\n",
              "    <tr>\n",
              "      <th>3</th>\n",
              "      <td>F</td>\n",
              "      <td>2.0</td>\n",
              "      <td>9.5</td>\n",
              "    </tr>\n",
              "    <tr>\n",
              "      <th>4</th>\n",
              "      <td>F</td>\n",
              "      <td>2.1</td>\n",
              "      <td>7.2</td>\n",
              "    </tr>\n",
              "    <tr>\n",
              "      <th>5</th>\n",
              "      <td>F</td>\n",
              "      <td>2.1</td>\n",
              "      <td>7.3</td>\n",
              "    </tr>\n",
              "  </tbody>\n",
              "</table>\n",
              "</div>"
            ],
            "text/plain": [
              "  Sex  Bwt  Hwt\n",
              "1   F  2.0  7.0\n",
              "2   F  2.0  7.4\n",
              "3   F  2.0  9.5\n",
              "4   F  2.1  7.2\n",
              "5   F  2.1  7.3"
            ]
          },
          "metadata": {
            "tags": []
          },
          "execution_count": 4
        }
      ]
    },
    {
      "cell_type": "code",
      "metadata": {
        "id": "6zeQ7HDpbKKO",
        "colab_type": "code",
        "colab": {
          "base_uri": "https://localhost:8080/",
          "height": 84
        },
        "outputId": "a8ad6470-4833-44a0-d902-1543941e8858"
      },
      "source": [
        "# Checking for Null values \n",
        "dataset.isnull().sum()"
      ],
      "execution_count": 36,
      "outputs": [
        {
          "output_type": "execute_result",
          "data": {
            "text/plain": [
              "Sex    0\n",
              "Bwt    0\n",
              "Hwt    0\n",
              "dtype: int64"
            ]
          },
          "metadata": {
            "tags": []
          },
          "execution_count": 36
        }
      ]
    },
    {
      "cell_type": "code",
      "metadata": {
        "id": "VE1uCASrgWho",
        "colab_type": "code",
        "colab": {}
      },
      "source": [
        "# Splitting the dataset into male and female\n",
        "dataset_male = dataset[dataset[\"Sex\"] == \"M\"]\n",
        "dataset_female = dataset[dataset[\"Sex\"] == \"F\"]"
      ],
      "execution_count": 0,
      "outputs": []
    },
    {
      "cell_type": "code",
      "metadata": {
        "id": "9NGhSY5rTZK-",
        "colab_type": "code",
        "colab": {}
      },
      "source": [
        "X = dataset.iloc[ : , 1].values\n",
        "y = dataset.iloc[: ,  2].values\n",
        "X_male = dataset_male.iloc[ : , 1].values\n",
        "y_male = dataset_male.iloc[: , 2].values\n",
        "X_female = dataset_female.iloc[ : , 1].values\n",
        "y_female = dataset_female.iloc[: , 2].values\n",
        "X_logistic = dataset.iloc[ : , [1,2]].values\n",
        "y_logistic = dataset.iloc[ : , 0].values"
      ],
      "execution_count": 0,
      "outputs": []
    },
    {
      "cell_type": "code",
      "metadata": {
        "id": "RLEGzADPUiMF",
        "colab_type": "code",
        "colab": {}
      },
      "source": [
        "# Linear Regression for first 3 hw problems "
      ],
      "execution_count": 0,
      "outputs": []
    },
    {
      "cell_type": "code",
      "metadata": {
        "id": "GnFMIGnCU7s6",
        "colab_type": "code",
        "colab": {}
      },
      "source": [
        "from sklearn.model_selection import train_test_split \n",
        "X_train, X_test, y_train, y_test = train_test_split(X, y, test_size = 1/5, random_state = 0)\n",
        "X_male_train, X_male_test, y_male_train, y_male_test = train_test_split(X_male, y_male, test_size = 1/5, random_state = 0)\n",
        "X_female_train, X_female_test, y_female_train, y_female_test = train_test_split(X_female, y_female, test_size = 1/5, random_state = 0)"
      ],
      "execution_count": 0,
      "outputs": []
    },
    {
      "cell_type": "code",
      "metadata": {
        "id": "ENUfx3GoVfMW",
        "colab_type": "code",
        "colab": {
          "base_uri": "https://localhost:8080/",
          "height": 34
        },
        "outputId": "90562e09-7d9f-401f-8fe4-d7f095ab1724"
      },
      "source": [
        "# Fitting the model using the training data\n",
        "from sklearn.linear_model import LinearRegression \n",
        "lm = LinearRegression()\n",
        "lm.fit(X_train.reshape(-1, 1), y_train)\n",
        "lm_male = LinearRegression()\n",
        "lm_male.fit(X_male_train.reshape(-1, 1), y_male_train)\n",
        "lm_female = LinearRegression()\n",
        "lm_female.fit(X_female_train.reshape(-1, 1), y_female_train)"
      ],
      "execution_count": 19,
      "outputs": [
        {
          "output_type": "execute_result",
          "data": {
            "text/plain": [
              "LinearRegression(copy_X=True, fit_intercept=True, n_jobs=None, normalize=False)"
            ]
          },
          "metadata": {
            "tags": []
          },
          "execution_count": 19
        }
      ]
    },
    {
      "cell_type": "code",
      "metadata": {
        "id": "_aK1TycFWjVc",
        "colab_type": "code",
        "colab": {}
      },
      "source": [
        "y_pred = lm.predict(X_test.reshape(-1, 1))\n",
        "y_male_pred = lm_male.predict(X_male_test.reshape(-1, 1))\n",
        "y_female_pred = lm_female.predict(X_female_test.reshape(-1, 1))"
      ],
      "execution_count": 0,
      "outputs": []
    },
    {
      "cell_type": "code",
      "metadata": {
        "id": "XYlK5QF_XEdt",
        "colab_type": "code",
        "colab": {
          "base_uri": "https://localhost:8080/",
          "height": 463
        },
        "outputId": "36777a09-5386-4aec-c005-acf86ae399a3"
      },
      "source": [
        "plt.scatter(X_male_train.reshape(-1,1), y_male_train, color = 'red')\n",
        "plt.plot(X_male_train.reshape(-1,1), lm_male.predict(X_male_train.reshape(-1,1)), color='blue')\n",
        "plt.title(\"Hwt vs Bwt(Male)\")\n",
        "plt.xlabel(\"Bwt\")\n",
        "plt.ylabel(\"Hwt\")\n",
        "plt.show()\n",
        "print(\"***************************************\")\n",
        "print(\"Reg coefficient(Male):\")\n",
        "print(lm_male.coef_)\n",
        "print(\"***************************************\")\n",
        "print(\"Reg Intercept(Male):\")\n",
        "print(lm_male.intercept_)\n",
        "print(\"***************************************\")\n",
        "print(\"Mean Squared Error(Male):\")\n",
        "print(mean_squared_error(y_male_test, y_male_pred))\n",
        "print(\"***************************************\")"
      ],
      "execution_count": 31,
      "outputs": [
        {
          "output_type": "display_data",
          "data": {
            "image/png": "[encoded data removed]",
            "text/plain": [
              "<Figure size 432x288 with 1 Axes>"
            ]
          },
          "metadata": {
            "tags": []
          }
        },
        {
          "output_type": "stream",
          "text": [
            "***************************************\n",
            "Reg coefficient(Male):\n",
            "[4.72369854]\n",
            "***************************************\n",
            "Reg Intercept(Male):\n",
            "-2.398896910103616\n",
            "***************************************\n",
            "Mean Squared Error(Male):\n",
            "2.47652342768079\n",
            "***************************************\n"
          ],
          "name": "stdout"
        }
      ]
    },
    {
      "cell_type": "code",
      "metadata": {
        "id": "C8wmU-tmZgeG",
        "colab_type": "code",
        "colab": {
          "base_uri": "https://localhost:8080/",
          "height": 463
        },
        "outputId": "11506c6b-56fe-46e2-96dd-6989a2601e36"
      },
      "source": [
        "plt.scatter(X_female_train.reshape(-1,1), y_female_train, color = 'red')\n",
        "plt.plot(X_female_train.reshape(-1,1), lm_female.predict(X_female_train.reshape(-1,1)), color='blue')\n",
        "plt.title(\"Hwt vs Bwt(Female)\")\n",
        "plt.xlabel(\"Bwt\")\n",
        "plt.ylabel(\"Hwt\")\n",
        "plt.show()\n",
        "print(\"***************************************\")\n",
        "print(\"Reg coefficient(Female):\")\n",
        "print(lm_female.coef_)\n",
        "print(\"***************************************\")\n",
        "print(\"Reg Intercept(Female):\")\n",
        "print(lm_female.intercept_)\n",
        "print(\"***************************************\")\n",
        "print(\"Mean Squared Error(Female):\")\n",
        "print(mean_squared_error(y_female_test, y_female_pred))\n",
        "print(\"***************************************\")"
      ],
      "execution_count": 32,
      "outputs": [
        {
          "output_type": "display_data",
          "data": {
            "image/png": "[encoded data removed]",
            "text/plain": [
              "<Figure size 432x288 with 1 Axes>"
            ]
          },
          "metadata": {
            "tags": []
          }
        },
        {
          "output_type": "stream",
          "text": [
            "***************************************\n",
            "Reg coefficient(Female):\n",
            "[2.81510752]\n",
            "***************************************\n",
            "Reg Intercept(Female):\n",
            "2.6512589597500487\n",
            "***************************************\n",
            "Mean Squared Error(Female):\n",
            "2.028957037449837\n",
            "***************************************\n"
          ],
          "name": "stdout"
        }
      ]
    },
    {
      "cell_type": "code",
      "metadata": {
        "colab_type": "code",
        "outputId": "bed989a4-9e45-4bf0-820e-68800f24e59c",
        "id": "s-PHLuoGa8-z",
        "colab": {
          "base_uri": "https://localhost:8080/",
          "height": 463
        }
      },
      "source": [
        "plt.scatter(X_train.reshape(-1,1), y_train, color = 'red')\n",
        "plt.plot(X_train.reshape(-1,1), lm.predict(X_train.reshape(-1,1)), color='blue')\n",
        "plt.title(\"Hwt vs Bwt\")\n",
        "plt.xlabel(\"Bwt\")\n",
        "plt.ylabel(\"Hwt\")\n",
        "plt.show()\n",
        "print(\"***************************************\")\n",
        "print(\"Reg coefficient:\")\n",
        "print(lm.coef_)\n",
        "print(\"***************************************\")\n",
        "print(\"Reg Intercept:\")\n",
        "print(lm.intercept_)\n",
        "print(\"***************************************\")\n",
        "print(\"Mean Squared Error:\")\n",
        "print(mean_squared_error(y_test, y_pred))\n",
        "print(\"***************************************\")"
      ],
      "execution_count": 0,
      "outputs": [
        {
          "output_type": "display_data",
          "data": {
            "image/png": "[encoded data removed]",
            "text/plain": [
              "<Figure size 432x288 with 1 Axes>"
            ]
          },
          "metadata": {
            "tags": []
          }
        },
        {
          "output_type": "stream",
          "text": [
            "***************************************\n",
            "Reg coefficient:\n",
            "[4.2396017]\n",
            "***************************************\n",
            "Reg Intercept:\n",
            "-0.870955574722263\n",
            "***************************************\n",
            "Mean Squared Error:\n",
            "1.1279245231354464\n",
            "***************************************\n"
          ],
          "name": "stdout"
        }
      ]
    },
    {
      "cell_type": "code",
      "metadata": {
        "id": "J6mQ_YtVa_HM",
        "colab_type": "code",
        "colab": {
          "base_uri": "https://localhost:8080/",
          "height": 134
        },
        "outputId": "24a5be02-be31-4347-cc21-7c88c40628c1"
      },
      "source": [
        "# Logistic Regression \n",
        "\n",
        "# Level Encoding Male and Female \n",
        "from sklearn.preprocessing import LabelEncoder, OneHotEncoder\n",
        "myLabelEncoder = LabelEncoder()\n",
        "y_logistic  = myLabelEncoder.fit_transform(y_logistic)\n",
        "y_logistic"
      ],
      "execution_count": 38,
      "outputs": [
        {
          "output_type": "execute_result",
          "data": {
            "text/plain": [
              "array([0, 0, 0, 0, 0, 0, 0, 0, 0, 0, 0, 0, 0, 0, 0, 0, 0, 0, 0, 0, 0, 0,\n",
              "       0, 0, 0, 0, 0, 0, 0, 0, 0, 0, 0, 0, 0, 0, 0, 0, 0, 0, 0, 0, 0, 0,\n",
              "       0, 0, 0, 1, 1, 1, 1, 1, 1, 1, 1, 1, 1, 1, 1, 1, 1, 1, 1, 1, 1, 1,\n",
              "       1, 1, 1, 1, 1, 1, 1, 1, 1, 1, 1, 1, 1, 1, 1, 1, 1, 1, 1, 1, 1, 1,\n",
              "       1, 1, 1, 1, 1, 1, 1, 1, 1, 1, 1, 1, 1, 1, 1, 1, 1, 1, 1, 1, 1, 1,\n",
              "       1, 1, 1, 1, 1, 1, 1, 1, 1, 1, 1, 1, 1, 1, 1, 1, 1, 1, 1, 1, 1, 1,\n",
              "       1, 1, 1, 1, 1, 1, 1, 1, 1, 1, 1, 1])"
            ]
          },
          "metadata": {
            "tags": []
          },
          "execution_count": 38
        }
      ]
    },
    {
      "cell_type": "code",
      "metadata": {
        "id": "4q4CA3vbb4NK",
        "colab_type": "code",
        "colab": {}
      },
      "source": [
        "X_logistic_train, X_logistic_test, y_logistic_train, y_logistic_test =  train_test_split(X_logistic,y_logistic, test_size = 0.20, random_state=5 )"
      ],
      "execution_count": 0,
      "outputs": []
    },
    {
      "cell_type": "code",
      "metadata": {
        "id": "O06qSK9McZx3",
        "colab_type": "code",
        "colab": {}
      },
      "source": [
        "# Feature Scaling \n",
        "from sklearn.preprocessing import StandardScaler\n",
        "sc = StandardScaler()\n",
        "X_logistic_train = sc.fit_transform(X_logistic_train)\n",
        "X_logistic_test = sc.fit_transform(X_logistic_test)"
      ],
      "execution_count": 0,
      "outputs": []
    },
    {
      "cell_type": "code",
      "metadata": {
        "id": "P7EogopectlQ",
        "colab_type": "code",
        "colab": {
          "base_uri": "https://localhost:8080/",
          "height": 154
        },
        "outputId": "3f35a049-85a1-4fe6-8406-4d35ee05d0cd"
      },
      "source": [
        "from sklearn.linear_model import LogisticRegression \n",
        "classifier = LogisticRegression(random_state = 1)\n",
        "classifier.fit(X_logistic_train, y_logistic_train)"
      ],
      "execution_count": 51,
      "outputs": [
        {
          "output_type": "stream",
          "text": [
            "/usr/local/lib/python3.6/dist-packages/sklearn/linear_model/logistic.py:432: FutureWarning: Default solver will be changed to 'lbfgs' in 0.22. Specify a solver to silence this warning.\n",
            "  FutureWarning)\n"
          ],
          "name": "stderr"
        },
        {
          "output_type": "execute_result",
          "data": {
            "text/plain": [
              "LogisticRegression(C=1.0, class_weight=None, dual=False, fit_intercept=True,\n",
              "                   intercept_scaling=1, l1_ratio=None, max_iter=100,\n",
              "                   multi_class='warn', n_jobs=None, penalty='l2',\n",
              "                   random_state=1, solver='warn', tol=0.0001, verbose=0,\n",
              "                   warm_start=False)"
            ]
          },
          "metadata": {
            "tags": []
          },
          "execution_count": 51
        }
      ]
    },
    {
      "cell_type": "code",
      "metadata": {
        "id": "MP-b7faedBXZ",
        "colab_type": "code",
        "colab": {}
      },
      "source": [
        "y_logistic_pred = classifier.predict(X_logistic_test)"
      ],
      "execution_count": 0,
      "outputs": []
    },
    {
      "cell_type": "code",
      "metadata": {
        "id": "UBJkhdvxdG-N",
        "colab_type": "code",
        "colab": {
          "base_uri": "https://localhost:8080/",
          "height": 50
        },
        "outputId": "d238834b-a0de-4d8d-cadd-acd4c66189f2"
      },
      "source": [
        "from sklearn.metrics import confusion_matrix \n",
        "cm  = confusion_matrix(y_logistic_test, y_logistic_pred)\n",
        "cm"
      ],
      "execution_count": 53,
      "outputs": [
        {
          "output_type": "execute_result",
          "data": {
            "text/plain": [
              "array([[ 5,  2],\n",
              "       [ 7, 15]])"
            ]
          },
          "metadata": {
            "tags": []
          },
          "execution_count": 53
        }
      ]
    }
  ]
}