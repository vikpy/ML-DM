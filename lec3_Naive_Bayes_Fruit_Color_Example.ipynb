{
  "nbformat": 4,
  "nbformat_minor": 0,
  "metadata": {
    "kernelspec": {
      "display_name": "Python 3",
      "language": "python",
      "name": "python3"
    },
    "language_info": {
      "codemirror_mode": {
        "name": "ipython",
        "version": 3
      },
      "file_extension": ".py",
      "mimetype": "text/x-python",
      "name": "python",
      "nbconvert_exporter": "python",
      "pygments_lexer": "ipython3",
      "version": "3.6.2"
    },
    "colab": {
      "name": "lec3_Naive_Bayes_Fruit_Color_Example.ipynb",
      "provenance": [],
      "collapsed_sections": [],
      "include_colab_link": true
    }
  },
  "cells": [
    {
      "cell_type": "markdown",
      "metadata": {
        "id": "view-in-github",
        "colab_type": "text"
      },
      "source": [
        "<a href=\"https://colab.research.google.com/github/vikpy/mtechdatascience_mlcourse/blob/master/lec3_Naive_Bayes_Fruit_Color_Example.ipynb\" target=\"_parent\"><img src=\"https://colab.research.google.com/assets/colab-badge.svg\" alt=\"Open In Colab\"/></a>"
      ]
    },
    {
      "cell_type": "code",
      "metadata": {
        "id": "n_28iB8Wadl6",
        "colab_type": "code",
        "colab": {
          "base_uri": "https://localhost:8080/",
          "height": 121
        },
        "outputId": "d298c2a5-6b1d-4e14-8a88-a3cdc089d2b7"
      },
      "source": [
        "from google.colab import drive\n",
        "drive.mount('/content/drive')"
      ],
      "execution_count": 1,
      "outputs": [
        {
          "output_type": "stream",
          "text": [
            "Go to this URL in a browser: https://accounts.google.com/o/oauth2/auth?client_id=947318989803-6bn6qk8qdgf4n4g3pfee6491hc0brc4i.apps.googleusercontent.com&redirect_uri=urn%3aietf%3awg%3aoauth%3a2.0%3aoob&response_type=code&scope=email%20https%3a%2f%2fwww.googleapis.com%2fauth%2fdocs.test%20https%3a%2f%2fwww.googleapis.com%2fauth%2fdrive%20https%3a%2f%2fwww.googleapis.com%2fauth%2fdrive.photos.readonly%20https%3a%2f%2fwww.googleapis.com%2fauth%2fpeopleapi.readonly\n",
            "\n",
            "Enter your authorization code:\n",
            "··········\n",
            "Mounted at /content/drive\n"
          ],
          "name": "stdout"
        }
      ]
    },
    {
      "cell_type": "code",
      "metadata": {
        "id": "9VyuquSNaOwr",
        "colab_type": "code",
        "colab": {}
      },
      "source": [
        "#import pandas\n",
        "import pandas as pd\n",
        "col_names = ['fruit_label','fruit_name','fruit_subtype','mass','width','height','color_score']\n",
        "# load dataset\n",
        "pima = pd.read_csv(\"/content/drive/My Drive/data_ml_course/fruit_data_with_colors_upd.txt\",delimiter=\"\\t\", skiprows=[0], header=None, names=col_names)"
      ],
      "execution_count": 0,
      "outputs": []
    },
    {
      "cell_type": "code",
      "metadata": {
        "id": "Qvbf5fHsaOw2",
        "colab_type": "code",
        "colab": {
          "base_uri": "https://localhost:8080/",
          "height": 1000
        },
        "outputId": "3d81b959-d008-48c2-fdf0-c60c5d5c61a0"
      },
      "source": [
        "pima.head()\n",
        "pima"
      ],
      "execution_count": 3,
      "outputs": [
        {
          "output_type": "execute_result",
          "data": {
            "text/html": [
              "<div>\n",
              "<style scoped>\n",
              "    .dataframe tbody tr th:only-of-type {\n",
              "        vertical-align: middle;\n",
              "    }\n",
              "\n",
              "    .dataframe tbody tr th {\n",
              "        vertical-align: top;\n",
              "    }\n",
              "\n",
              "    .dataframe thead th {\n",
              "        text-align: right;\n",
              "    }\n",
              "</style>\n",
              "<table border=\"1\" class=\"dataframe\">\n",
              "  <thead>\n",
              "    <tr style=\"text-align: right;\">\n",
              "      <th></th>\n",
              "      <th>fruit_label</th>\n",
              "      <th>fruit_name</th>\n",
              "      <th>fruit_subtype</th>\n",
              "      <th>mass</th>\n",
              "      <th>width</th>\n",
              "      <th>height</th>\n",
              "      <th>color_score</th>\n",
              "    </tr>\n",
              "  </thead>\n",
              "  <tbody>\n",
              "    <tr>\n",
              "      <th>0</th>\n",
              "      <td>1</td>\n",
              "      <td>apple</td>\n",
              "      <td>granny_smith</td>\n",
              "      <td>192</td>\n",
              "      <td>8.4</td>\n",
              "      <td>7.3</td>\n",
              "      <td>0.55</td>\n",
              "    </tr>\n",
              "    <tr>\n",
              "      <th>1</th>\n",
              "      <td>1</td>\n",
              "      <td>apple</td>\n",
              "      <td>granny_smith</td>\n",
              "      <td>180</td>\n",
              "      <td>8.0</td>\n",
              "      <td>6.8</td>\n",
              "      <td>0.59</td>\n",
              "    </tr>\n",
              "    <tr>\n",
              "      <th>2</th>\n",
              "      <td>1</td>\n",
              "      <td>apple</td>\n",
              "      <td>granny_smith</td>\n",
              "      <td>176</td>\n",
              "      <td>7.4</td>\n",
              "      <td>7.2</td>\n",
              "      <td>0.60</td>\n",
              "    </tr>\n",
              "    <tr>\n",
              "      <th>3</th>\n",
              "      <td>1</td>\n",
              "      <td>apple</td>\n",
              "      <td>braeburn</td>\n",
              "      <td>178</td>\n",
              "      <td>7.1</td>\n",
              "      <td>7.8</td>\n",
              "      <td>0.92</td>\n",
              "    </tr>\n",
              "    <tr>\n",
              "      <th>4</th>\n",
              "      <td>1</td>\n",
              "      <td>apple</td>\n",
              "      <td>braeburn</td>\n",
              "      <td>172</td>\n",
              "      <td>7.4</td>\n",
              "      <td>7.0</td>\n",
              "      <td>0.89</td>\n",
              "    </tr>\n",
              "    <tr>\n",
              "      <th>5</th>\n",
              "      <td>1</td>\n",
              "      <td>apple</td>\n",
              "      <td>braeburn</td>\n",
              "      <td>166</td>\n",
              "      <td>6.9</td>\n",
              "      <td>7.3</td>\n",
              "      <td>0.93</td>\n",
              "    </tr>\n",
              "    <tr>\n",
              "      <th>6</th>\n",
              "      <td>1</td>\n",
              "      <td>apple</td>\n",
              "      <td>braeburn</td>\n",
              "      <td>172</td>\n",
              "      <td>7.1</td>\n",
              "      <td>7.6</td>\n",
              "      <td>0.92</td>\n",
              "    </tr>\n",
              "    <tr>\n",
              "      <th>7</th>\n",
              "      <td>1</td>\n",
              "      <td>apple</td>\n",
              "      <td>braeburn</td>\n",
              "      <td>154</td>\n",
              "      <td>7.0</td>\n",
              "      <td>7.1</td>\n",
              "      <td>0.88</td>\n",
              "    </tr>\n",
              "    <tr>\n",
              "      <th>8</th>\n",
              "      <td>1</td>\n",
              "      <td>apple</td>\n",
              "      <td>golden_delicious</td>\n",
              "      <td>164</td>\n",
              "      <td>7.3</td>\n",
              "      <td>7.7</td>\n",
              "      <td>0.70</td>\n",
              "    </tr>\n",
              "    <tr>\n",
              "      <th>9</th>\n",
              "      <td>1</td>\n",
              "      <td>apple</td>\n",
              "      <td>golden_delicious</td>\n",
              "      <td>152</td>\n",
              "      <td>7.6</td>\n",
              "      <td>7.3</td>\n",
              "      <td>0.69</td>\n",
              "    </tr>\n",
              "    <tr>\n",
              "      <th>10</th>\n",
              "      <td>1</td>\n",
              "      <td>apple</td>\n",
              "      <td>golden_delicious</td>\n",
              "      <td>156</td>\n",
              "      <td>7.7</td>\n",
              "      <td>7.1</td>\n",
              "      <td>0.69</td>\n",
              "    </tr>\n",
              "    <tr>\n",
              "      <th>11</th>\n",
              "      <td>1</td>\n",
              "      <td>apple</td>\n",
              "      <td>golden_delicious</td>\n",
              "      <td>156</td>\n",
              "      <td>7.6</td>\n",
              "      <td>7.5</td>\n",
              "      <td>0.67</td>\n",
              "    </tr>\n",
              "    <tr>\n",
              "      <th>12</th>\n",
              "      <td>1</td>\n",
              "      <td>apple</td>\n",
              "      <td>golden_delicious</td>\n",
              "      <td>168</td>\n",
              "      <td>7.5</td>\n",
              "      <td>7.6</td>\n",
              "      <td>0.73</td>\n",
              "    </tr>\n",
              "    <tr>\n",
              "      <th>13</th>\n",
              "      <td>1</td>\n",
              "      <td>apple</td>\n",
              "      <td>cripps_pink</td>\n",
              "      <td>162</td>\n",
              "      <td>7.5</td>\n",
              "      <td>7.1</td>\n",
              "      <td>0.83</td>\n",
              "    </tr>\n",
              "    <tr>\n",
              "      <th>14</th>\n",
              "      <td>1</td>\n",
              "      <td>apple</td>\n",
              "      <td>cripps_pink</td>\n",
              "      <td>162</td>\n",
              "      <td>7.4</td>\n",
              "      <td>7.2</td>\n",
              "      <td>0.85</td>\n",
              "    </tr>\n",
              "    <tr>\n",
              "      <th>15</th>\n",
              "      <td>1</td>\n",
              "      <td>apple</td>\n",
              "      <td>cripps_pink</td>\n",
              "      <td>160</td>\n",
              "      <td>7.5</td>\n",
              "      <td>7.5</td>\n",
              "      <td>0.86</td>\n",
              "    </tr>\n",
              "    <tr>\n",
              "      <th>16</th>\n",
              "      <td>1</td>\n",
              "      <td>apple</td>\n",
              "      <td>cripps_pink</td>\n",
              "      <td>156</td>\n",
              "      <td>7.4</td>\n",
              "      <td>7.4</td>\n",
              "      <td>0.84</td>\n",
              "    </tr>\n",
              "    <tr>\n",
              "      <th>17</th>\n",
              "      <td>1</td>\n",
              "      <td>apple</td>\n",
              "      <td>cripps_pink</td>\n",
              "      <td>140</td>\n",
              "      <td>7.3</td>\n",
              "      <td>7.1</td>\n",
              "      <td>0.87</td>\n",
              "    </tr>\n",
              "    <tr>\n",
              "      <th>18</th>\n",
              "      <td>1</td>\n",
              "      <td>apple</td>\n",
              "      <td>cripps_pink</td>\n",
              "      <td>170</td>\n",
              "      <td>7.6</td>\n",
              "      <td>7.9</td>\n",
              "      <td>0.88</td>\n",
              "    </tr>\n",
              "    <tr>\n",
              "      <th>19</th>\n",
              "      <td>3</td>\n",
              "      <td>orange</td>\n",
              "      <td>spanish_jumbo</td>\n",
              "      <td>342</td>\n",
              "      <td>9.0</td>\n",
              "      <td>9.4</td>\n",
              "      <td>0.75</td>\n",
              "    </tr>\n",
              "    <tr>\n",
              "      <th>20</th>\n",
              "      <td>3</td>\n",
              "      <td>orange</td>\n",
              "      <td>spanish_jumbo</td>\n",
              "      <td>356</td>\n",
              "      <td>9.2</td>\n",
              "      <td>9.2</td>\n",
              "      <td>0.75</td>\n",
              "    </tr>\n",
              "    <tr>\n",
              "      <th>21</th>\n",
              "      <td>3</td>\n",
              "      <td>orange</td>\n",
              "      <td>spanish_jumbo</td>\n",
              "      <td>362</td>\n",
              "      <td>9.6</td>\n",
              "      <td>9.2</td>\n",
              "      <td>0.74</td>\n",
              "    </tr>\n",
              "    <tr>\n",
              "      <th>22</th>\n",
              "      <td>3</td>\n",
              "      <td>orange</td>\n",
              "      <td>selected_seconds</td>\n",
              "      <td>204</td>\n",
              "      <td>7.5</td>\n",
              "      <td>9.2</td>\n",
              "      <td>0.77</td>\n",
              "    </tr>\n",
              "    <tr>\n",
              "      <th>23</th>\n",
              "      <td>3</td>\n",
              "      <td>orange</td>\n",
              "      <td>selected_seconds</td>\n",
              "      <td>140</td>\n",
              "      <td>6.7</td>\n",
              "      <td>7.1</td>\n",
              "      <td>0.72</td>\n",
              "    </tr>\n",
              "    <tr>\n",
              "      <th>24</th>\n",
              "      <td>3</td>\n",
              "      <td>orange</td>\n",
              "      <td>selected_seconds</td>\n",
              "      <td>160</td>\n",
              "      <td>7.0</td>\n",
              "      <td>7.4</td>\n",
              "      <td>0.81</td>\n",
              "    </tr>\n",
              "    <tr>\n",
              "      <th>25</th>\n",
              "      <td>3</td>\n",
              "      <td>orange</td>\n",
              "      <td>selected_seconds</td>\n",
              "      <td>158</td>\n",
              "      <td>7.1</td>\n",
              "      <td>7.5</td>\n",
              "      <td>0.79</td>\n",
              "    </tr>\n",
              "    <tr>\n",
              "      <th>26</th>\n",
              "      <td>3</td>\n",
              "      <td>orange</td>\n",
              "      <td>selected_seconds</td>\n",
              "      <td>210</td>\n",
              "      <td>7.8</td>\n",
              "      <td>8.0</td>\n",
              "      <td>0.82</td>\n",
              "    </tr>\n",
              "    <tr>\n",
              "      <th>27</th>\n",
              "      <td>3</td>\n",
              "      <td>orange</td>\n",
              "      <td>selected_seconds</td>\n",
              "      <td>164</td>\n",
              "      <td>7.2</td>\n",
              "      <td>7.0</td>\n",
              "      <td>0.80</td>\n",
              "    </tr>\n",
              "    <tr>\n",
              "      <th>28</th>\n",
              "      <td>3</td>\n",
              "      <td>orange</td>\n",
              "      <td>turkey_navel</td>\n",
              "      <td>190</td>\n",
              "      <td>7.5</td>\n",
              "      <td>8.1</td>\n",
              "      <td>0.74</td>\n",
              "    </tr>\n",
              "    <tr>\n",
              "      <th>29</th>\n",
              "      <td>3</td>\n",
              "      <td>orange</td>\n",
              "      <td>turkey_navel</td>\n",
              "      <td>142</td>\n",
              "      <td>7.6</td>\n",
              "      <td>7.8</td>\n",
              "      <td>0.75</td>\n",
              "    </tr>\n",
              "    <tr>\n",
              "      <th>30</th>\n",
              "      <td>3</td>\n",
              "      <td>orange</td>\n",
              "      <td>turkey_navel</td>\n",
              "      <td>150</td>\n",
              "      <td>7.1</td>\n",
              "      <td>7.9</td>\n",
              "      <td>0.75</td>\n",
              "    </tr>\n",
              "    <tr>\n",
              "      <th>31</th>\n",
              "      <td>3</td>\n",
              "      <td>orange</td>\n",
              "      <td>turkey_navel</td>\n",
              "      <td>160</td>\n",
              "      <td>7.1</td>\n",
              "      <td>7.6</td>\n",
              "      <td>0.76</td>\n",
              "    </tr>\n",
              "    <tr>\n",
              "      <th>32</th>\n",
              "      <td>3</td>\n",
              "      <td>orange</td>\n",
              "      <td>turkey_navel</td>\n",
              "      <td>154</td>\n",
              "      <td>7.3</td>\n",
              "      <td>7.3</td>\n",
              "      <td>0.79</td>\n",
              "    </tr>\n",
              "    <tr>\n",
              "      <th>33</th>\n",
              "      <td>3</td>\n",
              "      <td>orange</td>\n",
              "      <td>turkey_navel</td>\n",
              "      <td>158</td>\n",
              "      <td>7.2</td>\n",
              "      <td>7.8</td>\n",
              "      <td>0.77</td>\n",
              "    </tr>\n",
              "    <tr>\n",
              "      <th>34</th>\n",
              "      <td>3</td>\n",
              "      <td>orange</td>\n",
              "      <td>turkey_navel</td>\n",
              "      <td>144</td>\n",
              "      <td>6.8</td>\n",
              "      <td>7.4</td>\n",
              "      <td>0.75</td>\n",
              "    </tr>\n",
              "    <tr>\n",
              "      <th>35</th>\n",
              "      <td>3</td>\n",
              "      <td>orange</td>\n",
              "      <td>turkey_navel</td>\n",
              "      <td>154</td>\n",
              "      <td>7.1</td>\n",
              "      <td>7.5</td>\n",
              "      <td>0.78</td>\n",
              "    </tr>\n",
              "    <tr>\n",
              "      <th>36</th>\n",
              "      <td>3</td>\n",
              "      <td>orange</td>\n",
              "      <td>turkey_navel</td>\n",
              "      <td>180</td>\n",
              "      <td>7.6</td>\n",
              "      <td>8.2</td>\n",
              "      <td>0.79</td>\n",
              "    </tr>\n",
              "    <tr>\n",
              "      <th>37</th>\n",
              "      <td>3</td>\n",
              "      <td>orange</td>\n",
              "      <td>turkey_navel</td>\n",
              "      <td>154</td>\n",
              "      <td>7.2</td>\n",
              "      <td>7.2</td>\n",
              "      <td>0.82</td>\n",
              "    </tr>\n",
              "  </tbody>\n",
              "</table>\n",
              "</div>"
            ],
            "text/plain": [
              "    fruit_label fruit_name     fruit_subtype  mass  width  height  color_score\n",
              "0             1      apple      granny_smith   192    8.4     7.3         0.55\n",
              "1             1      apple      granny_smith   180    8.0     6.8         0.59\n",
              "2             1      apple      granny_smith   176    7.4     7.2         0.60\n",
              "3             1      apple          braeburn   178    7.1     7.8         0.92\n",
              "4             1      apple          braeburn   172    7.4     7.0         0.89\n",
              "5             1      apple          braeburn   166    6.9     7.3         0.93\n",
              "6             1      apple          braeburn   172    7.1     7.6         0.92\n",
              "7             1      apple          braeburn   154    7.0     7.1         0.88\n",
              "8             1      apple  golden_delicious   164    7.3     7.7         0.70\n",
              "9             1      apple  golden_delicious   152    7.6     7.3         0.69\n",
              "10            1      apple  golden_delicious   156    7.7     7.1         0.69\n",
              "11            1      apple  golden_delicious   156    7.6     7.5         0.67\n",
              "12            1      apple  golden_delicious   168    7.5     7.6         0.73\n",
              "13            1      apple       cripps_pink   162    7.5     7.1         0.83\n",
              "14            1      apple       cripps_pink   162    7.4     7.2         0.85\n",
              "15            1      apple       cripps_pink   160    7.5     7.5         0.86\n",
              "16            1      apple       cripps_pink   156    7.4     7.4         0.84\n",
              "17            1      apple       cripps_pink   140    7.3     7.1         0.87\n",
              "18            1      apple       cripps_pink   170    7.6     7.9         0.88\n",
              "19            3     orange     spanish_jumbo   342    9.0     9.4         0.75\n",
              "20            3     orange     spanish_jumbo   356    9.2     9.2         0.75\n",
              "21            3     orange     spanish_jumbo   362    9.6     9.2         0.74\n",
              "22            3     orange  selected_seconds   204    7.5     9.2         0.77\n",
              "23            3     orange  selected_seconds   140    6.7     7.1         0.72\n",
              "24            3     orange  selected_seconds   160    7.0     7.4         0.81\n",
              "25            3     orange  selected_seconds   158    7.1     7.5         0.79\n",
              "26            3     orange  selected_seconds   210    7.8     8.0         0.82\n",
              "27            3     orange  selected_seconds   164    7.2     7.0         0.80\n",
              "28            3     orange      turkey_navel   190    7.5     8.1         0.74\n",
              "29            3     orange      turkey_navel   142    7.6     7.8         0.75\n",
              "30            3     orange      turkey_navel   150    7.1     7.9         0.75\n",
              "31            3     orange      turkey_navel   160    7.1     7.6         0.76\n",
              "32            3     orange      turkey_navel   154    7.3     7.3         0.79\n",
              "33            3     orange      turkey_navel   158    7.2     7.8         0.77\n",
              "34            3     orange      turkey_navel   144    6.8     7.4         0.75\n",
              "35            3     orange      turkey_navel   154    7.1     7.5         0.78\n",
              "36            3     orange      turkey_navel   180    7.6     8.2         0.79\n",
              "37            3     orange      turkey_navel   154    7.2     7.2         0.82"
            ]
          },
          "metadata": {
            "tags": []
          },
          "execution_count": 3
        }
      ]
    },
    {
      "cell_type": "code",
      "metadata": {
        "id": "qGmH1Y5laOw9",
        "colab_type": "code",
        "colab": {}
      },
      "source": [
        "#split dataset in features and target variable\n",
        "feature_cols = ['mass','width','height','color_score']\n",
        "X = pima[feature_cols] # Features\n",
        "y = pima.fruit_label # Target variable"
      ],
      "execution_count": 0,
      "outputs": []
    },
    {
      "cell_type": "code",
      "metadata": {
        "id": "VCR59ulgaOxC",
        "colab_type": "code",
        "colab": {}
      },
      "source": [
        "# split X and y into training and testing sets\n",
        "from sklearn import model_selection\n",
        "X_train,X_test,y_train,y_test=model_selection.train_test_split(X,y,test_size=0.25,random_state=0)"
      ],
      "execution_count": 0,
      "outputs": []
    },
    {
      "cell_type": "code",
      "metadata": {
        "id": "IGy_dKg3aOxF",
        "colab_type": "code",
        "colab": {}
      },
      "source": [
        "# import the class\n",
        "\n",
        "from sklearn.naive_bayes import GaussianNB\n",
        "\n",
        "# instantiate the model (using the default parameters)\n",
        "model = GaussianNB()\n",
        "\n",
        "# fit the model with data\n",
        "model.fit(X_train,y_train)\n",
        "\n",
        "#\n",
        "y_pred = model.predict(X_test)"
      ],
      "execution_count": 0,
      "outputs": []
    },
    {
      "cell_type": "code",
      "metadata": {
        "id": "t8siFOLzaOxI",
        "colab_type": "code",
        "colab": {
          "base_uri": "https://localhost:8080/",
          "height": 50
        },
        "outputId": "f7b243e0-4e43-4dce-a3e4-7d92d41a1695"
      },
      "source": [
        "# import the metrics class\n",
        "from sklearn import metrics\n",
        "cnf_matrix = metrics.confusion_matrix(y_test, y_pred)\n",
        "cnf_matrix"
      ],
      "execution_count": 7,
      "outputs": [
        {
          "output_type": "execute_result",
          "data": {
            "text/plain": [
              "array([[5, 0],\n",
              "       [1, 4]])"
            ]
          },
          "metadata": {
            "tags": []
          },
          "execution_count": 7
        }
      ]
    },
    {
      "cell_type": "code",
      "metadata": {
        "id": "qKKT3o6baOxL",
        "colab_type": "code",
        "colab": {}
      },
      "source": [
        "# import required modules\n",
        "import numpy as np\n",
        "import matplotlib.pyplot as plt\n",
        "import seaborn as sns\n",
        "%matplotlib inline"
      ],
      "execution_count": 0,
      "outputs": []
    },
    {
      "cell_type": "code",
      "metadata": {
        "id": "JZvk9zeVaOxN",
        "colab_type": "code",
        "colab": {
          "base_uri": "https://localhost:8080/",
          "height": 338
        },
        "outputId": "c95f13e7-8a2b-4fe6-f7c3-c344da8d4763"
      },
      "source": [
        "class_names=[0,1] # name  of classes\n",
        "fig, ax = plt.subplots()\n",
        "tick_marks = np.arange(len(class_names))\n",
        "plt.xticks(tick_marks, class_names)\n",
        "plt.yticks(tick_marks, class_names)\n",
        "# create heatmap\n",
        "sns.heatmap(pd.DataFrame(cnf_matrix), annot=True, cmap=\"YlGnBu\" ,fmt='g')\n",
        "ax.xaxis.set_label_position(\"top\")\n",
        "plt.tight_layout()\n",
        "plt.title('Confusion matrix', y=1.1)\n",
        "plt.ylabel('Actual label')\n",
        "plt.xlabel('Predicted label')"
      ],
      "execution_count": 16,
      "outputs": [
        {
          "output_type": "execute_result",
          "data": {
            "text/plain": [
              "Text(0.5, 257.44, 'Predicted label')"
            ]
          },
          "metadata": {
            "tags": []
          },
          "execution_count": 16
        },
        {
          "output_type": "display_data",
          "data": {
            "image/png": "[encoded data removed]",
            "text/plain": [
              "<Figure size 432x288 with 2 Axes>"
            ]
          },
          "metadata": {
            "tags": []
          }
        }
      ]
    },
    {
      "cell_type": "code",
      "metadata": {
        "id": "18qJmQJ4aOxQ",
        "colab_type": "code",
        "colab": {
          "base_uri": "https://localhost:8080/",
          "height": 67
        },
        "outputId": "118d8b1e-8484-48e4-be93-2061fcdb56f0"
      },
      "source": [
        "print(\"Accuracy:\",metrics.accuracy_score(y_test, y_pred))\n",
        "print(\"Precision:\",metrics.precision_score(y_test, y_pred))\n",
        "print(\"Recall:\",metrics.recall_score(y_test, y_pred))"
      ],
      "execution_count": 10,
      "outputs": [
        {
          "output_type": "stream",
          "text": [
            "Accuracy: 0.9\n",
            "Precision: 0.8333333333333334\n",
            "Recall: 1.0\n"
          ],
          "name": "stdout"
        }
      ]
    },
    {
      "cell_type": "code",
      "metadata": {
        "id": "9c39sSm4aOxU",
        "colab_type": "code",
        "colab": {
          "base_uri": "https://localhost:8080/",
          "height": 67
        },
        "outputId": "17ec956f-89fc-4f67-fc14-0bf53abda0cf"
      },
      "source": [
        "y_pred_proba = model.predict_proba(X_test)[::,1]\n",
        "y_pred_proba"
      ],
      "execution_count": 11,
      "outputs": [
        {
          "output_type": "execute_result",
          "data": {
            "text/plain": [
              "array([9.99999986e-01, 7.19673846e-01, 9.38491679e-03, 1.40471623e-03,\n",
              "       1.09086300e-03, 1.00000000e+00, 9.94524523e-01, 7.22083267e-03,\n",
              "       1.70703021e-01, 1.86211121e-08])"
            ]
          },
          "metadata": {
            "tags": []
          },
          "execution_count": 11
        }
      ]
    },
    {
      "cell_type": "code",
      "metadata": {
        "id": "X_rzQ5TjaOxW",
        "colab_type": "code",
        "colab": {
          "base_uri": "https://localhost:8080/",
          "height": 202
        },
        "outputId": "d1eb62e3-c987-4af7-91bc-9cc34c7a334d"
      },
      "source": [
        "y_test"
      ],
      "execution_count": 12,
      "outputs": [
        {
          "output_type": "execute_result",
          "data": {
            "text/plain": [
              "22    3\n",
              "29    3\n",
              "16    1\n",
              "15    1\n",
              "11    1\n",
              "20    3\n",
              "26    3\n",
              "10    1\n",
              "25    3\n",
              "2     1\n",
              "Name: fruit_label, dtype: int64"
            ]
          },
          "metadata": {
            "tags": []
          },
          "execution_count": 12
        }
      ]
    }
  ]
}